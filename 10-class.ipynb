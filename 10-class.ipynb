{
 "cells": [
  {
   "cell_type": "markdown",
   "metadata": {},
   "source": [
    "# 面向对象编程简介\n",
    "2019.09.23 reviewed   \n",
    "\n",
    "* **面向对象编程** 是最有效的软件编写方法之一。在面向对象编程中，你编写表示现实世界中的事物和情景的 **类** 并基于这些类来创建对象。编写类时，你定义一大类对象都有的通用行为。基于类创建 **对象** 时，每个对象都自动具备这种通用行为，然后可根据需要赋予每个对象独特的个性。使用面向对象编程可模拟现实情景，其逼真程度达到了令你惊讶的地步。  \n",
    "* 理解面向对象编程有助于你像程序员那样看世界，还可以帮助你真正明白自己编写的代码：不仅是各行代码的作用，还有代码背后更宏大的概念。了解类背后的概念可培养逻辑思维，让你能够通过编写程序来解决遇到的几乎任何问题。\n",
    "\n",
    "\n"
   ]
  },
  {
   "cell_type": "markdown",
   "metadata": {},
   "source": [
    "# 创建和使用类\n",
    "* 使用类几乎可以模拟任何东西。\n",
    "* 根据类来创建对象被称为 **实例化** ，这让你能够使用类的实例。\n",
    "* 创建类时,使用关键字class"
   ]
  },
  {
   "cell_type": "markdown",
   "metadata": {},
   "source": [
    "### 创建Dog类\n",
    "* 下面来编写一个表示小狗的简单类 Dog —— 它表示的不是特定的小狗，而是任何小狗。对于大多数宠物狗，我们都知道些什么呢？它们都有名字和年龄；我们还知道，大多数小狗还会蹲下和打滚。由于大多数小狗都具备上述两项信息（名字和年龄）和两种行为（蹲下和打滚），我们的 Dog 类将包含它们。这个类让Python 知道如何创建表示小狗的对象。编写这个类后，我们将使用它来创建表示特定小狗的实例。\n",
    "* 创建 Dog 类\n",
    "根据 Dog 类创建的每个实例都将存储名字和年龄。我们赋予了每条小狗蹲下（ sit() ）和打滚（ roll_over() ）的能力.   \n",
    "根据约定，在 Python 中，首字母大写的名称指的是类。这个类定义中的括号是空的，因为我们要从空白创建这个类.   \n",
    "类中的注释有助于我们对这个类的功能进行描述.\n"
   ]
  },
  {
   "cell_type": "code",
   "execution_count": 1,
   "metadata": {},
   "outputs": [],
   "source": [
    "class Dog():\n",
    "    \"\"\" 一次模拟小狗的简单尝试 \"\"\"\n",
    "    def __init__(self, name, age):\n",
    "        \"\"\" 初始化属性 name 和 age\"\"\"\n",
    "        self.name = name\n",
    "        self.age = age\n",
    "    def sit(self):\n",
    "        \"\"\" 模拟小狗被命令时蹲下 \"\"\"\n",
    "        print(self.name.title() + \" is now sitting.\")\n",
    "    def roll_over(self):\n",
    "        \"\"\" 模拟小狗被命令时打滚 \"\"\"\n",
    "        print(self.name.title() + \" rolled over!\")"
   ]
  },
  {
   "cell_type": "markdown",
   "metadata": {},
   "source": [
    "* 方法 \\_\\_init\\_\\_()   \n",
    "类中的函数称为 **方法** ；你前面学到的有关函数的一切都适用于方法，就目前而言，唯一重要的差别是调用方法的方式.   \n",
    "方法 \\_\\_init\\_\\_() 是一个特殊的方法，每当你根据 Dog 类创建新实例时， Python 都会自动运行它.    \n",
    "在这个方法的名称中，开头和末尾各有两个下划线，这是一种约定，旨在避免 Python 默认方法与普通方法发生名称冲突.\n",
    "\n",
    "* self 形参   \n",
    "Python 调用这个 \\_\\_init\\_\\_() 方法来创建 Dog 实例时，将自动传入实参 self.     \n",
    "形参 self 必不可少，还必须位于其他形参的前面.   \n",
    "每个与类相关联的方法调用都自动传递实参 self ，它是一个指向实例本身的引用，让实例能够访问类中的属性和方法.   \n",
    "我们创建 Dog 实例时， Python 将调用 Dog 类的方法 \\_\\_init\\_\\_(). 我们将通过实参向 Dog() 传递名字和年龄； self 会自动传递，因此我们不需要传递它.   \n",
    "每当我们根据 Dog 类创建实例时，都只需给最后两个形参（ name 和 age ）提供值.\n",
    "\n",
    "* 属性变量   \n",
    "初始化方法 \\_\\_init\\_\\_() 中定义的两个变量都有前缀self,以 self 为前缀的变量都可供类中的所有方法使用，我们还可以通过类的任何实例来访问这些变量. \n",
    "self.name = name 获取存储在形参 name 中的值，并将其存储到变量 name 中，然后该变量被关联到当前创建的实例. self.age = age 的作用与此类似.   \n",
    "像这样可通过实例访问的变量称为 **属性**.  \n",
    "\n",
    "* 类中的其他方法    \n",
    "Dog 类还定义了另外两个方法： sit() 和 roll_over().  \n",
    "由于这些方法不需要额外的信息，如名字或年龄，因此它们只有一个形参 self.   \n",
    "我们后面创建的实例将能够访问这些方法，换句话说，它们都会蹲下和打滚. 当前sit() 和 roll_over() 所做的有限，它们只是打印一条消息，指出小狗正蹲下或打滚.   \n",
    "但可以扩展这些方法以模拟实际情况：如果这个类包含在一个计算机游戏中,这些方法将包含创建小狗蹲下和打滚动画效果的代码.如果这个类是用于控制机器狗的,这些方法将引导机器狗做出蹲下和打滚的动作.\n",
    "\n"
   ]
  },
  {
   "cell_type": "markdown",
   "metadata": {},
   "source": [
    "### 根据类创建实例\n",
    "   \n",
    "可将类视为有关如何创建实例的说明. Dog 类是一系列说明，让 Python 知道如何创建表示特定小狗的实例.\n",
    "下面来创建一个表示特定小狗的实例.   \n",
    "\n",
    "* 创建实例  \n",
    "使用如下的语句,我们让 Python 创建一条名字为 'willie' 、年龄为 6 的小狗.   \n",
    "遇到这行代码时， Python 使用实参 'willie' 和 6 调用 Dog 类中的方法 \\_\\_init\\_\\_(). 方法 \\_\\_init\\_\\_() 创建一个表示特定小狗的实例,并使用我们提供的值来设置属性 name 和 age.   \n",
    "方法 \\_\\_init\\_\\_() 并未显式地包含 return 语句，但 Python 自动返回一个表示这条小狗的实例. 我们将这个实例存储在变量 my_dog 中.  \n",
    "\n",
    "* 命名约定  \n",
    "命名约定很有用：我们通常可以认为首字母大写的名称（如 Dog ）指的是类，而小写的名称（如 my_dog ）指的是根据类创建的实例"
   ]
  },
  {
   "cell_type": "code",
   "execution_count": 2,
   "metadata": {},
   "outputs": [
    {
     "name": "stdout",
     "output_type": "stream",
     "text": [
      "My dog's name is Willie.\n",
      "My dog is 6 years old.\n"
     ]
    }
   ],
   "source": [
    "my_dog = Dog('willie', 6)\n",
    "print(\"My dog's name is \" + my_dog.name.title() + \".\")\n",
    "print(\"My dog is \" + str(my_dog.age) + \" years old.\")\n",
    "# my_dog.name.title() 将 my_dog 的属性 name 的值 'willie' 改为首字母大写的；\n",
    "# str(my_dog.age) 将 my_dog 的属性 age 的值 6 转换为字符串. \n",
    "# 为了便于使用,改写为首字母大写和将int转换为字符串这些操作也可以直接放到类中的相应方法中去."
   ]
  },
  {
   "cell_type": "markdown",
   "metadata": {},
   "source": [
    "* 访问属性  \n",
    "要访问实例的属性，可使用**句点表示法**.     \n",
    "句点表示法在 Python 中很常用，这种语法演示了 Python 如何获悉属性的值.\n",
    "例如,使用句点表示法访问属性时, Python 先找到实例 my_dog, 再查找与这个实例相关联的属性 name. 在 Dog 类中引用这个属性时，使用的是 self.name. 我们使用同样的方法来获取属性 age 的值.  "
   ]
  },
  {
   "cell_type": "code",
   "execution_count": 3,
   "metadata": {},
   "outputs": [
    {
     "data": {
      "text/plain": [
       "'willie'"
      ]
     },
     "execution_count": 3,
     "metadata": {},
     "output_type": "execute_result"
    }
   ],
   "source": [
    "my_dog.name"
   ]
  },
  {
   "cell_type": "code",
   "execution_count": 4,
   "metadata": {},
   "outputs": [
    {
     "data": {
      "text/plain": [
       "6"
      ]
     },
     "execution_count": 4,
     "metadata": {},
     "output_type": "execute_result"
    }
   ],
   "source": [
    "my_dog.age"
   ]
  },
  {
   "cell_type": "markdown",
   "metadata": {},
   "source": [
    "* 调用方法   \n",
    "根据 Dog 类创建实例后，就可以使用句点表示法来调用 Dog 类中定义的任何方法.   \n",
    "要调用方法，可指定实例的名称（这里是 my_dog ）和要调用的方法，并用句点分隔它们. \n",
    "例如,遇到代码 my_dog.sit() 时， Python 在类 Dog 中查找方法 sit() 并运行其代码. Python 以同样的方式解读代码 my_dog.roll_over().  \n",
    "\n",
    "* 变量命名的重要性\n",
    "如果给属性和方法指定了合适的描述性名称，如 name 、 age 、 sit() 和 roll_over() ，即便是从未见过的代码块，我们也能够轻松地推断出它是做什么的, 否则,我们就需要附上详尽的注释."
   ]
  },
  {
   "cell_type": "code",
   "execution_count": 5,
   "metadata": {},
   "outputs": [
    {
     "name": "stdout",
     "output_type": "stream",
     "text": [
      "Willie is now sitting.\n"
     ]
    }
   ],
   "source": [
    "my_dog.sit()"
   ]
  },
  {
   "cell_type": "code",
   "execution_count": 6,
   "metadata": {},
   "outputs": [
    {
     "name": "stdout",
     "output_type": "stream",
     "text": [
      "Willie rolled over!\n"
     ]
    }
   ],
   "source": [
    "my_dog.roll_over()"
   ]
  },
  {
   "cell_type": "markdown",
   "metadata": {},
   "source": [
    "## 使用类和实例\n",
    "* 使用类可以模拟现实世界中的很多情景   \n",
    "类编写好后，你的大部分时间都将花在使用根据类创建的实例上. 你需要执行的一个重要任务是修改实例的属性.你可以直接修改实例的属性，也可以编写方法以特定的方式进行修改.   \n",
    "\n",
    "### Car类  \n",
    "接下来我们编写一个表示汽车的类，它存储了有关汽车的信息，还有一个汇总这些信息的方法.   \n",
    "我们定义了方法 __init__() 。与前面的 Dog 类中一样，这个方法的第一个形参为 self ；我们还在这个方法中包含了另外三个形参： make 、 model 和 year 。方法 __init__() 接受这些形参的值，并将它们存储在根据这个类创建的实例的属性中。创建新的 Car 实例时，我们需要指定其制造商、型号和生产年份.    \n",
    "我们定义了一个名为 get_descriptive_name() 的方法，它使用属性 year 、 make 和 model 创建一个对汽车进行描述的字符串，让我们无需分别打印每个属性的值。为在这个方法中访问属性的值，我们使用了 self.make 、 self.model 和 self.year 。在❸处，我们根据 Car 类创建了一个实例，并将其存储到变量 my_new_car中。接下来，我们调用方法 get_descriptive_name() ，指出我们拥有的是一辆什么样的汽车.   \n"
   ]
  },
  {
   "cell_type": "code",
   "execution_count": 7,
   "metadata": {},
   "outputs": [],
   "source": [
    "class Car():\n",
    "    \"\"\" 一次模拟汽车的简单尝试 \"\"\"\n",
    "    def __init__(self, make, model, year):\n",
    "        \"\"\" 初始化描述汽车的属性 \"\"\"\n",
    "        self.make = make\n",
    "        self.model = model\n",
    "        self.year = year\n",
    "    def get_descriptive_name(self):\n",
    "        \"\"\" 返回整洁的描述性信息 \"\"\"\n",
    "        long_name = str(self.year) + ' ' + self.make + ' ' + self.model\n",
    "        return long_name.title()"
   ]
  },
  {
   "cell_type": "code",
   "execution_count": 8,
   "metadata": {},
   "outputs": [
    {
     "name": "stdout",
     "output_type": "stream",
     "text": [
      "2016 Audi A4\n"
     ]
    }
   ],
   "source": [
    "# 根据Car类创建一个实例\n",
    "my_new_car = Car('audi', 'a4', 2016)\n",
    "print(my_new_car.get_descriptive_name())"
   ]
  },
  {
   "cell_type": "markdown",
   "metadata": {},
   "source": [
    "为让这个类更有趣，下面给它添加一个随时间变化的属性，它存储汽车的总里程。   \n",
    "### 给属性指定默认值   \n",
    "类中的每个属性都必须有初始值，哪怕这个值是 0 或空字符串.     \n",
    "在有些情况下，如设置默认值时，在方法 \\_\\_init\\_\\_() 内指定这种初始值是可行的；如果你对某个属性这样做了，就无需包含为它提供初始值的形参.   \n",
    "下面来添加一个名为 odometer_reading 的属性，其初始值总是为 0. 我们还添加了一个名为 read_odometer() 的方法，用于读取汽车的里程表.   \n"
   ]
  },
  {
   "cell_type": "code",
   "execution_count": 9,
   "metadata": {},
   "outputs": [],
   "source": [
    "class Car():\n",
    "    \"\"\" 一次模拟汽车的简单尝试 \"\"\"\n",
    "    def __init__(self, make, model, year):\n",
    "        \"\"\" 初始化描述汽车的属性 \"\"\"\n",
    "        self.make = make\n",
    "        self.model = model\n",
    "        self.year = year\n",
    "        self.odometer_reading = 0\n",
    "    def get_descriptive_name(self):\n",
    "        \"\"\" 返回整洁的描述性信息 \"\"\"\n",
    "        long_name = str(self.year) + ' ' + self.make + ' ' + self.model\n",
    "        return long_name.title()\n",
    "    def read_odometer(self):\n",
    "        \"\"\" 打印一条指出汽车里程的消息 \"\"\"\n",
    "        print(\"This car has \" + str(self.odometer_reading) + \" miles on it.\")"
   ]
  },
  {
   "cell_type": "markdown",
   "metadata": {},
   "source": [
    "现在，当 Python 调用方法 __init__() 来创建新实例时，将像前一个示例一样以属性的方式存储制造商、型号和生产年份.  \n",
    "接下来， Python 将创建一个名为 odometer_reading 的属性，并将其初始值设置为 0."
   ]
  },
  {
   "cell_type": "code",
   "execution_count": 10,
   "metadata": {},
   "outputs": [
    {
     "name": "stdout",
     "output_type": "stream",
     "text": [
      "2016 Audi A4\n",
      "This car has 0 miles on it.\n"
     ]
    }
   ],
   "source": [
    "my_new_car = Car('audi', 'a4', 2016)\n",
    "print(my_new_car.get_descriptive_name())\n",
    "my_new_car.read_odometer()"
   ]
  },
  {
   "cell_type": "markdown",
   "metadata": {},
   "source": [
    "我们需要一个修改里程表读数这个属性的值的途径.接下来,我们定义一个名为 read_odometer() 的方法，它让你能够轻松地获悉汽车的里程。 \n",
    " \n",
    "### 修改属性的值    \n",
    "可以以三种不同的方式修改属性的值：直接通过实例进行修改；通过方法进行设置；通过方法进行递增（增加特定的值）。下面依次介绍这些方法:   \n",
    "* 1.直接修改属性的值      \n",
    "  要修改属性的值，最简单的方式是通过实例直接访问它.     \n",
    "  例如使用代码  my_new_car.odometer_reading = 23 来直接修改里程表读数.     "
   ]
  },
  {
   "cell_type": "code",
   "execution_count": 12,
   "metadata": {},
   "outputs": [
    {
     "name": "stdout",
     "output_type": "stream",
     "text": [
      "2016 Audi A4\n"
     ]
    }
   ],
   "source": [
    "my_new_car = Car('audi', 'a4', 2016)\n",
    "print(my_new_car.get_descriptive_name())"
   ]
  },
  {
   "cell_type": "code",
   "execution_count": 13,
   "metadata": {},
   "outputs": [
    {
     "name": "stdout",
     "output_type": "stream",
     "text": [
      "This car has 23 miles on it.\n"
     ]
    }
   ],
   "source": [
    "my_new_car.odometer_reading = 23\n",
    "my_new_car.read_odometer()"
   ]
  },
  {
   "cell_type": "markdown",
   "metadata": {},
   "source": [
    "* 2.通过方法修改属性的值     \n",
    "  如果有替你更新属性的方法，将大有裨益.这样，你就无需直接访问属性，而可将值传递给一个方法，由它在内部进行更新。   \n",
    "  但很多时候这种做法是需要被禁止的---没人希望购买到一辆被调过里程表的二手车.   "
   ]
  },
  {
   "cell_type": "code",
   "execution_count": 14,
   "metadata": {},
   "outputs": [],
   "source": [
    "class Car():\n",
    "    \"\"\" 一次模拟汽车的简单尝试 \"\"\"\n",
    "    def __init__(self, make, model, year):\n",
    "        \"\"\" 初始化描述汽车的属性 \"\"\"\n",
    "        self.make = make\n",
    "        self.model = model\n",
    "        self.year = year\n",
    "        self.odometer_reading = 0\n",
    "    def get_descriptive_name(self):\n",
    "        \"\"\" 返回整洁的描述性信息 \"\"\"\n",
    "        long_name = str(self.year) + ' ' + self.make + ' ' + self.model\n",
    "        return long_name.title()\n",
    "    def read_odometer(self):\n",
    "        \"\"\" 打印一条指出汽车里程的消息 \"\"\"\n",
    "        print(\"This car has \" + str(self.odometer_reading) + \" miles on it.\")\n",
    "    def update_odometer(self, mileage):\n",
    "        \"\"\"\n",
    "        将里程表读数设置为指定的值\n",
    "        禁止将里程表读数往回调\n",
    "        \"\"\"\n",
    "        self.odometer_reading = mileage\n"
   ]
  },
  {
   "cell_type": "code",
   "execution_count": 15,
   "metadata": {},
   "outputs": [
    {
     "name": "stdout",
     "output_type": "stream",
     "text": [
      "2016 Audi A4\n"
     ]
    }
   ],
   "source": [
    "my_new_car = Car('audi', 'a4', 2016)\n",
    "print(my_new_car.get_descriptive_name())"
   ]
  },
  {
   "cell_type": "code",
   "execution_count": 16,
   "metadata": {},
   "outputs": [
    {
     "name": "stdout",
     "output_type": "stream",
     "text": [
      "This car has 23 miles on it.\n"
     ]
    }
   ],
   "source": [
    "my_new_car.update_odometer(23)\n",
    "my_new_car.read_odometer()"
   ]
  },
  {
   "cell_type": "markdown",
   "metadata": {},
   "source": [
    "添加的方法 update_odometer()接受一个里程值，并将其存储到 self.odometer_reading 中.   \n",
    "通过调用 update_odometer() ，并向它提供了实参 23 （该实参对应于方法定义中的形参 mileage ）,该方法将里程表读数设置为 23.   \n",
    "方法 read_odometer() 打印该读数.   \n",
    "\n",
    "还可以对方法 update_odometer() 进行扩展，使其在修改里程表读数时做些额外的工作, 例如下面来添加一些逻辑，禁止任何人将里程表读数往回调."
   ]
  },
  {
   "cell_type": "code",
   "execution_count": 17,
   "metadata": {},
   "outputs": [],
   "source": [
    "class Car():\n",
    "    \"\"\" 一次模拟汽车的简单尝试 \"\"\"\n",
    "    def __init__(self, make, model, year):\n",
    "        \"\"\" 初始化描述汽车的属性 \"\"\"\n",
    "        self.make = make\n",
    "        self.model = model\n",
    "        self.year = year\n",
    "        self.odometer_reading = 0\n",
    "    def get_descriptive_name(self):\n",
    "        \"\"\" 返回整洁的描述性信息 \"\"\"\n",
    "        long_name = str(self.year) + ' ' + self.make + ' ' + self.model\n",
    "        return long_name.title()\n",
    "    def read_odometer(self):\n",
    "        \"\"\" 打印一条指出汽车里程的消息 \"\"\"\n",
    "        print(\"This car has \" + str(self.odometer_reading) + \" miles on it.\")\n",
    "    def update_odometer(self, mileage):\n",
    "        \"\"\"\n",
    "        将里程表读数设置为指定的值\n",
    "        禁止将里程表读数往回调\n",
    "        \"\"\"\n",
    "        if mileage >= self.odometer_reading:\n",
    "            self.odometer_reading = mileage\n",
    "        else:\n",
    "            print(\"You can't roll back an odometer!\")"
   ]
  },
  {
   "cell_type": "code",
   "execution_count": 19,
   "metadata": {},
   "outputs": [
    {
     "name": "stdout",
     "output_type": "stream",
     "text": [
      "2016 Audi A4\n"
     ]
    }
   ],
   "source": [
    "my_new_car = Car('audi', 'a4', 2016)\n",
    "print(my_new_car.get_descriptive_name())"
   ]
  },
  {
   "cell_type": "code",
   "execution_count": 20,
   "metadata": {},
   "outputs": [
    {
     "name": "stdout",
     "output_type": "stream",
     "text": [
      "This car has 23 miles on it.\n"
     ]
    }
   ],
   "source": [
    "my_new_car.update_odometer(23)\n",
    "my_new_car.read_odometer()"
   ]
  },
  {
   "cell_type": "code",
   "execution_count": 24,
   "metadata": {},
   "outputs": [
    {
     "name": "stdout",
     "output_type": "stream",
     "text": [
      "You can't roll back an odometer!\n"
     ]
    }
   ],
   "source": [
    "my_new_car.update_odometer(3)"
   ]
  },
  {
   "cell_type": "code",
   "execution_count": 25,
   "metadata": {},
   "outputs": [
    {
     "name": "stdout",
     "output_type": "stream",
     "text": [
      "This car has 23 miles on it.\n"
     ]
    }
   ],
   "source": [
    "my_new_car.read_odometer()"
   ]
  },
  {
   "cell_type": "markdown",
   "metadata": {},
   "source": [
    "现在， update_odometer() 在修改属性前检查指定的读数是否合理. 如果新指定的里程（ mileage ）大于或等于原来的里程（ self.odometer_reading ），就将里程表读数改为新指定的里程；否则就发出警告，指出不能将里程表往回拨.  \n",
    "\n",
    "\n",
    "* 3.通过方法对属性的值进行递增   \n",
    "  有时候需要将属性值递增特定的量，而不是将其设置为全新的值.\n",
    "  假设我们购买了一辆二手车，且从购买到登记期间增加了 100 英里的里程，下面的方法让我们能够传递这个增\n",
    "量，并相应地增加里程表读数. "
   ]
  },
  {
   "cell_type": "code",
   "execution_count": 26,
   "metadata": {},
   "outputs": [],
   "source": [
    "class Car():\n",
    "    \"\"\" 一次模拟汽车的简单尝试 \"\"\"\n",
    "    def __init__(self, make, model, year):\n",
    "        \"\"\" 初始化描述汽车的属性 \"\"\"\n",
    "        self.make = make\n",
    "        self.model = model\n",
    "        self.year = year\n",
    "        self.odometer_reading = 0\n",
    "    def get_descriptive_name(self):\n",
    "        \"\"\" 返回整洁的描述性信息 \"\"\"\n",
    "        long_name = str(self.year) + ' ' + self.make + ' ' + self.model\n",
    "        return long_name.title()\n",
    "    def read_odometer(self):\n",
    "        \"\"\" 打印一条指出汽车里程的消息 \"\"\"\n",
    "        print(\"This car has \" + str(self.odometer_reading) + \" miles on it.\")\n",
    "    def update_odometer(self, mileage):\n",
    "        \"\"\"\n",
    "        将里程表读数设置为指定的值\n",
    "        禁止将里程表读数往回调\n",
    "        \"\"\"\n",
    "        if mileage >= self.odometer_reading:\n",
    "            self.odometer_reading = mileage\n",
    "        else:\n",
    "            print(\"You can't roll back an odometer!\")\n",
    "    def increment_odometer(self, miles):\n",
    "        \"\"\" 将里程表读数增加指定的量 \"\"\"\n",
    "        self.odometer_reading += miles"
   ]
  },
  {
   "cell_type": "code",
   "execution_count": 27,
   "metadata": {},
   "outputs": [
    {
     "name": "stdout",
     "output_type": "stream",
     "text": [
      "2013 Subaru Outback\n"
     ]
    }
   ],
   "source": [
    "my_used_car = Car('subaru', 'outback', 2013)\n",
    "print(my_used_car.get_descriptive_name())"
   ]
  },
  {
   "cell_type": "code",
   "execution_count": 28,
   "metadata": {},
   "outputs": [
    {
     "name": "stdout",
     "output_type": "stream",
     "text": [
      "This car has 23500 miles on it.\n"
     ]
    }
   ],
   "source": [
    "my_used_car.update_odometer(23500)\n",
    "my_used_car.read_odometer()"
   ]
  },
  {
   "cell_type": "code",
   "execution_count": 29,
   "metadata": {},
   "outputs": [
    {
     "name": "stdout",
     "output_type": "stream",
     "text": [
      "This car has 23600 miles on it.\n"
     ]
    }
   ],
   "source": [
    "my_used_car.increment_odometer(100)\n",
    "my_used_car.read_odometer()"
   ]
  },
  {
   "cell_type": "markdown",
   "metadata": {},
   "source": [
    "新增的方法 increment_odometer() 接受一个单位为英里的数字，并将其加入到 self.odometer_reading 中.   \n",
    "我们创建了一辆二手车—— my_used_car, 然后我们调用方法 update_odometer() 并传入 23500 ，将这辆二手车的里程表读数设置为 23 500, 接下来,我们调用 increment_odometer()并传入 100 ，以增加从购买到登记期间行驶的 100 英里.   \n",
    "我们还可以轻松地修改这个方法，以禁止增量为负值，从而防止有人利用它来回拨里程表.\n",
    "\n",
    "**注意** 　你可以使用类似于上面的方法来控制用户修改属性值（如里程表读数）的方式，但能够访问程序的人都可以通过直接访问属性来将里程表修改为任何值.    \n",
    "要确保安全，除了进行类似于前面的基本检查外，还需特别注意细节.   "
   ]
  },
  {
   "cell_type": "code",
   "execution_count": null,
   "metadata": {},
   "outputs": [],
   "source": []
  },
  {
   "cell_type": "markdown",
   "metadata": {},
   "source": [
    "# 继承\n",
    "\n",
    "编写类时，并非总是要从空白开始.  \n",
    "如果你要编写的类是另一个现成类的特殊版本，可使用**继承**. \n",
    "一个类**继承**另一个类时，它将自动获得另一个类的所有属性和方法；原有的类称为 **父类** 或 **超类** ，而新类称为 **子类**.  \n",
    "子类继承了其父类的所有属性和方法，同时还可以定义自己的属性和方法.  \n",
    "\n",
    "### 子类的方法\\_\\_init\\_\\_()\n",
    "创建子类的实例时， Python 首先需要完成的任务是给父类的所有属性赋值. 为此，子类的方法 \\_\\_init\\_\\_() 需要父类施以援手.    \n",
    "例如，下面来模拟电动汽车.电动汽车是一种特殊的汽车，因此我们可以在前面创建的 Car 类的基础上创建新类 ElectricCar ，这样我们就只需为电动汽车特有的属性和行为编写代码.\n",
    "\n",
    "下面来创建一个简单的 ElectricCar 类版本，它具备 Car 类的所有功能:\n"
   ]
  },
  {
   "cell_type": "code",
   "execution_count": 2,
   "metadata": {},
   "outputs": [],
   "source": [
    "class Car():\n",
    "    \"\"\" 一次模拟汽车的简单尝试 \"\"\"\n",
    "    def __init__(self, make, model, year):\n",
    "        \"\"\" 初始化描述汽车的属性 \"\"\"\n",
    "        self.make = make\n",
    "        self.model = model\n",
    "        self.year = year\n",
    "        self.odometer_reading = 0\n",
    "    def get_descriptive_name(self):\n",
    "        \"\"\" 返回整洁的描述性信息 \"\"\"\n",
    "        long_name = str(self.year) + ' ' + self.make + ' ' + self.model\n",
    "        return long_name.title()\n",
    "    def read_odometer(self):\n",
    "        \"\"\" 打印一条指出汽车里程的消息 \"\"\"\n",
    "        print(\"This car has \" + str(self.odometer_reading) + \" miles on it.\")\n",
    "    def update_odometer(self, mileage):\n",
    "        \"\"\"\n",
    "        将里程表读数设置为指定的值\n",
    "        禁止将里程表读数往回调\n",
    "        \"\"\"\n",
    "        if mileage >= self.odometer_reading:\n",
    "            self.odometer_reading = mileage\n",
    "        else:\n",
    "            print(\"You can't roll back an odometer!\")\n",
    "    def increment_odometer(self, miles):\n",
    "        \"\"\" 将里程表读数增加指定的量 \"\"\"\n",
    "        self.odometer_reading += miles\n",
    "\n",
    "class ElectricCar(Car):\n",
    "    \"\"\" 电动汽车的独特之处 \"\"\"\n",
    "    def __init__(self, make, model, year):\n",
    "        \"\"\" 初始化父类的属性 \"\"\"\n",
    "        super().__init__(make, model, year)"
   ]
  },
  {
   "cell_type": "code",
   "execution_count": 31,
   "metadata": {},
   "outputs": [
    {
     "name": "stdout",
     "output_type": "stream",
     "text": [
      "2016 Tesla Model S\n"
     ]
    }
   ],
   "source": [
    "my_tesla = ElectricCar('tesla', 'model s', 2016)\n",
    "print(my_tesla.get_descriptive_name())"
   ]
  },
  {
   "cell_type": "markdown",
   "metadata": {},
   "source": [
    "**注意:**    创建子类时，父类必须包含在当前文件中，且位于子类前面.\n",
    "定义子类 ElectricCar 时，必须在括号内指定父类的名称. 方法 \\_\\_init\\_\\_() 接受创建 Car 实例所需的信息.  \n",
    "super() 是一个特殊函数，帮助 Python 将父类和子类关联起来--这行代码让 Python 调用 ElectricCar 的父类的方法 \\_\\_init\\_\\_() ，让 ElectricCar 实例包含父类的所有属性.     \n",
    "父类也称为**超类** （ superclass ），名称 super 因此而得名.\n",
    "为测试继承是否能够正确地发挥作用，我们尝试创建一辆电动汽车，但提供的信息与创建普通汽车时相同.   \n",
    "我们创建 ElectricCar 类的一个实例，并将其存储在变量 my_tesla 中.这行代码调用 ElectricCar 类中定义的方法 \\_\\_init\\_\\_() ，后者让 Python 调用父类 Car 中定义的方法 \\_\\_init\\_\\_(). 我们提供了实参 'tesla' 、 'model\n",
    "s' 和 2016 .   \n",
    "除方法 __init__() 外，目前电动汽车没有其他特有的属性和方法. 当前，我们只想确认电动汽车具备普通汽车的行为."
   ]
  },
  {
   "cell_type": "markdown",
   "metadata": {},
   "source": [
    "### 给子类定义属性和方法\n",
    "让一个类继承另一个类后，可添加区分子类和父类所需的新属性和方法.   \n",
    "下面来添加一个电动汽车特有的属性（电瓶），以及一个描述该属性的方法. 我们将存储电瓶容量，并编写一个打印电瓶描述的方法:"
   ]
  },
  {
   "cell_type": "code",
   "execution_count": 3,
   "metadata": {},
   "outputs": [],
   "source": [
    "class ElectricCar(Car):\n",
    "    \"\"\"Represent aspects of a car, specific to electric vehicles.\"\"\"\n",
    "    def __init__(self, make, model, year):\n",
    "        \"\"\"\n",
    "        电动汽车的独特之处\n",
    "        初始化父类的属性，再初始化电动汽车特有的属性\n",
    "        \"\"\"\n",
    "        super().__init__(make, model, year)\n",
    "        self.battery_size = 70\n",
    "    def describe_battery(self):\n",
    "        \"\"\" 打印一条描述电瓶容量的消息 \"\"\"\n",
    "        print(\"This car has a \" + str(self.battery_size) + \"-kWh battery.\")"
   ]
  },
  {
   "cell_type": "markdown",
   "metadata": {},
   "source": [
    "我们添加了新属性 self.battery_size ，并设置其初始值（如 70 ）. 根据 ElectricCar 类创建的所有实例都将包含这个属性，但所有 Car 实例都不包含它.   \n",
    "我们还添加了一个名为 describe_battery() 的方法，它打印有关电瓶的信息.我们调用这个方法时，将看到一条电动汽车特有的描述:"
   ]
  },
  {
   "cell_type": "code",
   "execution_count": 4,
   "metadata": {},
   "outputs": [
    {
     "name": "stdout",
     "output_type": "stream",
     "text": [
      "2016 Tesla Model S\n",
      "This car has a 70-kWh battery.\n"
     ]
    }
   ],
   "source": [
    "my_tesla = ElectricCar('tesla', 'model s', 2016)\n",
    "print(my_tesla.get_descriptive_name())\n",
    "my_tesla.describe_battery()"
   ]
  },
  {
   "cell_type": "code",
   "execution_count": null,
   "metadata": {},
   "outputs": [],
   "source": []
  },
  {
   "cell_type": "markdown",
   "metadata": {},
   "source": [
    "对于 ElectricCar 类的特殊化程度没有任何限制.   \n",
    "模拟电动汽车时，你可以根据所需的准确程度添加任意数量的属性和方法.   \n",
    "如果一个属性或方法是任何汽车都有的，而不是电动汽车特有的，就应将其加入到 Car 类而不是 ElectricCar 类中.   这样，使用 Car 类的人将获得相应的功能，而 ElectricCar 类只包含处理电动汽车特有属性和行为的代码.  \n",
    "\n",
    "    \n",
    "### 重写父类的方法\n",
    "对于父类的方法，只要它不符合子类模拟的实物的行为，都可对其进行重写。为此，可在子类中定义一个这样的方法，即它与要重写的父类方法同名。这样， Python 将不会考虑这个父类方法，而只关注你在子类中定义的相应方法.\n",
    "\n",
    "假设 Car 类有一个名为 fill_gas_tank() 的方法，它对全电动汽车来说毫无意义，因此你可能想重写它。下面演示了一种重写方式：\n",
    "def ElectricCar(Car):\n",
    "    --snip--\n",
    "    def fill_gas_tank():\n",
    "        \"\"\" 电动汽车没有油箱 \"\"\"\n",
    "        print(\"This car doesn't need a gas tank!\")\n",
    "        \n",
    "        \n",
    "        \n",
    "现在，如果有人对电动汽车调用方法 fill_gas_tank() ， Python 将忽略 Car 类中的方法 fill_gas_tank() ，转而运行上述代码.    \n",
    "使用继承时，可让子类保留从父类那里继承而来的精华，并剔除不需要的糟粕.\n"
   ]
  },
  {
   "cell_type": "code",
   "execution_count": null,
   "metadata": {},
   "outputs": [],
   "source": []
  },
  {
   "cell_type": "code",
   "execution_count": null,
   "metadata": {},
   "outputs": [],
   "source": []
  },
  {
   "cell_type": "markdown",
   "metadata": {},
   "source": [
    "### 将实例用作属性\n",
    "使用代码模拟实物时，你可能会发现自己给类添加的细节越来越多：属性和方法清单以及文件都越来越长. 在这种情况下，可能需要将类的一部分作为一个独立的类提取出来.你可以将大型类拆分成多个协同工作的小类.   \n",
    "例如，不断给 ElectricCar 类添加细节时，我们可能会发现其中包含很多专门针对汽车电瓶的属性和方法. 在这种情况下，我们可将这些属性和方法提取出来，放到另一个名为 Battery 的类中，并将一个 Battery 实例用作 ElectricCar 类的一个属性："
   ]
  },
  {
   "cell_type": "code",
   "execution_count": 5,
   "metadata": {},
   "outputs": [],
   "source": [
    "class Battery():\n",
    "    \"\"\" 一次模拟电动汽车电瓶的简单尝试 \"\"\"\n",
    "    def __init__(self, battery_size=70):\n",
    "        \"\"\" 初始化电瓶的属性 \"\"\"\n",
    "        self.battery_size = battery_size\n",
    "    def describe_battery(self):\n",
    "        \"\"\" 打印一条描述电瓶容量的消息 \"\"\"\n",
    "        print(\"This car has a \" + str(self.battery_size) + \"-kWh battery.\")\n",
    "\n",
    "class ElectricCar(Car):\n",
    "    \"\"\" 电动汽车的独特之处 \"\"\"\n",
    "    def __init__(self, make, model, year):\n",
    "        \"\"\"\n",
    "        初始化父类的属性，再初始化电动汽车特有的属性\n",
    "        \"\"\"\n",
    "        super().__init__(make, model, year)\n",
    "        self.battery = Battery()"
   ]
  },
  {
   "cell_type": "markdown",
   "metadata": {},
   "source": [
    "我们定义了一个名为 Battery 的新类，它没有继承任何类. 其中的初始化方法 \\_\\_init\\_\\_() 除 self 外，还有另一个形参 battery_size. 这个形参是可选的--如果没有给它提供值，电瓶容量将被设置为 70. 方法 describe_battery() 也移到了这个类中.   \n",
    "在 ElectricCar 类中，我们添加了一个名为 self.battery 的属性. 这行代码让 Python 创建一个新的 Battery 实例（由于没有指定尺寸，因此为默认值 70 ），并将该实例存储在属性 self.battery 中. 每当方法 \\_\\_init\\_\\_() 被调用时，都将执行该操作；因此现在每个 ElectricCar 实例都包含一个自动创建的 Battery 实例.  \n",
    "我们创建一辆电动汽车，并将其存储在变量 my_tesla 中.要描述电瓶时，需要使用电动汽车的属性 battery ："
   ]
  },
  {
   "cell_type": "code",
   "execution_count": 10,
   "metadata": {},
   "outputs": [
    {
     "name": "stdout",
     "output_type": "stream",
     "text": [
      "2016 Tesla Model S\n"
     ]
    }
   ],
   "source": [
    "my_tesla = ElectricCar('tesla', 'model s', 2016)\n",
    "\"\"\"\n",
    "测试--这样注释\n",
    "不会出现在运行结果吗?\n",
    "是否会导致函数变慢?\n",
    "\"\"\"\n",
    "print(my_tesla.get_descriptive_name())"
   ]
  },
  {
   "cell_type": "code",
   "execution_count": 11,
   "metadata": {},
   "outputs": [
    {
     "name": "stdout",
     "output_type": "stream",
     "text": [
      "This car has a 70-kWh battery.\n"
     ]
    }
   ],
   "source": [
    "my_tesla.battery.describe_battery()"
   ]
  },
  {
   "cell_type": "markdown",
   "metadata": {},
   "source": [
    "上边这行代码让 Python 在实例 my_tesla 中查找属性 battery ，并对存储在该属性中的 Battery 实例调用方法 describe_battery().  \n",
    "这看似做了很多额外的工作，但现在我们想多详细地描述电瓶都可以，且不会导致 ElectricCar 类混乱不堪. \n",
    "\n",
    "下面再给 Battery 类添加一个方法，它根据电瓶容量报告汽车的续航里程"
   ]
  },
  {
   "cell_type": "code",
   "execution_count": 12,
   "metadata": {},
   "outputs": [],
   "source": [
    "class Battery():\n",
    "    \"\"\" 一次模拟电动汽车电瓶的简单尝试 \"\"\"\n",
    "    def __init__(self, battery_size=70):\n",
    "        \"\"\" 初始化电瓶的属性 \"\"\"\n",
    "        self.battery_size = battery_size\n",
    "    def describe_battery(self):\n",
    "        \"\"\" 打印一条描述电瓶容量的消息 \"\"\"\n",
    "        print(\"This car has a \" + str(self.battery_size) + \"-kWh battery.\")\n",
    "    def get_range(self):\n",
    "        \"\"\" 打印一条消息，指出电瓶的续航里程 \"\"\"\n",
    "        if self.battery_size == 70:\n",
    "            range = 240\n",
    "        elif self.battery_size == 85:\n",
    "            range = 270\n",
    "        message = \"This car can go approximately \" + str(range)\n",
    "        message += \" miles on a full charge.\"\n",
    "        print(message)\n",
    "        \n",
    "class ElectricCar(Car):\n",
    "    \"\"\" 电动汽车的独特之处 \"\"\"\n",
    "    def __init__(self, make, model, year):\n",
    "        \"\"\"\n",
    "        初始化父类的属性，再初始化电动汽车特有的属性\n",
    "        \"\"\"\n",
    "        super().__init__(make, model, year)\n",
    "        self.battery = Battery()"
   ]
  },
  {
   "cell_type": "code",
   "execution_count": 13,
   "metadata": {},
   "outputs": [
    {
     "name": "stdout",
     "output_type": "stream",
     "text": [
      "2016 Tesla Model S\n",
      "This car has a 70-kWh battery.\n",
      "This car can go approximately 240 miles on a full charge.\n"
     ]
    }
   ],
   "source": [
    "my_tesla = ElectricCar('tesla', 'model s', 2016)\n",
    "print(my_tesla.get_descriptive_name())\n",
    "my_tesla.battery.describe_battery()\n",
    "my_tesla.battery.get_range()"
   ]
  },
  {
   "cell_type": "markdown",
   "metadata": {},
   "source": [
    "新增的方法 get_range() 做了一些简单的分析：如果电瓶的容量为 70kWh ，它就将续航里程设置为 240 英里；如果容量为 85kWh ，就将续航里程设置为 270 英里，然后报告这个值.\n",
    "为使用这个方法，我们可以通过汽车的属性 battery 来调用它.\n",
    "\n"
   ]
  },
  {
   "cell_type": "markdown",
   "metadata": {},
   "source": [
    "### 模拟实物\n",
    "模拟较复杂的物件（如电动汽车）时，需要解决一些有趣的问题--续航里程是电瓶的属性还是汽车的属性呢？如果我们只需描述一辆汽车，那么将方法 get_range() 放在 Battery 类中也许是合适的；但如果要描述一家汽车制造商的整个产品线，也许应该将方法 get_range() 移到 ElectricCar 类中.在这种情况下， get_range() 依然根据电瓶容量来确定续航里程，但报告的是一款汽车的续航里程. 我们也可以这样做：将方法 get_range() 还留在 Battery 类中，但向它传递一个参数，如 car_model ；在这种情况下，方法 get_range() 将根据电瓶容量和汽车型号报告续航里程.   \n",
    "\n",
    "这让你进入了程序员的另一个境界：解决上述问题时，你从较高的逻辑层面（而不是语法层面）考虑；你考虑的不是 Python ，而是如何使用代码来表示实物. 到达这种境界后，你经常会发现，现实世界的建模方法并没有对错之分. 有些方法的效率更高，但要找出效率最高的表示法，需要经过一定的实践. 只要代码像你希望的那样运行，就说明你做得很好！即便你发现自己不得不多次尝试使用不同的方法来重写类，也不必气馁；要编写出高效、准确的代码，都得经过这样的过程.\n"
   ]
  },
  {
   "cell_type": "code",
   "execution_count": null,
   "metadata": {},
   "outputs": [],
   "source": []
  },
  {
   "cell_type": "markdown",
   "metadata": {},
   "source": [
    "# 导入类\n",
    "随着你不断地给类添加功能，文件可能变得很长，即便你妥善地使用了继承亦如此.   \n",
    "为遵循 Python 的总体理念，应让文件尽可能整洁. 为在这方面提供帮助， Python 允许你将类存储在模块中，然后在主程序中导入所需的模块.   \n"
   ]
  },
  {
   "cell_type": "code",
   "execution_count": 1,
   "metadata": {},
   "outputs": [],
   "source": [
    "from datetime import datetime"
   ]
  },
  {
   "cell_type": "code",
   "execution_count": 4,
   "metadata": {},
   "outputs": [
    {
     "data": {
      "text/plain": [
       "9"
      ]
     },
     "execution_count": 4,
     "metadata": {},
     "output_type": "execute_result"
    }
   ],
   "source": [
    "datetime.now().month"
   ]
  },
  {
   "cell_type": "code",
   "execution_count": null,
   "metadata": {},
   "outputs": [],
   "source": []
  },
  {
   "cell_type": "code",
   "execution_count": null,
   "metadata": {},
   "outputs": [],
   "source": []
  },
  {
   "cell_type": "code",
   "execution_count": null,
   "metadata": {},
   "outputs": [],
   "source": []
  },
  {
   "cell_type": "code",
   "execution_count": null,
   "metadata": {},
   "outputs": [],
   "source": []
  },
  {
   "cell_type": "markdown",
   "metadata": {},
   "source": [
    "## 类编码风格\n",
    "你必须熟悉有些与类相关的编码风格问题，在你编写的程序较复杂时尤其如此.   \n",
    "\n",
    "类名应采用 **驼峰命名法** ，即将类名中的每个单词的首字母都大写，而不使用下划线, 实例名和模块名都采用小写格式，并在单词之间加上下划线.    \n",
    "\n",
    "对于每个类，都应紧跟在类定义后面包含一个文档字符串. 这种文档字符串简要地描述类的功能，并遵循编写函数的文档字符串时采用的格式约定. 每个模块也都应包含一个文档字符串，对其中的类可用于做什么进行描述.    \n",
    "\n",
    "可使用空行来组织代码，但不要滥用. 在类中，可使用一个空行来分隔方法；而在模块中，可使用两个空行来分隔类.    \n",
    "需要同时导入标准库中的模块和你编写的模块时，先编写导入标准库模块的 import 语句，再添加一个空行，然后编写导入你自己编写的模块的 import 语句. 在包含多条 import 语句的程序中，这种做法让人更容易明白程序使用的各个模块都来自何方. "
   ]
  },
  {
   "cell_type": "markdown",
   "metadata": {},
   "source": [
    "# Python 标准库\n",
    "**Python 标准库** 是一组模块，安装的 Python 都包含它。你现在对类的工作原理已有大致的了解，可以开始使用其他程序员编写好的模块了。可使用标准库中的任何函数和类，为此只需在程序开头包含一条简单的 import 语句.  \n",
    "\n",
    "## collections \n",
    "下面来看模块 collections 中的一个类 —— OrderedDict:   \n",
    "字典让你能够将信息关联起来，但它们不记录你添加键 — 值对的顺序。要创建字典并记录其中的键 — 值对的添加顺序，可使用模块 collections 中的 OrderedDict类. OrderedDict 实例的行为几乎与字典相同，区别只在于记录了键 — 值对的添加顺序. \n",
    "我们再来看一看第 6 章的 favorite_languages.py 示例，但这次将记录被调查者参与调查的顺序：\n"
   ]
  },
  {
   "cell_type": "code",
   "execution_count": 1,
   "metadata": {},
   "outputs": [
    {
     "name": "stdout",
     "output_type": "stream",
     "text": [
      "Jen's favorite language is Python.\n",
      "Sarah's favorite language is C.\n",
      "Edward's favorite language is Ruby.\n",
      "Phil's favorite language is Python.\n"
     ]
    }
   ],
   "source": [
    "from collections import OrderedDict\n",
    "favorite_languages = OrderedDict()\n",
    "favorite_languages['jen'] = 'python'\n",
    "favorite_languages['sarah'] = 'c'\n",
    "favorite_languages['edward'] = 'ruby'\n",
    "favorite_languages['phil'] = 'python'\n",
    "for name, language in favorite_languages.items():\n",
    "    print(name.title() + \"'s favorite language is \" + language.title() + \".\")"
   ]
  },
  {
   "cell_type": "markdown",
   "metadata": {},
   "source": [
    "我们首先从模块 collections 中导入了 OrderedDict 类. 接下来,我们创建了 OrderedDict 类的一个实例，并将其存储到 favorite_languages 中. 请注意，这里没有使用花括号，而是调用 OrderedDict() 来创建一个空的有序字典，并将其存储在 favorite_languages 中. 接下来，我们以每次一对的方式添加名字 — 语言对,在for循环里,我们遍历 favorite_languages ，但知道将以添加的顺序获取调查结果. 这是一个很不错的类，它兼具列表和字典的主要优点（在将信息关联起来的同时保留原来的顺序）. 等你开始对关心的现实情形建模时，可能会发现有序字典正好能够满足需求.\n",
    "\n",
    "\n",
    "随着你对标准库的了解越来越深入，将熟悉大量可帮助你处理常见情形的模块.\n",
    "## 其他标准库的使用和介绍待补充"
   ]
  },
  {
   "cell_type": "code",
   "execution_count": null,
   "metadata": {},
   "outputs": [],
   "source": []
  },
  {
   "cell_type": "markdown",
   "metadata": {},
   "source": [
    "# 外部模块--第三方库\n"
   ]
  },
  {
   "cell_type": "code",
   "execution_count": null,
   "metadata": {},
   "outputs": [],
   "source": []
  },
  {
   "cell_type": "code",
   "execution_count": null,
   "metadata": {},
   "outputs": [],
   "source": []
  }
 ],
 "metadata": {
  "kernelspec": {
   "display_name": "Python 3",
   "language": "python",
   "name": "python3"
  },
  "language_info": {
   "codemirror_mode": {
    "name": "ipython",
    "version": 3
   },
   "file_extension": ".py",
   "mimetype": "text/x-python",
   "name": "python",
   "nbconvert_exporter": "python",
   "pygments_lexer": "ipython3",
   "version": "3.7.6"
  }
 },
 "nbformat": 4,
 "nbformat_minor": 4
}
