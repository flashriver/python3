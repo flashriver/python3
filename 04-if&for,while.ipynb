{
 "cells": [
  {
   "cell_type": "markdown",
   "metadata": {},
   "source": [
    "# 判断语句(if)\n",
    "20190912 reviewed\n",
    "\n",
    "* 在 Python 中， if 语句让你能够检查程序的当前状态，并据此采取相应的措施\n",
    "* if后接一个条件,如果满足条件则执行条件后的程序块.\n",
    "    * 每条 if 语句的核心都是一个值为 True 或 False 的表达式，这种表达式被称为 **条件测试**. \n",
    "    * Python 根据条件测试的值为 True 还是 False 来决定是否执行 if 语句中的代码. \n",
    "        * 如果条件测试的值为 True ， Python 就执行紧跟在 if 语句后面的代码；\n",
    "        * 如果为 False ， Python 就忽略这些代码.  \n",
    "* 第二个条件由elif引出,是一个可选的选项\n",
    "* else也是可选选项,一般用在最后. else后不需要接条件,表示上边所有条件之外的余集."
   ]
  },
  {
   "cell_type": "markdown",
   "metadata": {},
   "source": [
    "## 条件测试\n",
    "条件测试根据有很多种情况:\n",
    "* 检查是否相等\n",
    "* 检查是否相等时不考虑大小写\n",
    "* 检查是否不相等\n",
    "* 比较数字\n",
    "* 使用 and 检查多个条件\n",
    "* 使用 or 检查多个条件\n",
    "* 检查特定值是否包含在列表中\n",
    "* 检查特定值是否不包含在列表中\n",
    "* 其他类型的布尔表达式    \n",
    "\n",
    "在条件测试的格式设置方面， PEP 8 提供的唯一建议是，在诸如 == 、 >= 和 <= 等比较运算符两边各添加一个空格，例如， if age < 4: 要比 if age<4: 好--这样的空格不会影响 Python 对代码的解读，而只是让代码阅读起来更容易. "
   ]
  },
  {
   "cell_type": "code",
   "execution_count": 1,
   "metadata": {},
   "outputs": [
    {
     "name": "stdout",
     "output_type": "stream",
     "text": [
      "Audi\n",
      "BMW\n",
      "Subaru\n",
      "Toyota\n"
     ]
    }
   ],
   "source": [
    "# 一个简单的示例\n",
    "cars = ['audi', 'bmw', 'subaru', 'toyota']\n",
    "for car in cars:\n",
    "    if car == 'bmw':\n",
    "        print(car.upper())\n",
    "    else:\n",
    "        print(car.title())\n",
    "# 首先检查当前的汽车名是否是 'bmw' .如果是，就以全大写的方式打印它；否则就以首字母大写的方式打印"
   ]
  },
  {
   "cell_type": "code",
   "execution_count": 2,
   "metadata": {},
   "outputs": [
    {
     "name": "stdin",
     "output_type": "stream",
     "text": [
      "请输入一个数字: 2\n"
     ]
    },
    {
     "name": "stdout",
     "output_type": "stream",
     "text": [
      "太小了.\n",
      "游戏结束!\n"
     ]
    }
   ],
   "source": [
    "# 一个条件的多个情形,使用if elif else\n",
    "number=23\n",
    "guess=int(input('请输入一个数字:'))\n",
    "if guess==number:\n",
    "    print('恭喜你,你猜对了!')\n",
    "elif guess>number:\n",
    "    print('太大了.')\n",
    "#elif guess<number:\n",
    "else:\n",
    "    print('太小了.')\n",
    "print('游戏结束!')"
   ]
  },
  {
   "cell_type": "markdown",
   "metadata": {},
   "source": [
    "* 就像elif不是必须的一样,else也并不是必须的.但else可以把所有没被列出来的条件包含进去,使得程序不会遇到无法处理的例外(尽管可能会发生错误),因此,最好是用else结束判断语句."
   ]
  },
  {
   "cell_type": "code",
   "execution_count": 3,
   "metadata": {},
   "outputs": [
    {
     "name": "stdin",
     "output_type": "stream",
     "text": [
      "请输入一个数字: 45\n"
     ]
    },
    {
     "name": "stdout",
     "output_type": "stream",
     "text": [
      "太大或太小了.\n",
      "结束.\n"
     ]
    }
   ],
   "source": [
    "# 一个判断包含多个条件的时候,使用and,or连接判断条件\n",
    "n1=20\n",
    "n2=30\n",
    "n3=40\n",
    "guess=int(input(\"请输入一个数字:\"))\n",
    "if guess>n1 and guess<=n2:\n",
    "    print(\"第一档.\")\n",
    "elif guess>n2 and guess<=n3:\n",
    "    print(\"第二档\")\n",
    "elif guess<=n1 or guess>n3:\n",
    "    print(\"太大或太小了.\")\n",
    "print(\"结束.\")"
   ]
  },
  {
   "cell_type": "code",
   "execution_count": 4,
   "metadata": {},
   "outputs": [
    {
     "name": "stdin",
     "output_type": "stream",
     "text": [
      "请猜第一个数字: 5\n",
      "请猜第二个数字: 45\n"
     ]
    },
    {
     "name": "stdout",
     "output_type": "stream",
     "text": [
      "两个数都猜错了\n",
      "结束.\n"
     ]
    }
   ],
   "source": [
    "n1=20\n",
    "n2=30\n",
    "guess1=int(input(\"请猜第一个数字:\"))\n",
    "guess2=int(input(\"请猜第二个数字:\"))\n",
    "if guess1==n1 and guess2!=n2:\n",
    "    print(\"第一个数猜对了.\")\n",
    "    print('第二个数猜错了.')\n",
    "elif guess1==n1 and guess2==n2:\n",
    "    print(\"第一个数猜对了.\")\n",
    "    print('第二个数也猜对了.')\n",
    "elif guess1!=n1 and guess2!=n2:\n",
    "    print(\"两个数都猜错了\")\n",
    "elif guess1!=n1 and guess2==n2:\n",
    "    print(\"第一个数猜错了,但是第二个数猜对了.\")\n",
    "print(\"结束.\")"
   ]
  },
  {
   "cell_type": "markdown",
   "metadata": {},
   "source": [
    "## 嵌套if\n",
    "在if或elif下,还可以根据需要添加进一步的条件测试,当然这种嵌套的if通常来说也可以使用and连接多个条件进行替代. 看下边一个例子:"
   ]
  },
  {
   "cell_type": "code",
   "execution_count": 5,
   "metadata": {},
   "outputs": [
    {
     "name": "stdin",
     "output_type": "stream",
     "text": [
      "请猜第一个数字: 56\n",
      "请猜第二个数字: 22\n"
     ]
    },
    {
     "name": "stdout",
     "output_type": "stream",
     "text": [
      "两个数都猜错了\n",
      "结束.\n"
     ]
    }
   ],
   "source": [
    "# 上述的 elif改为if,判断多个条件\n",
    "n1=20\n",
    "n2=30\n",
    "guess1=int(input(\"请猜第一个数字:\"))\n",
    "guess2=int(input(\"请猜第二个数字:\"))\n",
    "if guess1==n1:\n",
    "    print(\"第一个数猜对了.\")\n",
    "    if guess2!=n2:\n",
    "        print('第二个数猜错了.')\n",
    "    elif guess2==n2:\n",
    "        print('第二个数也猜对了.')\n",
    "if guess1==n1 and guess2==n2:\n",
    "    print(\"第一个数猜对了.\")\n",
    "    print('第二个数也猜对了.')\n",
    "if guess1!=n1 and guess2!=n2:\n",
    "    print(\"两个数都猜错了\")\n",
    "if guess1!=n1 and guess2==n2:\n",
    "    print(\"第一个数猜错了,但是第二个数猜对了.\")\n",
    "print(\"结束.\")"
   ]
  },
  {
   "cell_type": "markdown",
   "metadata": {},
   "source": [
    "## 测试多个条件\n",
    "if-elif-else 结构功能强大，但仅适合用于只有一个条件满足的情况：遇到通过了的测试后， Python 就跳过余下的测试. 这种行为很好，效率很高，让你能够测试一个特定的条件.  \n",
    "然而，有时候必须检查你关心的所有条件. 在这种情况下，应使用一系列不包含 elif 和 else 代码块的简单 if 语句。在可能有多个条件为 True ，且你需要在每个条件为 True时都采取相应措施时，适合使用这种方法.  \n",
    "\n",
    "* 要注意区分多个if和if-elif的区别.\n",
    "    * 多个if, 每个if后的条件都会被运算, 根据运算结果判断是否执行相应的代码块.     \n",
    "    * if-elif, 如果前边的if的条件满足了,就执行该条件下的代码块."
   ]
  },
  {
   "cell_type": "code",
   "execution_count": 6,
   "metadata": {},
   "outputs": [
    {
     "name": "stdout",
     "output_type": "stream",
     "text": [
      "Adding mushrooms.\n",
      "Adding extra cheese.\n",
      "\n",
      "Finished making your pizza!\n"
     ]
    }
   ],
   "source": [
    "requested_toppings = ['mushrooms', 'extra cheese']\n",
    "if 'mushrooms' in requested_toppings:\n",
    "    print(\"Adding mushrooms.\")\n",
    "if 'pepperoni' in requested_toppings:\n",
    "    print(\"Adding pepperoni.\")\n",
    "if 'extra cheese' in requested_toppings:\n",
    "    print(\"Adding extra cheese.\")\n",
    "print(\"\\nFinished making your pizza!\")"
   ]
  },
  {
   "cell_type": "code",
   "execution_count": 7,
   "metadata": {},
   "outputs": [
    {
     "name": "stdout",
     "output_type": "stream",
     "text": [
      "Adding mushrooms.\n",
      "\n",
      "Finished making your pizza!\n"
     ]
    }
   ],
   "source": [
    "# 如果像下面这样转而使用 if-elif-else 结构，代码将不能正确地运行，因为有一个测试通过后，就会跳过余下的测试：\n",
    "requested_toppings = ['mushrooms', 'extra cheese']\n",
    "if 'mushrooms' in requested_toppings:\n",
    "    print(\"Adding mushrooms.\")\n",
    "elif 'pepperoni' in requested_toppings:\n",
    "    print(\"Adding pepperoni.\")\n",
    "elif 'extra cheese' in requested_toppings:\n",
    "    print(\"Adding extra cheese.\")\n",
    "print(\"\\nFinished making your pizza!\")"
   ]
  },
  {
   "cell_type": "markdown",
   "metadata": {},
   "source": [
    "## 三目表达式\n",
    "类似于列表推导式使用很短的语句替代循环,三目表达式也是以较短的语句替代简单的if语句."
   ]
  },
  {
   "cell_type": "code",
   "execution_count": 8,
   "metadata": {},
   "outputs": [
    {
     "name": "stdin",
     "output_type": "stream",
     "text": [
      "输入第一个数 14\n",
      "输入第二个数 22\n"
     ]
    },
    {
     "name": "stdout",
     "output_type": "stream",
     "text": [
      "较大的数是 22\n"
     ]
    }
   ],
   "source": [
    "n1,n2=int(input('输入第一个数')),int(input('输入第二个数'))\n",
    "print(\"较大的数是\", n1 if n1>n2 else n2)#使用三目表达式,输出较大的数"
   ]
  },
  {
   "cell_type": "code",
   "execution_count": 9,
   "metadata": {},
   "outputs": [
    {
     "name": "stdin",
     "output_type": "stream",
     "text": [
      "输入第一个数 1\n",
      "输入第二个数 65\n",
      "输入第三个数 5\n"
     ]
    },
    {
     "name": "stdout",
     "output_type": "stream",
     "text": [
      "最大的数是 65\n"
     ]
    }
   ],
   "source": [
    "n1,n2,n3=int(input('输入第一个数')),int(input('输入第二个数')),int(input('输入第三个数'))\n",
    "print(\"最大的数是\", n1 if n1>n2 and n1>n3 else max(n2,n3))# 三目表达式复合and运算符,从三个数里选出最大的"
   ]
  },
  {
   "cell_type": "code",
   "execution_count": 10,
   "metadata": {
    "scrolled": true
   },
   "outputs": [
    {
     "name": "stdin",
     "output_type": "stream",
     "text": [
      "输入第一个数 4\n",
      "输入第二个数 598\n",
      "输入第三个数 44\n"
     ]
    },
    {
     "name": "stdout",
     "output_type": "stream",
     "text": [
      "最小的数是 4\n"
     ]
    }
   ],
   "source": [
    "# 嵌套使用三目表达式\n",
    "a,b,c=n1,n2,n3=int(input('输入第一个数')),int(input('输入第二个数')),int(input('输入第三个数'))\n",
    "min_num = a if a<b and a<c else (b if b<a and b<c else c)\n",
    "print('最小的数是',min_num)"
   ]
  },
  {
   "cell_type": "code",
   "execution_count": 11,
   "metadata": {},
   "outputs": [],
   "source": [
    "# 由于是表达式, 因此它可以放在任意可以使用相应类型变量的地方--因此多层嵌套也是可疑的.\n",
    "# 类似于SQL中的CASE表达式,可以放在任意使用相应类型变量的地方."
   ]
  },
  {
   "cell_type": "markdown",
   "metadata": {},
   "source": [
    "接下来看一些if语句结合各类数据结构的使用方法\n"
   ]
  },
  {
   "cell_type": "markdown",
   "metadata": {},
   "source": [
    "## 使用 if 语句处理列表\n",
    "* 通过结合使用 if 语句和列表，可完成一些有趣的任务：对列表中特定的值做特殊处理:"
   ]
  },
  {
   "cell_type": "code",
   "execution_count": 12,
   "metadata": {},
   "outputs": [
    {
     "name": "stdout",
     "output_type": "stream",
     "text": [
      "Adding mushrooms.\n",
      "Sorry, we are out of green peppers right now.\n",
      "Adding extra cheese.\n",
      "\n",
      "Finished making your pizza!\n"
     ]
    }
   ],
   "source": [
    "# 检查特殊元素\n",
    "## 比萨店在制作比萨时，每添加一种配料都打印一条消息。通过创建一个列表，在其中包含顾客点的配料，\n",
    "## 并使用一个循环来指出添加到比萨中的配料\n",
    "## 如果比萨店的青椒用完了，该如何处理呢？为妥善地处理这种情况，可在 for 循环中包含一条 if 语句\n",
    "requested_toppings = ['mushrooms', 'green peppers', 'extra cheese']\n",
    "for requested_topping in requested_toppings:\n",
    "    if requested_topping == 'green peppers':\n",
    "        print(\"Sorry, we are out of green peppers right now.\")\n",
    "    else:\n",
    "        print(\"Adding \" + requested_topping + \".\")\n",
    "print(\"\\nFinished making your pizza!\")"
   ]
  },
  {
   "cell_type": "code",
   "execution_count": 13,
   "metadata": {},
   "outputs": [
    {
     "name": "stdout",
     "output_type": "stream",
     "text": [
      "Are you sure you want a plain pizza?\n"
     ]
    }
   ],
   "source": [
    "# 确定列表不是空的\n",
    "## 到目前为止，对于处理的每个列表都做了一个简单的假设，即假设它们都至少包含一个元素\n",
    "## 我们马上就要让用户来提供存储在列表中的信息，因此不能再假设循环运行时列表不是空的\n",
    "## 有鉴于此，在运行 for 循环前确定列表是否为空很重要。\n",
    "## 下面在制作比萨前检查顾客点的配料列表是否为空#\n",
    "## 如果列表是空的，就向顾客确认他是否要点普通比萨；如果列表不为空，就像前面的示例那样制作比萨\n",
    "requested_toppings = []\n",
    "if requested_toppings:\n",
    "    for requested_topping in requested_toppings:\n",
    "        print(\"Adding \" + requested_topping + \".\")\n",
    "    print(\"\\nFinished making your pizza!\")\n",
    "else:\n",
    "    print(\"Are you sure you want a plain pizza?\")"
   ]
  },
  {
   "cell_type": "code",
   "execution_count": 14,
   "metadata": {},
   "outputs": [
    {
     "name": "stdout",
     "output_type": "stream",
     "text": [
      "Adding mushrooms.\n",
      "Sorry, we don't have french fries.\n",
      "Adding extra cheese.\n",
      "\n",
      "Finished making your pizza!\n"
     ]
    }
   ],
   "source": [
    "# 使用多个列表\n",
    "## 顾客的要求往往五花八门，在比萨配料方面尤其如此。\n",
    "## 如果顾客要在比萨中添加炸薯条，该怎么办呢？可使用列表和 if 语句来确定能否满足顾客的要求。\n",
    "## 来看看在制作比萨前如何拒绝怪异的配料要求。\n",
    "## 下面的示例定义了两个列表，其中第一个列表包含比萨店供应的配料，而第二个列表包含顾客点的配料。\n",
    "## 这次对于 requested_toppings 中的每个元素，都检查它是否是比萨店供应的配料，再决定是否在比萨中添加它\n",
    "available_toppings = ['mushrooms', 'olives', 'green peppers','pepperoni', 'pineapple', 'extra cheese']\n",
    "requested_toppings = ['mushrooms', 'french fries', 'extra cheese']\n",
    "for requested_topping in requested_toppings:\n",
    "    if requested_topping in available_toppings:\n",
    "        print(\"Adding \" + requested_topping + \".\")\n",
    "    else:\n",
    "        print(\"Sorry, we don't have \" + requested_topping + \".\")\n",
    "print(\"\\nFinished making your pizza!\")"
   ]
  },
  {
   "cell_type": "markdown",
   "metadata": {},
   "source": [
    "* 使用if拆分list"
   ]
  },
  {
   "cell_type": "code",
   "execution_count": 15,
   "metadata": {},
   "outputs": [
    {
     "name": "stdout",
     "output_type": "stream",
     "text": [
      "[1, 3, 5, 7, 9, 11, 13, 15, 17, 19, 21, 23, 25, 27, 29, 31, 33, 35, 37, 39, 41, 43, 45, 47, 49, 51, 53, 55, 57, 59, 61, 63, 65, 67, 69, 71, 73, 75, 77, 79, 81, 83, 85, 87, 89, 91, 93, 95, 97, 99]\n",
      "[2, 4, 6, 8, 10, 12, 14, 16, 18, 20, 22, 24, 26, 28, 30, 32, 34, 36, 38, 40, 42, 44, 46, 48, 50, 52, 54, 56, 58, 60, 62, 64, 66, 68, 70, 72, 74, 76, 78, 80, 82, 84, 86, 88, 90, 92, 94, 96, 98]\n"
     ]
    }
   ],
   "source": [
    "lst=list(range(1,100))\n",
    "lst1,lst2 = [],[]\n",
    "for i in lst:\n",
    "    if i%2==1:\n",
    "        lst1.append(i)\n",
    "    else :\n",
    "        lst2.append(i)\n",
    "print(lst1)\n",
    "print(lst2)"
   ]
  },
  {
   "cell_type": "markdown",
   "metadata": {},
   "source": [
    "## 使用if处理"
   ]
  },
  {
   "cell_type": "code",
   "execution_count": null,
   "metadata": {},
   "outputs": [],
   "source": []
  },
  {
   "cell_type": "code",
   "execution_count": null,
   "metadata": {},
   "outputs": [],
   "source": []
  },
  {
   "cell_type": "markdown",
   "metadata": {},
   "source": [
    "## assert 关键词  \n",
    "assert 称之为“断言”，当这个关键词后边的条件为 False 时，程序自动崩溃并抛出 AssertionError 的异常。"
   ]
  },
  {
   "cell_type": "code",
   "execution_count": 16,
   "metadata": {},
   "outputs": [
    {
     "name": "stdout",
     "output_type": "stream",
     "text": [
      "0\n"
     ]
    },
    {
     "ename": "AssertionError",
     "evalue": "",
     "output_type": "error",
     "traceback": [
      "\u001b[1;31m---------------------------------------------------------------------------\u001b[0m",
      "\u001b[1;31mAssertionError\u001b[0m                            Traceback (most recent call last)",
      "\u001b[1;32m<ipython-input-16-e1681826b71c>\u001b[0m in \u001b[0;36m<module>\u001b[1;34m\u001b[0m\n\u001b[0;32m      2\u001b[0m \u001b[0mmy_list\u001b[0m\u001b[1;33m.\u001b[0m\u001b[0mpop\u001b[0m\u001b[1;33m(\u001b[0m\u001b[1;36m0\u001b[0m\u001b[1;33m)\u001b[0m\u001b[1;33m\u001b[0m\u001b[1;33m\u001b[0m\u001b[0m\n\u001b[0;32m      3\u001b[0m \u001b[0mprint\u001b[0m\u001b[1;33m(\u001b[0m\u001b[0mlen\u001b[0m\u001b[1;33m(\u001b[0m\u001b[0mmy_list\u001b[0m\u001b[1;33m)\u001b[0m\u001b[1;33m)\u001b[0m\u001b[1;33m\u001b[0m\u001b[1;33m\u001b[0m\u001b[0m\n\u001b[1;32m----> 4\u001b[1;33m \u001b[1;32massert\u001b[0m \u001b[0mlen\u001b[0m\u001b[1;33m(\u001b[0m\u001b[0mmy_list\u001b[0m\u001b[1;33m)\u001b[0m \u001b[1;33m>\u001b[0m \u001b[1;36m0\u001b[0m\u001b[1;33m\u001b[0m\u001b[1;33m\u001b[0m\u001b[0m\n\u001b[0m",
      "\u001b[1;31mAssertionError\u001b[0m: "
     ]
    }
   ],
   "source": [
    "my_list = ['lsgogroup']\n",
    "my_list.pop(0)\n",
    "print(len(my_list))\n",
    "assert len(my_list) > 0"
   ]
  },
  {
   "cell_type": "markdown",
   "metadata": {},
   "source": [
    "在真实的程序设计中,我们是不会让程序崩溃的.      \n",
    "哪怕出现了预料之外的情况,我们也希望程序能够给出能让人理解的提示, 这时候就需要使用 try..excep... 语句来对异常进行处理了.详见后续章节. \n",
    "     \n",
    "在进行单元测试时，assert关键词可以用来在程序中置入检查点，只有条件为 True 才能让程序正常工作。"
   ]
  },
  {
   "cell_type": "code",
   "execution_count": null,
   "metadata": {},
   "outputs": [],
   "source": []
  },
  {
   "cell_type": "code",
   "execution_count": null,
   "metadata": {},
   "outputs": [],
   "source": []
  },
  {
   "cell_type": "markdown",
   "metadata": {},
   "source": [
    "# 循环语句\n",
    "2020.03.05 reviewed\n",
    "* Python的循环有两种，一种是for...in循环 \n",
    "    * for循环可以依次把list或tuple等可迭代数据类型中的每个元素迭代出来,并进行进一步的操作.\n",
    "* 第二种循环是while循环\n",
    "    * 只要条件满足，就会不断循环;\n",
    "    * 当条件不再满足时, 才会退出循环;"
   ]
  },
  {
   "cell_type": "markdown",
   "metadata": {},
   "source": [
    "## for循环"
   ]
  },
  {
   "cell_type": "code",
   "execution_count": 17,
   "metadata": {},
   "outputs": [
    {
     "name": "stdout",
     "output_type": "stream",
     "text": [
      "tom\n",
      "jerry\n",
      "cat\n",
      "dog\n",
      "monkey\n"
     ]
    }
   ],
   "source": [
    "# 先定义一个list\n",
    "list1=['tom','jerry','cat','dog','monkey']\n",
    "# 使用for循环打印list中的每一个元素\n",
    "for x in list1:\n",
    "    print(x)"
   ]
  },
  {
   "cell_type": "markdown",
   "metadata": {},
   "source": [
    "* 使用enumerate,可以增加一个整数索引,在很多时候是个很有用的技巧"
   ]
  },
  {
   "cell_type": "code",
   "execution_count": 18,
   "metadata": {},
   "outputs": [
    {
     "name": "stdout",
     "output_type": "stream",
     "text": [
      "0 tom\n",
      "1 jerry\n",
      "2 cat\n",
      "3 dog\n",
      "4 monkey\n"
     ]
    }
   ],
   "source": [
    "for i,x in enumerate(list1):\n",
    "    print(i,x)"
   ]
  },
  {
   "cell_type": "code",
   "execution_count": 19,
   "metadata": {},
   "outputs": [
    {
     "name": "stdout",
     "output_type": "stream",
     "text": [
      "970\n"
     ]
    }
   ],
   "source": [
    "# 使用range()函数构造可迭代序列\n",
    "sum1=0\n",
    "for i in range(1,101,5): # 三个参数分别是 start(包含),end(不包含),步长\n",
    "    sum1=sum1+i\n",
    "print(sum1)"
   ]
  },
  {
   "cell_type": "markdown",
   "metadata": {},
   "source": [
    "### 使用 for 循环遍历列表 \n",
    "这使得可以对列表的所有元素做一些处理,如果结合if判断语句,还可以根据不同元素做不同的处理."
   ]
  },
  {
   "cell_type": "code",
   "execution_count": 20,
   "metadata": {},
   "outputs": [
    {
     "name": "stdout",
     "output_type": "stream",
     "text": [
      "第0个元素,8是偶数\n",
      "第1个元素,8是偶数\n",
      "第2个元素,34是偶数\n",
      "第3个元素,45是奇数\n",
      "第4个元素,32是偶数\n",
      "第5个元素,56是偶数\n",
      "第6个元素,7是奇数\n",
      "第7个元素,8是偶数\n",
      "第8个元素,9是奇数\n",
      "第9个元素,23是奇数\n"
     ]
    }
   ],
   "source": [
    "nums=[8,8,34,45,32,56,7,8,9,23]\n",
    "for i,j in enumerate(nums):\n",
    "    if j%2==1:\n",
    "        print(\"第{}个元素,{}是奇数\".format(i,j))\n",
    "    else:\n",
    "        print(\"第{}个元素,{}是偶数\".format(i,j))"
   ]
  },
  {
   "cell_type": "markdown",
   "metadata": {},
   "source": [
    "* 对于字典,同样可以用for循环进行遍历,而且由于字典是键值对,进行遍历时更加方便."
   ]
  },
  {
   "cell_type": "code",
   "execution_count": 21,
   "metadata": {},
   "outputs": [
    {
     "name": "stdout",
     "output_type": "stream",
     "text": [
      "name 张三\n",
      "age 23\n",
      "gender male\n"
     ]
    }
   ],
   "source": [
    "p1={'name':'张三','age':'23','gender':'male'}\n",
    "for key,value in p1.items():\n",
    "    print(key,value)"
   ]
  },
  {
   "cell_type": "code",
   "execution_count": 22,
   "metadata": {},
   "outputs": [
    {
     "name": "stdout",
     "output_type": "stream",
     "text": [
      "name\n",
      "age\n",
      "gender\n"
     ]
    }
   ],
   "source": [
    "# 遍历字典中的所有键\n",
    "for key in p1.keys():\n",
    "    print(key)"
   ]
  },
  {
   "cell_type": "code",
   "execution_count": 23,
   "metadata": {},
   "outputs": [
    {
     "name": "stdout",
     "output_type": "stream",
     "text": [
      "张三\n",
      "23\n",
      "male\n"
     ]
    }
   ],
   "source": [
    "# 遍历字典中的所有值\n",
    "for value in p1.values():\n",
    "    print(value)"
   ]
  },
  {
   "cell_type": "code",
   "execution_count": 24,
   "metadata": {},
   "outputs": [
    {
     "name": "stdout",
     "output_type": "stream",
     "text": [
      "1t\n",
      "1h\n",
      "1i\n",
      "1s\n",
      "1 \n",
      "1i\n",
      "1s\n",
      "1 \n",
      "1a\n",
      "1 \n",
      "1s\n",
      "1t\n",
      "1r\n",
      "1i\n",
      "1n\n",
      "1g\n"
     ]
    }
   ],
   "source": [
    "# 字符串类型也可以被遍历\n",
    "for i in str(\"this is a string\"):\n",
    "    print('1'+i)"
   ]
  },
  {
   "cell_type": "markdown",
   "metadata": {},
   "source": [
    "* 但并不是所有的数据类型都可以被遍历."
   ]
  },
  {
   "cell_type": "code",
   "execution_count": 25,
   "metadata": {},
   "outputs": [
    {
     "name": "stdout",
     "output_type": "stream",
     "text": [
      "{0: 1, 1: 2, 2: 5, 3: 10, 4: 17, 5: 26, 6: 37, 7: 50, 8: 65, 9: 82}\n",
      "[1, 2, 5, 10, 17, 26, 37, 50, 65, 82]\n"
     ]
    }
   ],
   "source": [
    "# 使用 for 循环为字典或列表添加元素\n",
    "dict1={}\n",
    "list1=[]\n",
    "for i in range(10):\n",
    "    dict1[i]=i**2+1\n",
    "    list1.append(i**2+1)\n",
    "print(dict1)\n",
    "print(list1)"
   ]
  },
  {
   "cell_type": "code",
   "execution_count": 26,
   "metadata": {},
   "outputs": [],
   "source": [
    "# 关于可迭代的数据类型,将在迭代器与生成器章节进行介绍."
   ]
  },
  {
   "cell_type": "markdown",
   "metadata": {},
   "source": [
    "* 列表推导式:\n",
    "  对于给定列表,使用类似于for循环但更加简洁的列表推导式可以快速构造新列表."
   ]
  },
  {
   "cell_type": "code",
   "execution_count": 27,
   "metadata": {},
   "outputs": [],
   "source": [
    "l=list(range(11))"
   ]
  },
  {
   "cell_type": "code",
   "execution_count": 28,
   "metadata": {},
   "outputs": [
    {
     "data": {
      "text/plain": [
       "[0, 1, 2, 3, 4, 5, 6, 7, 8, 9, 10]"
      ]
     },
     "execution_count": 28,
     "metadata": {},
     "output_type": "execute_result"
    }
   ],
   "source": [
    "l"
   ]
  },
  {
   "cell_type": "code",
   "execution_count": 29,
   "metadata": {},
   "outputs": [
    {
     "data": {
      "text/plain": [
       "[1, 4, 9, 16, 25, 36, 49, 64, 81, 100, 121]"
      ]
     },
     "execution_count": 29,
     "metadata": {},
     "output_type": "execute_result"
    }
   ],
   "source": [
    "[i**2+2*i+1 for i in l]"
   ]
  },
  {
   "cell_type": "code",
   "execution_count": 31,
   "metadata": {},
   "outputs": [
    {
     "name": "stdin",
     "output_type": "stream",
     "text": [
      "请输入一个整数: 45\n"
     ]
    },
    {
     "name": "stdout",
     "output_type": "stream",
     "text": [
      "3\n",
      "5\n",
      "9\n",
      "15\n"
     ]
    }
   ],
   "source": [
    "# 使用for循环输出给定数字的所有因子\n",
    "num=int(input('请输入一个整数:'))\n",
    "for i in range(2,num): #这里可以改进为num开方后的整数部分加1\n",
    "    if num%i==0:\n",
    "        print(i)"
   ]
  },
  {
   "cell_type": "markdown",
   "metadata": {},
   "source": [
    "## while循环\n",
    "2020.03.05 reviewed\n",
    "* for 循环用于针对集合中的每个元素都一个代码块，而 while 循环不断地运行，直到指定的条件不满足为止。"
   ]
  },
  {
   "cell_type": "code",
   "execution_count": 32,
   "metadata": {},
   "outputs": [
    {
     "name": "stdout",
     "output_type": "stream",
     "text": [
      "1\n",
      "2\n",
      "3\n",
      "4\n"
     ]
    }
   ],
   "source": [
    "n=1\n",
    "while n<5:\n",
    "    print(n)\n",
    "    n=n+1\n",
    "#  while 循环一定要注意终止条件,避免进入死循环\n",
    "# 对于while后的逻辑表达式是小于给定值的,可以在while中进行自增操作"
   ]
  },
  {
   "cell_type": "code",
   "execution_count": 33,
   "metadata": {
    "scrolled": true
   },
   "outputs": [
    {
     "name": "stdin",
     "output_type": "stream",
     "text": [
      "\n",
      "Tell me something, and I will repeat it back to you:\n",
      "Enter 'quit' to end the program.  no no no\n"
     ]
    },
    {
     "name": "stdout",
     "output_type": "stream",
     "text": [
      "no no no\n"
     ]
    },
    {
     "name": "stdin",
     "output_type": "stream",
     "text": [
      "\n",
      "Tell me something, and I will repeat it back to you:\n",
      "Enter 'quit' to end the program.  q\n"
     ]
    },
    {
     "name": "stdout",
     "output_type": "stream",
     "text": [
      "q\n"
     ]
    },
    {
     "name": "stdin",
     "output_type": "stream",
     "text": [
      "\n",
      "Tell me something, and I will repeat it back to you:\n",
      "Enter 'quit' to end the program.  quit\n"
     ]
    },
    {
     "name": "stdout",
     "output_type": "stream",
     "text": [
      "bye!\n"
     ]
    }
   ],
   "source": [
    "prompt = \"\\nTell me something, and I will repeat it back to you:\"\n",
    "prompt += \"\\nEnter 'quit' to end the program. \"\n",
    "active = True\n",
    "while active:\n",
    "    message = input(prompt)\n",
    "    if message == 'quit':\n",
    "        active = False\n",
    "        print('bye!')\n",
    "    else:\n",
    "        print(message)"
   ]
  },
  {
   "cell_type": "markdown",
   "metadata": {},
   "source": [
    "### 使用 break 退出循环\n",
    "* 要立即退出 while 循环，不再运行循环中余下的代码，也不管条件测试的结果如何，可使用 break 语句。 break 语句用于控制程序流程，可使用它来控制哪些代码行将执行，哪些代码行不执行，从而让程序按你的要求执行你要执行的代码。"
   ]
  },
  {
   "cell_type": "code",
   "execution_count": 34,
   "metadata": {},
   "outputs": [
    {
     "name": "stdin",
     "output_type": "stream",
     "text": [
      "\n",
      "Please enter the name of a city you have visited:\n",
      "(Enter 'quit' when you are finished.)  42\n"
     ]
    },
    {
     "name": "stdout",
     "output_type": "stream",
     "text": [
      "I'd love to go to 42!\n"
     ]
    },
    {
     "name": "stdin",
     "output_type": "stream",
     "text": [
      "\n",
      "Please enter the name of a city you have visited:\n",
      "(Enter 'quit' when you are finished.)  jie\n"
     ]
    },
    {
     "name": "stdout",
     "output_type": "stream",
     "text": [
      "I'd love to go to Jie!\n"
     ]
    },
    {
     "name": "stdin",
     "output_type": "stream",
     "text": [
      "\n",
      "Please enter the name of a city you have visited:\n",
      "(Enter 'quit' when you are finished.)  quit\n"
     ]
    }
   ],
   "source": [
    "prompt = \"\\nPlease enter the name of a city you have visited:\"\n",
    "prompt += \"\\n(Enter 'quit' when you are finished.) \"\n",
    "while True:\n",
    "    city = input(prompt)\n",
    "    if city == 'quit':\n",
    "        break\n",
    "    else:\n",
    "        print(\"I'd love to go to \" + city.title() + \"!\")"
   ]
  },
  {
   "cell_type": "code",
   "execution_count": null,
   "metadata": {},
   "outputs": [],
   "source": []
  },
  {
   "cell_type": "markdown",
   "metadata": {},
   "source": [
    "### 在循环中使用 continue\n",
    "* 要返回到循环开头，并根据条件测试结果决定是否继续执行循环，可使用 continue 语句，它不像 break 语句那样不再执行余下的代码并退出整个循环。"
   ]
  },
  {
   "cell_type": "code",
   "execution_count": 35,
   "metadata": {},
   "outputs": [
    {
     "name": "stdout",
     "output_type": "stream",
     "text": [
      "1\n",
      "3\n",
      "5\n",
      "7\n",
      "9\n"
     ]
    }
   ],
   "source": [
    "current_number = 0\n",
    "while current_number < 10:\n",
    "    current_number += 1\n",
    "    if current_number % 2 == 0:\n",
    "        continue\n",
    "    print(current_number)"
   ]
  },
  {
   "cell_type": "code",
   "execution_count": 36,
   "metadata": {},
   "outputs": [
    {
     "name": "stdout",
     "output_type": "stream",
     "text": [
      "{9, 3, 5, 7}\n"
     ]
    }
   ],
   "source": [
    "# 输出质数\n",
    "current_number = 2\n",
    "s=[]\n",
    "while current_number < 10:\n",
    "    current_number += 1\n",
    "    for i in range(2,current_number):\n",
    "        if current_number% i == 0:\n",
    "            break\n",
    "        else:\n",
    "            s.append(current_number)\n",
    "s=set(s)\n",
    "print(s)"
   ]
  },
  {
   "cell_type": "code",
   "execution_count": 37,
   "metadata": {},
   "outputs": [],
   "source": [
    "def prim_num(n):\n",
    "    current_number = 2\n",
    "    s=[]\n",
    "    while current_number < n:\n",
    "        current_number += 1\n",
    "        for i in range(2,current_number):\n",
    "            if current_number% i == 0:\n",
    "                break\n",
    "            else:\n",
    "                s.append(current_number)\n",
    "    s=set(s)\n",
    "    s=list(s)\n",
    "    s.sort()\n",
    "    return s"
   ]
  },
  {
   "cell_type": "code",
   "execution_count": 38,
   "metadata": {},
   "outputs": [
    {
     "data": {
      "text/plain": [
       "[3, 5, 7, 9]"
      ]
     },
     "execution_count": 38,
     "metadata": {},
     "output_type": "execute_result"
    }
   ],
   "source": [
    "prim_num(10)"
   ]
  },
  {
   "cell_type": "code",
   "execution_count": 39,
   "metadata": {},
   "outputs": [],
   "source": [
    "# 修改\n",
    "def prim_num(n):\n",
    "    current_number = 2\n",
    "    s=[]\n",
    "    while current_number < n:\n",
    "        current_number += 1\n",
    "        t=[]\n",
    "        for i in range(2,current_number):\n",
    "            if current_number% i == 0:\n",
    "                t.append(i)\n",
    "        if len(t)==0:\n",
    "            s.append(current_number)\n",
    "    s=set(s)\n",
    "    s=list(s)\n",
    "    s.sort()\n",
    "    return s"
   ]
  },
  {
   "cell_type": "code",
   "execution_count": 40,
   "metadata": {},
   "outputs": [
    {
     "data": {
      "text/plain": [
       "[3, 5, 7]"
      ]
     },
     "execution_count": 40,
     "metadata": {},
     "output_type": "execute_result"
    }
   ],
   "source": [
    "prim_num(10)"
   ]
  },
  {
   "cell_type": "code",
   "execution_count": 41,
   "metadata": {},
   "outputs": [
    {
     "data": {
      "text/plain": [
       "[3,\n",
       " 5,\n",
       " 7,\n",
       " 11,\n",
       " 13,\n",
       " 17,\n",
       " 19,\n",
       " 23,\n",
       " 29,\n",
       " 31,\n",
       " 37,\n",
       " 41,\n",
       " 43,\n",
       " 47,\n",
       " 53,\n",
       " 59,\n",
       " 61,\n",
       " 67,\n",
       " 71,\n",
       " 73,\n",
       " 79,\n",
       " 83,\n",
       " 89,\n",
       " 97]"
      ]
     },
     "execution_count": 41,
     "metadata": {},
     "output_type": "execute_result"
    }
   ],
   "source": [
    "prim_num(100)"
   ]
  },
  {
   "cell_type": "code",
   "execution_count": 42,
   "metadata": {},
   "outputs": [
    {
     "name": "stdin",
     "output_type": "stream",
     "text": [
      "请输入一个数字: 42\n"
     ]
    },
    {
     "name": "stdout",
     "output_type": "stream",
     "text": [
      "太小了.\n"
     ]
    },
    {
     "name": "stdin",
     "output_type": "stream",
     "text": [
      "请输入一个数字: 88\n"
     ]
    },
    {
     "name": "stdout",
     "output_type": "stream",
     "text": [
      "太小了.\n"
     ]
    },
    {
     "name": "stdin",
     "output_type": "stream",
     "text": [
      "请输入一个数字: 99\n"
     ]
    },
    {
     "name": "stdout",
     "output_type": "stream",
     "text": [
      "太大了.\n"
     ]
    },
    {
     "name": "stdin",
     "output_type": "stream",
     "text": [
      "请输入一个数字: 95\n"
     ]
    },
    {
     "name": "stdout",
     "output_type": "stream",
     "text": [
      "太大了.\n"
     ]
    },
    {
     "name": "stdin",
     "output_type": "stream",
     "text": [
      "请输入一个数字: 91\n"
     ]
    },
    {
     "name": "stdout",
     "output_type": "stream",
     "text": [
      "太小了.\n"
     ]
    },
    {
     "name": "stdin",
     "output_type": "stream",
     "text": [
      "请输入一个数字: 93\n"
     ]
    },
    {
     "name": "stdout",
     "output_type": "stream",
     "text": [
      "太大了.\n"
     ]
    },
    {
     "name": "stdin",
     "output_type": "stream",
     "text": [
      "请输入一个数字: 92\n"
     ]
    },
    {
     "name": "stdout",
     "output_type": "stream",
     "text": [
      "恭喜你,你猜对了!\n",
      "游戏结束!\n"
     ]
    }
   ],
   "source": [
    "# 使用while修改猜数字游戏\n",
    "# 并在循环中使用continue\n",
    "import numpy as np\n",
    "number=np.random.randint(100)\n",
    "guess=int(input('请输入一个数字:'))\n",
    "while guess!=number:\n",
    "    if guess>number:\n",
    "        print('太大了.')\n",
    "        guess=int(input('请输入一个数字:'))\n",
    "        continue\n",
    "    elif guess<number:\n",
    "        print('太小了.')\n",
    "        guess=int(input('请输入一个数字:'))\n",
    "        continue\n",
    "print('恭喜你,你猜对了!')\n",
    "print('游戏结束!')"
   ]
  },
  {
   "cell_type": "code",
   "execution_count": null,
   "metadata": {},
   "outputs": [],
   "source": []
  }
 ],
 "metadata": {
  "kernelspec": {
   "display_name": "Python 3",
   "language": "python",
   "name": "python3"
  },
  "language_info": {
   "codemirror_mode": {
    "name": "ipython",
    "version": 3
   },
   "file_extension": ".py",
   "mimetype": "text/x-python",
   "name": "python",
   "nbconvert_exporter": "python",
   "pygments_lexer": "ipython3",
   "version": "3.7.7"
  },
  "toc-autonumbering": true
 },
 "nbformat": 4,
 "nbformat_minor": 4
}
