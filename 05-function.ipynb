{
 "cells": [
  {
   "cell_type": "markdown",
   "metadata": {},
   "source": [
    "# 函数的定义与调用\n",
    "   2020.03.06 reviewed\n",
    "  "
   ]
  },
  {
   "cell_type": "markdown",
   "metadata": {},
   "source": [
    "在前边的章节学习中, 已经接触过了像是 print 等等Python内建函数. \n",
    "\n",
    "* **函数**是带名字的代码块，用于完成具体的工作。          \n",
    "* 函数的一个主要目的就是将需要执行的代码封装在一起       \n",
    "    * 要执行函数定义的特定任务，可调用该函数.           \n",
    "        需要在程序中多次执行同一项任务时，你无需反复编写完成该任务的代码，而只需调用执行该任务的函数，让 Python 运行其中的代码. 你将发现，通过使用函数，程序的编写、阅读、测试和修复都将更容易.   \n",
    "    * 使用具有某种功能的函数时, 并不需要对函数功能的实现细节有任何了解.         \n",
    "\n"
   ]
  },
  {
   "cell_type": "markdown",
   "metadata": {},
   "source": [
    "## 内置函数介绍及调用 \n",
    "Python中有一个叫做 __builtins__ 的模块,该模块在Python环境启动时就自动导入, 这也是为什么我们可以直接使用诸如print,abs,int等等函数的原因.            \n",
    "globals() 函数会以字典类型返回当前位置的全部全局变, 这其中就包括了程序启动自动引入的模块等等. "
   ]
  },
  {
   "cell_type": "code",
   "execution_count": 1,
   "metadata": {},
   "outputs": [
    {
     "data": {
      "text/plain": [
       "{'__name__': '__main__',\n",
       " '__doc__': 'Automatically created module for IPython interactive environment',\n",
       " '__package__': None,\n",
       " '__loader__': None,\n",
       " '__spec__': None,\n",
       " '__builtin__': <module 'builtins' (built-in)>,\n",
       " '__builtins__': <module 'builtins' (built-in)>,\n",
       " '_ih': ['', 'globals()'],\n",
       " '_oh': {},\n",
       " '_dh': ['D:\\\\Py\\\\note'],\n",
       " 'In': ['', 'globals()'],\n",
       " 'Out': {},\n",
       " 'get_ipython': <bound method InteractiveShell.get_ipython of <ipykernel.zmqshell.ZMQInteractiveShell object at 0x0000000004EB1308>>,\n",
       " 'exit': <IPython.core.autocall.ZMQExitAutocall at 0x4ede108>,\n",
       " 'quit': <IPython.core.autocall.ZMQExitAutocall at 0x4ede108>,\n",
       " '_': '',\n",
       " '__': '',\n",
       " '___': '',\n",
       " '_i': '',\n",
       " '_ii': '',\n",
       " '_iii': '',\n",
       " '_i1': 'globals()'}"
      ]
     },
     "execution_count": 1,
     "metadata": {},
     "output_type": "execute_result"
    }
   ],
   "source": [
    "# 使用 globals 函数可以查看当前的\n",
    "globals()"
   ]
  },
  {
   "cell_type": "markdown",
   "metadata": {},
   "source": [
    "\n",
    "\n",
    "* 查看 __builtins__ 模块包含的函数(和异常等)"
   ]
  },
  {
   "cell_type": "code",
   "execution_count": 2,
   "metadata": {},
   "outputs": [
    {
     "name": "stdout",
     "output_type": "stream",
     "text": [
      "['ArithmeticError', 'AssertionError', 'AttributeError', 'BaseException', 'BlockingIOError', 'BrokenPipeError', 'BufferError', 'BytesWarning', 'ChildProcessError', 'ConnectionAbortedError', 'ConnectionError', 'ConnectionRefusedError', 'ConnectionResetError', 'DeprecationWarning', 'EOFError', 'Ellipsis', 'EnvironmentError', 'Exception', 'False', 'FileExistsError', 'FileNotFoundError', 'FloatingPointError', 'FutureWarning', 'GeneratorExit', 'IOError', 'ImportError', 'ImportWarning', 'IndentationError', 'IndexError', 'InterruptedError', 'IsADirectoryError', 'KeyError', 'KeyboardInterrupt', 'LookupError', 'MemoryError', 'ModuleNotFoundError', 'NameError', 'None', 'NotADirectoryError', 'NotImplemented', 'NotImplementedError', 'OSError', 'OverflowError', 'PendingDeprecationWarning', 'PermissionError', 'ProcessLookupError', 'RecursionError', 'ReferenceError', 'ResourceWarning', 'RuntimeError', 'RuntimeWarning', 'StopAsyncIteration', 'StopIteration', 'SyntaxError', 'SyntaxWarning', 'SystemError', 'SystemExit', 'TabError', 'TimeoutError', 'True', 'TypeError', 'UnboundLocalError', 'UnicodeDecodeError', 'UnicodeEncodeError', 'UnicodeError', 'UnicodeTranslateError', 'UnicodeWarning', 'UserWarning', 'ValueError', 'Warning', 'WindowsError', 'ZeroDivisionError', '__IPYTHON__', '__build_class__', '__debug__', '__doc__', '__import__', '__loader__', '__name__', '__package__', '__spec__', 'abs', 'all', 'any', 'ascii', 'bin', 'bool', 'breakpoint', 'bytearray', 'bytes', 'callable', 'chr', 'classmethod', 'compile', 'complex', 'copyright', 'credits', 'delattr', 'dict', 'dir', 'display', 'divmod', 'enumerate', 'eval', 'exec', 'filter', 'float', 'format', 'frozenset', 'get_ipython', 'getattr', 'globals', 'hasattr', 'hash', 'help', 'hex', 'id', 'input', 'int', 'isinstance', 'issubclass', 'iter', 'len', 'license', 'list', 'locals', 'map', 'max', 'memoryview', 'min', 'next', 'object', 'oct', 'open', 'ord', 'pow', 'print', 'property', 'range', 'repr', 'reversed', 'round', 'set', 'setattr', 'slice', 'sorted', 'staticmethod', 'str', 'sum', 'super', 'tuple', 'type', 'vars', 'zip']\n"
     ]
    }
   ],
   "source": [
    "print(dir(__builtins__))"
   ]
  },
  {
   "cell_type": "markdown",
   "metadata": {},
   "source": [
    "上述输出结果里的一些函数之前已经使用过了, 关于这些函数的功能及参数, 可以使用如下格式的语句来查看. "
   ]
  },
  {
   "cell_type": "code",
   "execution_count": 3,
   "metadata": {},
   "outputs": [
    {
     "data": {
      "text/plain": [
       "\u001b[1;31mSignature:\u001b[0m \u001b[0mid\u001b[0m\u001b[1;33m(\u001b[0m\u001b[0mobj\u001b[0m\u001b[1;33m,\u001b[0m \u001b[1;33m/\u001b[0m\u001b[1;33m)\u001b[0m\u001b[1;33m\u001b[0m\u001b[1;33m\u001b[0m\u001b[0m\n",
       "\u001b[1;31mDocstring:\u001b[0m\n",
       "Return the identity of an object.\n",
       "\n",
       "This is guaranteed to be unique among simultaneously existing objects.\n",
       "(CPython uses the object's memory address.)\n",
       "\u001b[1;31mType:\u001b[0m      builtin_function_or_method\n"
      ]
     },
     "metadata": {},
     "output_type": "display_data"
    }
   ],
   "source": [
    "id??"
   ]
  },
  {
   "cell_type": "code",
   "execution_count": null,
   "metadata": {},
   "outputs": [],
   "source": [
    "# 此处遍历其他内置函数的功能和使用示例"
   ]
  },
  {
   "cell_type": "code",
   "execution_count": null,
   "metadata": {},
   "outputs": [],
   "source": []
  },
  {
   "cell_type": "markdown",
   "metadata": {},
   "source": [
    "## 自定义函数及调用\n",
    "除了内置函数之外, 我们也可以编写自己的函数. \n",
    "* **函数定义:**    \n",
    "  使用关键字 **def** 来告诉 Python 你要定义一个函数.def后的字符串向 Python 指出了函数名，还可能在括号内指出函数为完成其任务需要什么样的信息.    \n",
    "  如果不需要任何信息就能完成其工作，那么括号是空的（即便如此，括号也必不可少）.         \n",
    "  最后，定义以冒号结尾,并引出后边的代码块执行具体的操作. 紧跟在冒号后的所有缩进行构成了函数体.     \n",
    "  \n",
    "在 Python 里有两类函数：\n",
    "1. 第一类：用 def 关键词定义的正规函数--Python中的绝大多数函数都是用这种方式定义的.\n",
    "2. 第二类：用 lambda 关键词定义的匿名函数--也叫 lambda 表达式.    \n",
    "\n",
    "先看用def定义的正规函数:"
   ]
  },
  {
   "cell_type": "code",
   "execution_count": 4,
   "metadata": {},
   "outputs": [],
   "source": [
    "def sayhi():\n",
    "    \"\"\"显示问候语\"\"\"\n",
    "    print('hi~  ')"
   ]
  },
  {
   "cell_type": "markdown",
   "metadata": {},
   "source": [
    "* **函数调用**   \n",
    "  就是让Python执行函数里的代码,要**调用**函数,可依次指定函数名以及括号括起的必要信息.有些函数在执行中通过用户交互来获取所需的参数等信息. \n"
   ]
  },
  {
   "cell_type": "code",
   "execution_count": 5,
   "metadata": {},
   "outputs": [
    {
     "name": "stdout",
     "output_type": "stream",
     "text": [
      "hi~  \n"
     ]
    }
   ],
   "source": [
    "sayhi()"
   ]
  },
  {
   "cell_type": "markdown",
   "metadata": {},
   "source": [
    "## 函数文档\n",
    "* **函数注释**  \n",
    "  注意到在上述sayhi函数的定义中,我们使用了三引号输入了一些文本内容. 这些内容被称为 **文档字符串**.      \n",
    "  在函数体,使用**文档字符串**来进行注释,描述函数的功能等等信息,文档字符串用三引号括起来, Python使用他们来生成有关程序中函数的文档.  \n",
    "\n",
    "* 查看函数的信息"
   ]
  },
  {
   "cell_type": "code",
   "execution_count": 6,
   "metadata": {},
   "outputs": [
    {
     "data": {
      "text/plain": [
       "\u001b[1;31mSignature:\u001b[0m \u001b[0msayhi\u001b[0m\u001b[1;33m(\u001b[0m\u001b[1;33m)\u001b[0m\u001b[1;33m\u001b[0m\u001b[1;33m\u001b[0m\u001b[0m\n",
       "\u001b[1;31mDocstring:\u001b[0m 显示问候语\n",
       "\u001b[1;31mFile:\u001b[0m      d:\\py\\note\\<ipython-input-4-679c2e355973>\n",
       "\u001b[1;31mType:\u001b[0m      function\n"
      ]
     },
     "metadata": {},
     "output_type": "display_data"
    }
   ],
   "source": [
    "sayhi?\n",
    "# 函数名加一个问号,可以查看函数中的说明文档,也就是函数定义里,用三引号引起来的文本内容."
   ]
  },
  {
   "cell_type": "code",
   "execution_count": 7,
   "metadata": {},
   "outputs": [
    {
     "data": {
      "text/plain": [
       "\u001b[1;31mSignature:\u001b[0m \u001b[0msayhi\u001b[0m\u001b[1;33m(\u001b[0m\u001b[1;33m)\u001b[0m\u001b[1;33m\u001b[0m\u001b[1;33m\u001b[0m\u001b[0m\n",
       "\u001b[1;31mSource:\u001b[0m   \n",
       "\u001b[1;32mdef\u001b[0m \u001b[0msayhi\u001b[0m\u001b[1;33m(\u001b[0m\u001b[1;33m)\u001b[0m\u001b[1;33m:\u001b[0m\u001b[1;33m\n",
       "\u001b[0m    \u001b[1;34m\"\"\"显示问候语\"\"\"\u001b[0m\u001b[1;33m\n",
       "\u001b[0m    \u001b[0mprint\u001b[0m\u001b[1;33m(\u001b[0m\u001b[1;34m'hi~  '\u001b[0m\u001b[1;33m)\u001b[0m\u001b[1;33m\u001b[0m\u001b[1;33m\u001b[0m\u001b[0m\n",
       "\u001b[1;31mFile:\u001b[0m      d:\\py\\note\\<ipython-input-4-679c2e355973>\n",
       "\u001b[1;31mType:\u001b[0m      function\n"
      ]
     },
     "metadata": {},
     "output_type": "display_data"
    }
   ],
   "source": [
    "sayhi??\n",
    "# 函数名加两个问号,可以查看函数定义的源代码\n",
    "# 上述方法对导入的库中的函数尤其常用"
   ]
  },
  {
   "cell_type": "code",
   "execution_count": 8,
   "metadata": {},
   "outputs": [
    {
     "data": {
      "text/plain": [
       "\u001b[1;31mSignature:\u001b[0m \u001b[0mabs\u001b[0m\u001b[1;33m(\u001b[0m\u001b[0mx\u001b[0m\u001b[1;33m,\u001b[0m \u001b[1;33m/\u001b[0m\u001b[1;33m)\u001b[0m\u001b[1;33m\u001b[0m\u001b[1;33m\u001b[0m\u001b[0m\n",
       "\u001b[1;31mDocstring:\u001b[0m Return the absolute value of the argument.\n",
       "\u001b[1;31mType:\u001b[0m      builtin_function_or_method\n"
      ]
     },
     "metadata": {},
     "output_type": "display_data"
    }
   ],
   "source": [
    "# 但并不是所有函数都能看到源代码 -- 特别是内置函数.\n",
    "abs??"
   ]
  },
  {
   "cell_type": "markdown",
   "metadata": {},
   "source": [
    "* 三引号与井号的区别         \n",
    "我们在前边的章节学到过, 在python程序中, 可以使用井号(#)来写注释. 那么, 在函数定义中, 井号和三引号的注释的区别是什么呢?          \n",
    "三引号中写的注释, 是可以被使用者轻松地查阅到的. 很多时候, 直接查找和阅读函数源代码是麻烦且不必要的, 特别是当你所使用的函数是在一个较大的模块中的时候. 这时, 使用上边介绍过的 类似 sayhi? 的方式来查看函数的说明文档, 就容易地多了."
   ]
  },
  {
   "cell_type": "code",
   "execution_count": 9,
   "metadata": {},
   "outputs": [],
   "source": [
    "def sayhi():\n",
    "    \"\"\"显示问候语\"\"\"\n",
    "    # 这是一个显示问候语的函数\n",
    "    print('hi~  ')"
   ]
  },
  {
   "cell_type": "code",
   "execution_count": 10,
   "metadata": {},
   "outputs": [
    {
     "data": {
      "text/plain": [
       "\u001b[1;31mSignature:\u001b[0m \u001b[0msayhi\u001b[0m\u001b[1;33m(\u001b[0m\u001b[1;33m)\u001b[0m\u001b[1;33m\u001b[0m\u001b[1;33m\u001b[0m\u001b[0m\n",
       "\u001b[1;31mDocstring:\u001b[0m 显示问候语\n",
       "\u001b[1;31mFile:\u001b[0m      d:\\py\\note\\<ipython-input-9-ebfff212be65>\n",
       "\u001b[1;31mType:\u001b[0m      function\n"
      ]
     },
     "metadata": {},
     "output_type": "display_data"
    }
   ],
   "source": [
    "sayhi?"
   ]
  },
  {
   "cell_type": "markdown",
   "metadata": {},
   "source": [
    "# 向函数传递信息   \n",
    "  为了让函数能够按我们的需求去操作已经定义好的变量或磁盘上存在的文件, 可以通过传递参数的方式向函数传递这些信息.      \n",
    "Python 的函数具有非常灵活多样的参数形态，既可以实现简单的调用，又可以传入非常复杂的参数.           \n",
    "从简到繁的参数形态如下：\n",
    "1. 位置参数 (positional argument)\n",
    "2. 默认参数 (default argument)\n",
    "3. 可变参数 (variable argument)\n",
    "4. 关键字参数 (keyword argument)\n",
    "5. 命名关键字参数 (name keyword argument)\n",
    "6. 参数组合\n"
   ]
  },
  {
   "cell_type": "markdown",
   "metadata": {},
   "source": [
    "* 实参和形参   \n",
    "  在函数的定义中，变量名是一个 **形参** —— 函数完成其工作所需的一项信息. 在调用该函数的代码中，传递给该函数的参数值是一个 实参, **实参**是调用函数时传递给函数的信息."
   ]
  },
  {
   "cell_type": "markdown",
   "metadata": {},
   "source": [
    "\n",
    "##  传递实参\n",
    "  鉴于函数定义中可能包含多个形参，因此函数调用中也可能包含多个实参. 向函数传递实参的方式很多，可使用 **位置实参** ，这要求实参的顺序与形参的顺序相同；也可使用 **关键字实参** ，其中每个实参都由变量名和值组成；还可使用列表和字典. \n",
    "* 位置实参        \n",
    "    你调用函数时， Python 必须将函数调用中的每个实参都关联到函数定义中的一个形参.为此，最简单的关联方式是基于实参的顺序。这种关联方式被称为 **位置实参** .            \n",
    "    位置实参的顺序很重要--使用位置实参来调用函数时，如果实参的顺序不正确，结果可能出乎意料.             \n",
    "    看如下的sayhi()函数的调用方式, 就是通过位置实参的方式传递的参数."
   ]
  },
  {
   "cell_type": "code",
   "execution_count": 23,
   "metadata": {},
   "outputs": [],
   "source": [
    "# 带参数的函数\n",
    "def sayhi(name):\n",
    "    print('hi~  '+name.title())\n",
    "    \"\"\"函数中对name字符串的title方法,会将传入的参数(不论输入的是什么,python都视之为字符串)的首字母大写\"\"\""
   ]
  },
  {
   "cell_type": "code",
   "execution_count": 24,
   "metadata": {},
   "outputs": [
    {
     "name": "stdout",
     "output_type": "stream",
     "text": [
      "hi~  Tom\n"
     ]
    }
   ],
   "source": [
    "# 位置实参\n",
    "sayhi('tom')"
   ]
  },
  {
   "cell_type": "code",
   "execution_count": 13,
   "metadata": {},
   "outputs": [
    {
     "name": "stdout",
     "output_type": "stream",
     "text": [
      "hi~  张三\n"
     ]
    }
   ],
   "source": [
    "sayhi('张三')"
   ]
  },
  {
   "cell_type": "markdown",
   "metadata": {},
   "source": [
    "* 关键字实参                  \n",
    "  关键字实参 是传递给函数的 名称—值 对. 你直接在实参中将名称和值关联起来了，因此向函数传递实参时不会混淆. 关键字实参让你无需考虑函数调用中的实参顺序，(当形参名称被恰当定义了的时候)还能清楚地指出了函数调用中各个值的用途.   \n",
    "  使用关键字实参传递参数,使得参数的顺序无关紧要，因为 Python 根据 名称-值 对就可以知道各个值该存储到哪个形参中."
   ]
  },
  {
   "cell_type": "code",
   "execution_count": 25,
   "metadata": {},
   "outputs": [
    {
     "name": "stdout",
     "output_type": "stream",
     "text": [
      "hi~  Tom\n"
     ]
    }
   ],
   "source": [
    "# 关键字实参\n",
    "# 另外一种调用方式是使用参数名来匹配传入的参数 -- 函数只有一个参数的时候, 写不写参数名没有任何区别.\n",
    "sayhi(name='tom')"
   ]
  },
  {
   "cell_type": "code",
   "execution_count": 14,
   "metadata": {},
   "outputs": [],
   "source": [
    "# 带两个参数的函数\n",
    "def sayhi(name,time):\n",
    "    print('hi~'+name+','+'this is the '+time+' time to see you')\n",
    "    \"\"\"这里也可以用字符串的format方法来\"\"\""
   ]
  },
  {
   "cell_type": "code",
   "execution_count": 15,
   "metadata": {},
   "outputs": [
    {
     "name": "stdout",
     "output_type": "stream",
     "text": [
      "hi~tom,this is the 2 time to see you\n"
     ]
    }
   ],
   "source": [
    "sayhi('tom','2')"
   ]
  },
  {
   "cell_type": "code",
   "execution_count": 16,
   "metadata": {},
   "outputs": [
    {
     "ename": "TypeError",
     "evalue": "can only concatenate str (not \"int\") to str",
     "output_type": "error",
     "traceback": [
      "\u001b[1;31m---------------------------------------------------------------------------\u001b[0m",
      "\u001b[1;31mTypeError\u001b[0m                                 Traceback (most recent call last)",
      "\u001b[1;32m<ipython-input-16-67b06f1554dd>\u001b[0m in \u001b[0;36m<module>\u001b[1;34m\u001b[0m\n\u001b[1;32m----> 1\u001b[1;33m \u001b[0msayhi\u001b[0m\u001b[1;33m(\u001b[0m\u001b[1;34m'joy'\u001b[0m\u001b[1;33m,\u001b[0m\u001b[1;36m9\u001b[0m\u001b[1;33m)\u001b[0m\u001b[1;33m\u001b[0m\u001b[1;33m\u001b[0m\u001b[0m\n\u001b[0m\u001b[0;32m      2\u001b[0m \u001b[1;31m# 当传入int时,会报错,因为打印函数中是用加号把字符串拼接起来, 因此 time 必须是str才能做加法.\u001b[0m\u001b[1;33m\u001b[0m\u001b[1;33m\u001b[0m\u001b[1;33m\u001b[0m\u001b[0m\n",
      "\u001b[1;32m<ipython-input-14-e2366dd6adf6>\u001b[0m in \u001b[0;36msayhi\u001b[1;34m(name, time)\u001b[0m\n\u001b[0;32m      1\u001b[0m \u001b[1;31m# 带两个参数的函数\u001b[0m\u001b[1;33m\u001b[0m\u001b[1;33m\u001b[0m\u001b[1;33m\u001b[0m\u001b[0m\n\u001b[0;32m      2\u001b[0m \u001b[1;32mdef\u001b[0m \u001b[0msayhi\u001b[0m\u001b[1;33m(\u001b[0m\u001b[0mname\u001b[0m\u001b[1;33m,\u001b[0m\u001b[0mtime\u001b[0m\u001b[1;33m)\u001b[0m\u001b[1;33m:\u001b[0m\u001b[1;33m\u001b[0m\u001b[1;33m\u001b[0m\u001b[0m\n\u001b[1;32m----> 3\u001b[1;33m     \u001b[0mprint\u001b[0m\u001b[1;33m(\u001b[0m\u001b[1;34m'hi~'\u001b[0m\u001b[1;33m+\u001b[0m\u001b[0mname\u001b[0m\u001b[1;33m+\u001b[0m\u001b[1;34m','\u001b[0m\u001b[1;33m+\u001b[0m\u001b[1;34m'this is the '\u001b[0m\u001b[1;33m+\u001b[0m\u001b[0mtime\u001b[0m\u001b[1;33m+\u001b[0m\u001b[1;34m' time to see you'\u001b[0m\u001b[1;33m)\u001b[0m\u001b[1;33m\u001b[0m\u001b[1;33m\u001b[0m\u001b[0m\n\u001b[0m\u001b[0;32m      4\u001b[0m     \u001b[1;34m\"\"\"这里也可以用字符串的format方法来\"\"\"\u001b[0m\u001b[1;33m\u001b[0m\u001b[1;33m\u001b[0m\u001b[0m\n",
      "\u001b[1;31mTypeError\u001b[0m: can only concatenate str (not \"int\") to str"
     ]
    }
   ],
   "source": [
    "sayhi('joy',9)\n",
    "# 当传入int时,会报错,因为打印函数中是用加号把字符串拼接起来, 因此 time 必须是str才能做加法."
   ]
  },
  {
   "cell_type": "code",
   "execution_count": 17,
   "metadata": {},
   "outputs": [],
   "source": [
    "def sayhi(name,time):\n",
    "    print('hi~{},this is the {} time to see you'.format(name,time))\n",
    "    \"\"\"用字符串的format方法来输出\"\"\""
   ]
  },
  {
   "cell_type": "code",
   "execution_count": 18,
   "metadata": {},
   "outputs": [
    {
     "name": "stdout",
     "output_type": "stream",
     "text": [
      "hi~joy,this is the 9 time to see you\n"
     ]
    }
   ],
   "source": [
    "sayhi('joy',9)\n",
    "# 这次传入int类型数字就没问题了.但是第一个参数还是必须加引号,因为joy并没有提前定义"
   ]
  },
  {
   "cell_type": "markdown",
   "metadata": {},
   "source": [
    "* Python 允许函数调用时参数的顺序与声明时不一致，因为 Python 解释器能够用参数名匹配参数值.   \n",
    "例如, 我们将上述函数的调用方式中, 两个参数的位置调换, 同时使用参数名(形参)来标明实参对应的形参, 函数还是可以正常运行的."
   ]
  },
  {
   "cell_type": "code",
   "execution_count": 19,
   "metadata": {},
   "outputs": [
    {
     "name": "stdout",
     "output_type": "stream",
     "text": [
      "hi~joy,this is the 9 time to see you\n"
     ]
    }
   ],
   "source": [
    "sayhi(time=9,name='joy')"
   ]
  },
  {
   "cell_type": "code",
   "execution_count": 21,
   "metadata": {},
   "outputs": [
    {
     "name": "stdout",
     "output_type": "stream",
     "text": [
      "hi~9,this is the joy time to see you\n"
     ]
    }
   ],
   "source": [
    "# 但是直接调换两个参数的位置是不行的 -- 得到的结果不是我们想要的.\n",
    "sayhi(9,'joy')\n",
    "# 因此, 在使用参数个数较多的函数时, 为了能够如我们预料的那样运行程序, 最好使用参数名来匹配传入的实参."
   ]
  },
  {
   "cell_type": "code",
   "execution_count": 13,
   "metadata": {},
   "outputs": [],
   "source": [
    "name1='ross'"
   ]
  },
  {
   "cell_type": "code",
   "execution_count": 14,
   "metadata": {},
   "outputs": [
    {
     "name": "stdout",
     "output_type": "stream",
     "text": [
      "hi~ross,this is the 3 time to see you\n"
     ]
    }
   ],
   "source": [
    "sayhi(name1,3)\n",
    "# 这时就可以直接传入name1而不加引号了,因为name1是提前定义好的变量名."
   ]
  },
  {
   "cell_type": "markdown",
   "metadata": {},
   "source": [
    "## 参数的默认值\n",
    "编写函数时，可给每个形参指定 **默认值**.   \n",
    "在调用函数中给形参提供了实参时， Python 将使用指定的实参值；否则，将使用形参的默认值. 因此，给形参指定默认值后，可在函数调用中省略相应的实参. 使用默认值可简化函数调用(当我们只想用一个功能强大的函数解决一个小问题时不需要传递所有的参数)，还可清楚地指出函数的典型用法.\n",
    "\n",
    "**注意** 　\n",
    "使用默认值时，在形参列表中必须先列出没有默认值的形参，再列出有默认值的实参--这让 Python 依然能够正确地解读位置实参.   \n",
    "在进行函数调用时,必须给无默认值的形参传递实参,传递参数时可以使用位置实参,也可以使用关键字方式.    \n",
    "等你开始使用函数后，如果遇到实参不匹配错误(TypeError)，不要大惊小怪--你提供的实参多于或少于函数完成其工作所需的信息时，将出现实参不匹配错误."
   ]
  },
  {
   "cell_type": "code",
   "execution_count": 15,
   "metadata": {},
   "outputs": [],
   "source": [
    "def sayhi(name,time='1'):\n",
    "    \"\"\"time默认值为1\"\"\"\n",
    "    print('hi~'+name+','+'this is the '+time+' time to see you')"
   ]
  },
  {
   "cell_type": "code",
   "execution_count": 16,
   "metadata": {},
   "outputs": [
    {
     "name": "stdout",
     "output_type": "stream",
     "text": [
      "hi~jerry,this is the 1 time to see you\n"
     ]
    }
   ],
   "source": [
    "sayhi('jerry')"
   ]
  },
  {
   "cell_type": "code",
   "execution_count": 17,
   "metadata": {},
   "outputs": [
    {
     "name": "stdout",
     "output_type": "stream",
     "text": [
      "hi~tom,this is the 6 time to see you\n"
     ]
    }
   ],
   "source": [
    "sayhi('tom','6')"
   ]
  },
  {
   "cell_type": "markdown",
   "metadata": {},
   "source": [
    "## 可变参数\n",
    "* 有时候可能想定义的函数里能够有任意数量的变量,也就是参数数量是可变的,这可以通过使用星号来实现. \n",
    "  * 例如，来看一个制作比萨的函数，它需要接受很多配料，但你无法预先确定顾客要多少种配料。   \n",
    "    下面的函数只有一个形参 *toppings ，但不管调用语句提供了多少实参，这个形参都将它们统统收入囊中："
   ]
  },
  {
   "cell_type": "code",
   "execution_count": 30,
   "metadata": {},
   "outputs": [],
   "source": [
    "def make_pizza(*toppings):\n",
    "    \"\"\" 概述要制作的比萨 \"\"\"\n",
    "    print(\"\\nMaking a pizza with the following toppings:\")\n",
    "    for topping in toppings:\n",
    "        \"\"\" 打印顾客点的所有配料 \"\"\"\n",
    "        print(\"- \" + topping)\n",
    "# 形参名 *toppings 中的星号让 Python 创建一个名为 toppings 的空元组，并将收到的所有值都封装到这个元组中"
   ]
  },
  {
   "cell_type": "code",
   "execution_count": 31,
   "metadata": {},
   "outputs": [
    {
     "name": "stdout",
     "output_type": "stream",
     "text": [
      "\n",
      "Making a pizza with the following toppings:\n",
      "- pepperoni\n"
     ]
    }
   ],
   "source": [
    "# 传入一个参数\n",
    "make_pizza('pepperoni')"
   ]
  },
  {
   "cell_type": "code",
   "execution_count": 32,
   "metadata": {},
   "outputs": [
    {
     "name": "stdout",
     "output_type": "stream",
     "text": [
      "\n",
      "Making a pizza with the following toppings:\n",
      "- mushrooms\n",
      "- green peppers\n",
      "- extra cheese\n"
     ]
    }
   ],
   "source": [
    "# 传入多个个参数\n",
    "make_pizza('mushrooms', 'green peppers', 'extra cheese')"
   ]
  },
  {
   "cell_type": "code",
   "execution_count": null,
   "metadata": {},
   "outputs": [],
   "source": []
  },
  {
   "cell_type": "markdown",
   "metadata": {},
   "source": [
    "1. *args - 可变参数，可以是从零个到任意个，自动组装成元组。\n",
    "2. 加了星号（*）的变量名会存放所有未命名的变量参数。"
   ]
  },
  {
   "cell_type": "markdown",
   "metadata": {},
   "source": [
    "* 结合使用位置实参和任意数量实参   \n",
    "  如果要让函数接受不同类型的实参，必须在函数定义中将接纳任意数量实参的形参放在最后。 Python 先匹配位置实参和关键字实参，再将余下的实参都收集到最后一个形参中。   \n",
    "  例如，如果前面的函数还需要一个表示比萨尺寸的实参，必须将该形参放在形参 *toppings 的前面："
   ]
  },
  {
   "cell_type": "code",
   "execution_count": 33,
   "metadata": {},
   "outputs": [],
   "source": [
    "def make_pizza(size, *toppings):\n",
    "    \"\"\" 概述要制作的比萨 \"\"\"\n",
    "    print(\"\\nMaking a \" + str(size) +\"-inch pizza with the following toppings:\")\n",
    "    for topping in toppings:\n",
    "        print(\"- \" + topping)"
   ]
  },
  {
   "cell_type": "code",
   "execution_count": 34,
   "metadata": {},
   "outputs": [
    {
     "name": "stdout",
     "output_type": "stream",
     "text": [
      "\n",
      "Making a 6-inch pizza with the following toppings:\n",
      "- mushrooms\n",
      "- green peppers\n",
      "- extra cheese\n"
     ]
    }
   ],
   "source": [
    "make_pizza(6, 'mushrooms', 'green peppers', 'extra cheese')"
   ]
  },
  {
   "cell_type": "code",
   "execution_count": null,
   "metadata": {},
   "outputs": [],
   "source": []
  },
  {
   "cell_type": "markdown",
   "metadata": {},
   "source": [
    "* 使用任意数量的关键字实参   \n",
    "  有时候，需要接受任意数量的实参，但预先不知道传递给函数的会是什么样的信息。           \n",
    "  在这种情况下，可将函数编写成能够接受任意数量的键-值对——调用语句提供了多少就接受多少。           \n",
    "  一个这样的示例是创建用户简介：你知道你将收到有关用户的信息，但不确定会是什么样的信息。   \n",
    "  在下面的示例中，函数 build_profile() 接受名和姓，同时还接受任意数量的关键字实参：\n",
    "  函数 build_profile() 的定义要求提供名和姓，同时允许用户根据需要提供任意数量的名称 — 值对"
   ]
  },
  {
   "cell_type": "code",
   "execution_count": 35,
   "metadata": {},
   "outputs": [],
   "source": [
    "def build_profile(first, last, **user_info): # 形参 **user_info 中的两个星号让 Python 创建一个名为 user_info 的空字典，并将收到的所有名称 — 值对都封装到这个字典中\n",
    "    \"\"\" 创建一个字典，其中包含我们知道的有关用户的一切 \"\"\"\n",
    "    profile = {}\n",
    "    profile['first_name'] = first\n",
    "    profile['last_name'] = last\n",
    "    for key, value in user_info.items():\\\n",
    "        profile[key] = value\n",
    "    return profile\n",
    "# "
   ]
  },
  {
   "cell_type": "code",
   "execution_count": 36,
   "metadata": {},
   "outputs": [
    {
     "name": "stdout",
     "output_type": "stream",
     "text": [
      "{'first_name': 'albert', 'last_name': 'einstein', 'location': 'princeton', 'field': 'physics'}\n"
     ]
    }
   ],
   "source": [
    "user_profile = build_profile('albert', 'einstein',location='princeton',field='physics')\n",
    "print(user_profile)"
   ]
  },
  {
   "cell_type": "markdown",
   "metadata": {},
   "source": [
    "* 另一个例子:混合使用任意数量实参和任意数量的关键字实参"
   ]
  },
  {
   "cell_type": "code",
   "execution_count": 37,
   "metadata": {},
   "outputs": [],
   "source": [
    "def sayhi(myname='lily',*names,**times):# 怎么设置time默认值为 1 ?\n",
    "    # *names可以接受任意数量的实参(这里是姓名)\n",
    "    # **times 接收任意数量的关键字实参(传入时必须指定参数的关键字)\n",
    "    print('my name is '+myname+'.')\n",
    "    for name,time in zip(names,times.values()):#使用zip函数合并参数\n",
    "        print('are you '+name+' ?')\n",
    "#    for time in times.values():\n",
    "        print('this is the '+time+' time to see you')"
   ]
  },
  {
   "cell_type": "code",
   "execution_count": 38,
   "metadata": {},
   "outputs": [
    {
     "name": "stdout",
     "output_type": "stream",
     "text": [
      "my name is lucy.\n",
      "are you tom ?\n",
      "this is the 5 time to see you\n",
      "are you jerry ?\n",
      "this is the 7 time to see you\n",
      "are you mike ?\n",
      "this is the 9 time to see you\n"
     ]
    }
   ],
   "source": [
    "sayhi('lucy','tom','jerry','mike',j='5',k='7',l='9')"
   ]
  },
  {
   "cell_type": "code",
   "execution_count": 39,
   "metadata": {},
   "outputs": [
    {
     "name": "stdout",
     "output_type": "stream",
     "text": [
      "my name is lucy.\n"
     ]
    }
   ],
   "source": [
    "sayhi('lucy',['tom','jerry','mike'],['5','7','9'])"
   ]
  },
  {
   "cell_type": "code",
   "execution_count": 40,
   "metadata": {},
   "outputs": [
    {
     "name": "stdout",
     "output_type": "stream",
     "text": [
      "my name is lucy.\n"
     ]
    },
    {
     "ename": "TypeError",
     "evalue": "can only concatenate str (not \"list\") to str",
     "output_type": "error",
     "traceback": [
      "\u001b[1;31m---------------------------------------------------------------------------\u001b[0m",
      "\u001b[1;31mTypeError\u001b[0m                                 Traceback (most recent call last)",
      "\u001b[1;32m<ipython-input-40-077f556f4bc7>\u001b[0m in \u001b[0;36m<module>\u001b[1;34m\u001b[0m\n\u001b[1;32m----> 1\u001b[1;33m \u001b[0msayhi\u001b[0m\u001b[1;33m(\u001b[0m\u001b[1;34m'lucy'\u001b[0m\u001b[1;33m,\u001b[0m\u001b[1;33m[\u001b[0m\u001b[1;34m'tom'\u001b[0m\u001b[1;33m,\u001b[0m\u001b[1;34m'jerry'\u001b[0m\u001b[1;33m,\u001b[0m\u001b[1;34m'mike'\u001b[0m\u001b[1;33m]\u001b[0m\u001b[1;33m,\u001b[0m\u001b[1;33m[\u001b[0m\u001b[1;34m'5'\u001b[0m\u001b[1;33m,\u001b[0m\u001b[1;34m'7'\u001b[0m\u001b[1;33m,\u001b[0m\u001b[1;34m'9'\u001b[0m\u001b[1;33m]\u001b[0m\u001b[1;33m,\u001b[0m\u001b[0mj\u001b[0m\u001b[1;33m=\u001b[0m\u001b[1;36m1\u001b[0m\u001b[1;33m,\u001b[0m\u001b[0mk\u001b[0m\u001b[1;33m=\u001b[0m\u001b[1;36m2\u001b[0m\u001b[1;33m)\u001b[0m\u001b[1;33m\u001b[0m\u001b[1;33m\u001b[0m\u001b[0m\n\u001b[0m",
      "\u001b[1;32m<ipython-input-37-e36d126901d3>\u001b[0m in \u001b[0;36msayhi\u001b[1;34m(myname, *names, **times)\u001b[0m\n\u001b[0;32m      4\u001b[0m     \u001b[0mprint\u001b[0m\u001b[1;33m(\u001b[0m\u001b[1;34m'my name is '\u001b[0m\u001b[1;33m+\u001b[0m\u001b[0mmyname\u001b[0m\u001b[1;33m+\u001b[0m\u001b[1;34m'.'\u001b[0m\u001b[1;33m)\u001b[0m\u001b[1;33m\u001b[0m\u001b[1;33m\u001b[0m\u001b[0m\n\u001b[0;32m      5\u001b[0m     \u001b[1;32mfor\u001b[0m \u001b[0mname\u001b[0m\u001b[1;33m,\u001b[0m\u001b[0mtime\u001b[0m \u001b[1;32min\u001b[0m \u001b[0mzip\u001b[0m\u001b[1;33m(\u001b[0m\u001b[0mnames\u001b[0m\u001b[1;33m,\u001b[0m\u001b[0mtimes\u001b[0m\u001b[1;33m.\u001b[0m\u001b[0mvalues\u001b[0m\u001b[1;33m(\u001b[0m\u001b[1;33m)\u001b[0m\u001b[1;33m)\u001b[0m\u001b[1;33m:\u001b[0m\u001b[1;31m#使用zip函数合并参数\u001b[0m\u001b[1;33m\u001b[0m\u001b[1;33m\u001b[0m\u001b[0m\n\u001b[1;32m----> 6\u001b[1;33m         \u001b[0mprint\u001b[0m\u001b[1;33m(\u001b[0m\u001b[1;34m'are you '\u001b[0m\u001b[1;33m+\u001b[0m\u001b[0mname\u001b[0m\u001b[1;33m+\u001b[0m\u001b[1;34m' ?'\u001b[0m\u001b[1;33m)\u001b[0m\u001b[1;33m\u001b[0m\u001b[1;33m\u001b[0m\u001b[0m\n\u001b[0m\u001b[0;32m      7\u001b[0m \u001b[1;31m#    for time in times.values():\u001b[0m\u001b[1;33m\u001b[0m\u001b[1;33m\u001b[0m\u001b[1;33m\u001b[0m\u001b[0m\n\u001b[0;32m      8\u001b[0m         \u001b[0mprint\u001b[0m\u001b[1;33m(\u001b[0m\u001b[1;34m'this is the '\u001b[0m\u001b[1;33m+\u001b[0m\u001b[0mtime\u001b[0m\u001b[1;33m+\u001b[0m\u001b[1;34m' time to see you'\u001b[0m\u001b[1;33m)\u001b[0m\u001b[1;33m\u001b[0m\u001b[1;33m\u001b[0m\u001b[0m\n",
      "\u001b[1;31mTypeError\u001b[0m: can only concatenate str (not \"list\") to str"
     ]
    }
   ],
   "source": [
    "sayhi('lucy',['tom','jerry','mike'],['5','7','9'],j=1,k=2)  # TypeError: can only concatenate str (not \"list\") to str"
   ]
  },
  {
   "cell_type": "code",
   "execution_count": 50,
   "metadata": {},
   "outputs": [
    {
     "ename": "SyntaxError",
     "evalue": "non-default argument follows default argument (<ipython-input-50-303e356dc196>, line 1)",
     "output_type": "error",
     "traceback": [
      "\u001b[1;36m  File \u001b[1;32m\"<ipython-input-50-303e356dc196>\"\u001b[1;36m, line \u001b[1;32m1\u001b[0m\n\u001b[1;33m    def sayhi(myname='lily',names,times):# time默认值为1\u001b[0m\n\u001b[1;37m             ^\u001b[0m\n\u001b[1;31mSyntaxError\u001b[0m\u001b[1;31m:\u001b[0m non-default argument follows default argument\n"
     ]
    }
   ],
   "source": [
    "def sayhi(myname='lily',names,times):# time默认值为1\n",
    "    print('my name is '+myname+'.')\n",
    "    for name,time in zip(names,times):#使用zip函数合并参数\n",
    "        print('are you '+name+' ?')\n",
    "#    for time in times.values():\n",
    "        print('this is the '+time+' time to see you')\n",
    "# 报错: SyntaxError: non-default argument follows default argument\n",
    "# 有默认值的参数必须放到无默认值的参数后边"
   ]
  },
  {
   "cell_type": "code",
   "execution_count": 51,
   "metadata": {},
   "outputs": [],
   "source": [
    "def sayhi(names,times,myname='lily'):# time默认值为1\n",
    "    print('my name is '+myname+'.')\n",
    "    for name,time in zip(names,times):#使用zip函数合并参数\n",
    "        print('are you '+name+' ?')\n",
    "#    for time in times.values():\n",
    "        print('this is the '+time+' time to see you')"
   ]
  },
  {
   "cell_type": "code",
   "execution_count": 52,
   "metadata": {},
   "outputs": [
    {
     "name": "stdout",
     "output_type": "stream",
     "text": [
      "my name is lily.\n",
      "are you tom ?\n",
      "this is the 5 time to see you\n",
      "are you jerry ?\n",
      "this is the 7 time to see you\n",
      "are you mike ?\n",
      "this is the 9 time to see you\n"
     ]
    }
   ],
   "source": [
    "sayhi(['tom','jerry','mike'],['5','7','9'])"
   ]
  },
  {
   "cell_type": "markdown",
   "metadata": {},
   "source": [
    "## 向函数传递列表\n",
    "    向函数传递列表很有用，这种列表包含的可能是名字、数字或更复杂的对象（如字典）。将列表传递给函数后，函数就能直接访问其内容."
   ]
  },
  {
   "cell_type": "markdown",
   "metadata": {},
   "source": [
    "### 在函数中修改列表\n",
    "将列表传递给函数后，函数就可对其进行修改。在函数中对这个列表所做的任何修改都是永久性的，这让你能够高效地处理大量的数据.\n",
    "\n",
    "如果需要禁止函数修改列表,可以向函数传递列表的副本而不是原件(例如以list[:]形式传递列表)；这样函数所做的任何修改都只影响副本，而丝毫不影响原件"
   ]
  },
  {
   "cell_type": "code",
   "execution_count": 53,
   "metadata": {},
   "outputs": [],
   "source": [
    "# 向函数传递列表\n",
    "def printlist(lst):\n",
    "    print(lst)"
   ]
  },
  {
   "cell_type": "code",
   "execution_count": 54,
   "metadata": {},
   "outputs": [
    {
     "name": "stdout",
     "output_type": "stream",
     "text": [
      "[1, 5, 8, 699, 79, 7, 8, '2', 'daf', 'da']\n"
     ]
    }
   ],
   "source": [
    "l=[1,5,8,699,79,7,8,'2','daf','da']\n",
    "printlist(l)"
   ]
  },
  {
   "cell_type": "code",
   "execution_count": 56,
   "metadata": {},
   "outputs": [],
   "source": [
    "# 打印列表内容\n",
    "def printlist1(lst):\n",
    "    for item in lst:\n",
    "        print(item)"
   ]
  },
  {
   "cell_type": "code",
   "execution_count": 57,
   "metadata": {},
   "outputs": [
    {
     "name": "stdout",
     "output_type": "stream",
     "text": [
      "1\n",
      "5\n",
      "8\n",
      "699\n",
      "79\n",
      "7\n",
      "8\n",
      "2\n",
      "daf\n",
      "da\n"
     ]
    }
   ],
   "source": [
    "printlist1(l)"
   ]
  },
  {
   "cell_type": "code",
   "execution_count": 58,
   "metadata": {},
   "outputs": [],
   "source": [
    "# 在函数中修改列表\n",
    "def changelist(lst):\n",
    "    lst=[i*2 for i in lst] # 使用列表推导式,将列表每个元素乘以2(对str乘以2就是将其与自身拼接)\n",
    "    print(lst)"
   ]
  },
  {
   "cell_type": "code",
   "execution_count": 59,
   "metadata": {},
   "outputs": [
    {
     "name": "stdout",
     "output_type": "stream",
     "text": [
      "[2, 10, 16, 1398, 158, 14, 16, '22', 'dafdaf', 'dada']\n"
     ]
    }
   ],
   "source": [
    "changelist(l)"
   ]
  },
  {
   "cell_type": "code",
   "execution_count": 60,
   "metadata": {},
   "outputs": [
    {
     "data": {
      "text/plain": [
       "[1, 5, 8, 699, 79, 7, 8, '2', 'daf', 'da']"
      ]
     },
     "execution_count": 60,
     "metadata": {},
     "output_type": "execute_result"
    }
   ],
   "source": [
    "l\n",
    "# 上述changelist()函数并没有永久性地修改传入的列表\n",
    "# 因为函数中的参数lst的作用域只在函数体内有效\n",
    "# "
   ]
  },
  {
   "cell_type": "code",
   "execution_count": 61,
   "metadata": {},
   "outputs": [],
   "source": [
    "# 在函数中修改列表\n",
    "# 使用global 参数\n",
    "lst=[1,5,8,699,79,7,8,'2','daf','da']\n",
    "\n",
    "def changelist():\n",
    "    global lst\n",
    "    lst=[i*2 for i in lst] # 使用列表推导式,将列表每个元素乘以2(对str乘以2就是将其与自身拼接)\n",
    "    print(lst)"
   ]
  },
  {
   "cell_type": "code",
   "execution_count": 62,
   "metadata": {},
   "outputs": [
    {
     "name": "stdout",
     "output_type": "stream",
     "text": [
      "[2, 10, 16, 1398, 158, 14, 16, '22', 'dafdaf', 'dada']\n"
     ]
    }
   ],
   "source": [
    "changelist()"
   ]
  },
  {
   "cell_type": "code",
   "execution_count": 63,
   "metadata": {},
   "outputs": [
    {
     "data": {
      "text/plain": [
       "[2, 10, 16, 1398, 158, 14, 16, '22', 'dafdaf', 'dada']"
      ]
     },
     "execution_count": 63,
     "metadata": {},
     "output_type": "execute_result"
    }
   ],
   "source": [
    "lst\n",
    "# 这时候lst就被修改了\n",
    "# 但这种方式依赖全局的变量名\n",
    "# 更好的永久性地修改列表(并)方式是下面这种:"
   ]
  },
  {
   "cell_type": "code",
   "execution_count": 64,
   "metadata": {},
   "outputs": [],
   "source": [
    "# 在函数中修改列表\n",
    "def changelist(lst):\n",
    "    lst.extend([i*2 for i in lst]) \n",
    "    \"\"\"使用列表推导式,将列表每个元素乘以2(对str乘以2就是将其与自身拼接),然后添加到原来的列表后边\"\"\"\n",
    "    print(lst)"
   ]
  },
  {
   "cell_type": "code",
   "execution_count": 65,
   "metadata": {},
   "outputs": [
    {
     "name": "stdout",
     "output_type": "stream",
     "text": [
      "[1, 5, 8, 699, 79, 7, 8, '2', 'daf', 'da', 2, 10, 16, 1398, 158, 14, 16, '22', 'dafdaf', 'dada']\n"
     ]
    }
   ],
   "source": [
    "changelist(l)"
   ]
  },
  {
   "cell_type": "code",
   "execution_count": 66,
   "metadata": {},
   "outputs": [
    {
     "data": {
      "text/plain": [
       "[1,\n",
       " 5,\n",
       " 8,\n",
       " 699,\n",
       " 79,\n",
       " 7,\n",
       " 8,\n",
       " '2',\n",
       " 'daf',\n",
       " 'da',\n",
       " 2,\n",
       " 10,\n",
       " 16,\n",
       " 1398,\n",
       " 158,\n",
       " 14,\n",
       " 16,\n",
       " '22',\n",
       " 'dafdaf',\n",
       " 'dada']"
      ]
     },
     "execution_count": 66,
     "metadata": {},
     "output_type": "execute_result"
    }
   ],
   "source": [
    "l"
   ]
  },
  {
   "cell_type": "markdown",
   "metadata": {},
   "source": [
    "# 变量的作用域\n",
    "   在定义函数的程序块里声明的变量,不会以任何方式与身处函数之外的具有相同名称的变量产生关系,也就是说,定义函数的程序块中的变量名,只存在函数这一局部.    \n",
    "   也就是说, **函数中变量的作用域是局部的**,因此也被称为局部变量."
   ]
  },
  {
   "cell_type": "code",
   "execution_count": 18,
   "metadata": {},
   "outputs": [],
   "source": [
    "name='mike'\n",
    "def sayhi(name='tom',time='1'):# time默认值为1\n",
    "    print('hi~'+name+','+'this is the '+time+' time to see you')\n",
    "    name='lily'\n",
    "    print('hi~'+name+','+'this is the '+time+' time to see you')"
   ]
  },
  {
   "cell_type": "code",
   "execution_count": 19,
   "metadata": {},
   "outputs": [
    {
     "name": "stdout",
     "output_type": "stream",
     "text": [
      "hi~mike,this is the 1 time to see you\n",
      "hi~lily,this is the 1 time to see you\n"
     ]
    }
   ],
   "source": [
    "sayhi(name)\n",
    "# 函数之外定义的变量name=mike\n",
    "# 使用函数时传递name实参,函数将会使用函数之外定义的name,而不是默认值\n",
    "# 这里实际有两个name变量--函数外的全局变量name和函数中的形参变量"
   ]
  },
  {
   "cell_type": "code",
   "execution_count": 20,
   "metadata": {},
   "outputs": [
    {
     "data": {
      "text/plain": [
       "'mike'"
      ]
     },
     "execution_count": 20,
     "metadata": {},
     "output_type": "execute_result"
    }
   ],
   "source": [
    "name\n",
    "# 函数内部对name变量的修改,不会作用到函数外边"
   ]
  },
  {
   "cell_type": "code",
   "execution_count": 21,
   "metadata": {},
   "outputs": [
    {
     "name": "stdout",
     "output_type": "stream",
     "text": [
      "hi~tom,this is the 1 time to see you\n",
      "hi~lily,this is the 1 time to see you\n"
     ]
    }
   ],
   "source": [
    "sayhi()\n",
    "# 不传入参数,使用默认参数"
   ]
  },
  {
   "cell_type": "code",
   "execution_count": 24,
   "metadata": {},
   "outputs": [
    {
     "ename": "NameError",
     "evalue": "name 'name' is not defined",
     "output_type": "error",
     "traceback": [
      "\u001b[1;31m---------------------------------------------------------------------------\u001b[0m",
      "\u001b[1;31mNameError\u001b[0m                                 Traceback (most recent call last)",
      "\u001b[1;32m<ipython-input-24-83e8dd7b15fd>\u001b[0m in \u001b[0;36m<module>\u001b[1;34m\u001b[0m\n\u001b[0;32m      1\u001b[0m \u001b[1;31m# 如果我们删除全局变量name, 然后再如上调用函数,就会出错\u001b[0m\u001b[1;33m\u001b[0m\u001b[1;33m\u001b[0m\u001b[1;33m\u001b[0m\u001b[0m\n\u001b[0;32m      2\u001b[0m \u001b[1;31m# NameError: name 'name' is not defined\u001b[0m\u001b[1;33m\u001b[0m\u001b[1;33m\u001b[0m\u001b[1;33m\u001b[0m\u001b[0m\n\u001b[1;32m----> 3\u001b[1;33m \u001b[1;32mdel\u001b[0m \u001b[0mname\u001b[0m\u001b[1;33m\u001b[0m\u001b[1;33m\u001b[0m\u001b[0m\n\u001b[0m\u001b[0;32m      4\u001b[0m \u001b[0msayhi\u001b[0m\u001b[1;33m(\u001b[0m\u001b[0mname\u001b[0m\u001b[1;33m=\u001b[0m\u001b[0mname\u001b[0m\u001b[1;33m)\u001b[0m \u001b[1;31m# 这时,括号中的 name 是未知参数\u001b[0m\u001b[1;33m\u001b[0m\u001b[1;33m\u001b[0m\u001b[0m\n",
      "\u001b[1;31mNameError\u001b[0m: name 'name' is not defined"
     ]
    }
   ],
   "source": [
    "# 如果我们删除全局变量name, 然后再如上调用函数,就会出错\n",
    "# NameError: name 'name' is not defined\n",
    "del name\n",
    "sayhi(name=name) # 这时,括号中的第一个 name 是形参,括号中的第二个 name 是实参\n",
    "# sayhi(name)     # 这时传入的是位置参数."
   ]
  },
  {
   "cell_type": "code",
   "execution_count": 25,
   "metadata": {},
   "outputs": [
    {
     "name": "stdout",
     "output_type": "stream",
     "text": [
      "hi~tom,this is the 1 time to see you\n",
      "hi~lily,this is the 1 time to see you\n"
     ]
    }
   ],
   "source": [
    "sayhi()\n",
    "# 但直接调用函数而不传递参数时，将使用函数的默认值\n",
    "# "
   ]
  },
  {
   "cell_type": "code",
   "execution_count": 26,
   "metadata": {},
   "outputs": [
    {
     "name": "stdout",
     "output_type": "stream",
     "text": [
      "hi~john,this is the 1 time to see you\n",
      "hi~lily,this is the 1 time to see you\n"
     ]
    }
   ],
   "source": [
    "sayhi('john')"
   ]
  },
  {
   "cell_type": "markdown",
   "metadata": {},
   "source": [
    "## **global语句**    \n",
    "如果想要给程序顶层的变量赋值,也就是说这个变量不存在任何作用域内,无论是函数还是类,那么就必须告诉python这一变量并非局部的,而是全局的.    \n",
    "需要通过global语句来完成这件事.    \n",
    "尽管可以使用定义于函数之外的变量的值,但这种方式应该避免,因为它对于程序的读者而言是含糊不清的.     \n",
    "而通过global语句就可以清楚的看出这一变量是在最外边代码块中定义的."
   ]
  },
  {
   "cell_type": "code",
   "execution_count": 27,
   "metadata": {},
   "outputs": [],
   "source": [
    "name='mike'\n",
    "def sayhi(time='1'):# 设置time默认值为1\n",
    "    global name #声明这里的name是全局变量?\n",
    "    print('hi~'+name+','+'this is the '+time+' time to see you')\n",
    "    name='tom'#修改全局变量name的值?\n",
    "    print('hi~'+name+','+'this is the '+time+' time to see you')\n"
   ]
  },
  {
   "cell_type": "code",
   "execution_count": 28,
   "metadata": {},
   "outputs": [
    {
     "name": "stdout",
     "output_type": "stream",
     "text": [
      "hi~mike,this is the 1 time to see you\n",
      "hi~tom,this is the 1 time to see you\n"
     ]
    }
   ],
   "source": [
    "sayhi()"
   ]
  },
  {
   "cell_type": "code",
   "execution_count": 29,
   "metadata": {},
   "outputs": [
    {
     "data": {
      "text/plain": [
       "'tom'"
      ]
     },
     "execution_count": 29,
     "metadata": {},
     "output_type": "execute_result"
    }
   ],
   "source": [
    "name\n",
    "# 这时候全局变量name的值就会被修改了."
   ]
  },
  {
   "cell_type": "markdown",
   "metadata": {},
   "source": [
    "## 内嵌函数与闭包       \n",
    "* 内嵌函数      \n",
    "内嵌函数允许在函数内部创建另一个函数，也叫内部函数.    \n",
    "\n"
   ]
  },
  {
   "cell_type": "code",
   "execution_count": 34,
   "metadata": {},
   "outputs": [],
   "source": [
    "def outer():\n",
    "    print('outer函数在这被调用')\n",
    "    def inner():\n",
    "        print('inner函数在这被调用')\n",
    "    inner() # 该函数只能在outer函数内部被调用 -- 如果注释掉这一行, 该函数将无法被调用"
   ]
  },
  {
   "cell_type": "code",
   "execution_count": 31,
   "metadata": {},
   "outputs": [
    {
     "name": "stdout",
     "output_type": "stream",
     "text": [
      "outer函数在这被调用\n",
      "inner函数在这被调用\n"
     ]
    }
   ],
   "source": [
    "outer()"
   ]
  },
  {
   "cell_type": "markdown",
   "metadata": {},
   "source": [
    "注意：内部函数的整个作用域都在外部函数之内，如 inner 整个定义和调用的过程都在 outer 里面，只有在 outer 里可以被调用，outer 之外无法被调用，会报错."
   ]
  },
  {
   "cell_type": "code",
   "execution_count": 32,
   "metadata": {},
   "outputs": [
    {
     "ename": "NameError",
     "evalue": "name 'inner' is not defined",
     "output_type": "error",
     "traceback": [
      "\u001b[1;31m---------------------------------------------------------------------------\u001b[0m",
      "\u001b[1;31mNameError\u001b[0m                                 Traceback (most recent call last)",
      "\u001b[1;32m<ipython-input-32-bc10f1654870>\u001b[0m in \u001b[0;36m<module>\u001b[1;34m\u001b[0m\n\u001b[1;32m----> 1\u001b[1;33m \u001b[0minner\u001b[0m\u001b[1;33m(\u001b[0m\u001b[1;33m)\u001b[0m\u001b[1;33m\u001b[0m\u001b[1;33m\u001b[0m\u001b[0m\n\u001b[0m",
      "\u001b[1;31mNameError\u001b[0m: name 'inner' is not defined"
     ]
    }
   ],
   "source": [
    "# 在outer函数之外, inner函数无法被调用\n",
    "inner() # NameError: name 'inner' is not defined"
   ]
  },
  {
   "cell_type": "markdown",
   "metadata": {},
   "source": [
    "* 闭包\n",
    "1. 闭包是函数式编程的一个重要的语法结构，是一种特殊的内嵌函数。\n",
    "2. 如果在一个内部函数里对外层非全局作用域的变量进行引用，那么内部函数就被认为是闭包。\n",
    "3. 通过闭包可以访问外层非全局作用域的变量，这个作用域称为 闭包作用域。"
   ]
  },
  {
   "cell_type": "code",
   "execution_count": null,
   "metadata": {},
   "outputs": [],
   "source": []
  },
  {
   "cell_type": "code",
   "execution_count": null,
   "metadata": {},
   "outputs": [],
   "source": []
  },
  {
   "cell_type": "markdown",
   "metadata": {},
   "source": [
    "## 递归"
   ]
  },
  {
   "cell_type": "code",
   "execution_count": null,
   "metadata": {},
   "outputs": [],
   "source": []
  },
  {
   "cell_type": "markdown",
   "metadata": {},
   "source": [
    "# 函数的返回值\n",
    "\n",
    "函数并非总是直接显示输出，相反，它可以处理一些数据，并返回一个或一组值. 函数返回的值被称为 **返回值**.           \n",
    "\n",
    "在函数中，可使用 return 语句将值返回到调用函数的代码行.   \n",
    "返回值让你能够将程序的大部分繁重工作移到函数中去完成，从而简化主程序.\n",
    "\n",
    "return [表达式]  语句用于从函数中返回,也就是中断函数,并且可以在中断函数的时候返回一个值. 该语句是可选的,函数并非必需要有返回值. 不带表达式的 return 相当于返回 None 。\n"
   ]
  },
  {
   "cell_type": "code",
   "execution_count": 29,
   "metadata": {},
   "outputs": [],
   "source": [
    "# 具有返回值的函数\n",
    "def plusone(num):\n",
    "    n=num+1\n",
    "    return n"
   ]
  },
  {
   "cell_type": "code",
   "execution_count": 30,
   "metadata": {},
   "outputs": [
    {
     "data": {
      "text/plain": [
       "4"
      ]
     },
     "execution_count": 30,
     "metadata": {},
     "output_type": "execute_result"
    }
   ],
   "source": [
    "plusone(3)"
   ]
  },
  {
   "cell_type": "markdown",
   "metadata": {},
   "source": [
    "* 为了让某个实参变成可选的,可以在定义函数时,给对应的形参设置一个默认值."
   ]
  },
  {
   "cell_type": "code",
   "execution_count": 31,
   "metadata": {},
   "outputs": [],
   "source": [
    "def plusone(num=0):\n",
    "    n=num+1\n",
    "    return n"
   ]
  },
  {
   "cell_type": "code",
   "execution_count": 32,
   "metadata": {},
   "outputs": [
    {
     "data": {
      "text/plain": [
       "1"
      ]
     },
     "execution_count": 32,
     "metadata": {},
     "output_type": "execute_result"
    }
   ],
   "source": [
    "plusone()"
   ]
  },
  {
   "cell_type": "markdown",
   "metadata": {},
   "source": [
    "* 除了返回简单值,函数也可以返回其他类型的数据,如列表,字典,字符串等等."
   ]
  },
  {
   "cell_type": "code",
   "execution_count": 33,
   "metadata": {},
   "outputs": [],
   "source": [
    "# 返回列表的函数\n",
    "def plusone(num):\n",
    "    s=[]\n",
    "    while num:\n",
    "        j=num.pop(0)+1\n",
    "        s.append(j)\n",
    "    return s"
   ]
  },
  {
   "cell_type": "code",
   "execution_count": 34,
   "metadata": {},
   "outputs": [
    {
     "data": {
      "text/plain": [
       "[2, 6, 7, 9, 8, 10]"
      ]
     },
     "execution_count": 34,
     "metadata": {},
     "output_type": "execute_result"
    }
   ],
   "source": [
    "plusone([1,5,6,8,7,9])"
   ]
  },
  {
   "cell_type": "code",
   "execution_count": 35,
   "metadata": {},
   "outputs": [],
   "source": [
    "# 返回字符串的函数\n",
    "def plusone(n=0):\n",
    "    #n=num+1\n",
    "    s=str(n)+'+1='+str(n+1)\n",
    "    return s"
   ]
  },
  {
   "cell_type": "code",
   "execution_count": 36,
   "metadata": {},
   "outputs": [
    {
     "data": {
      "text/plain": [
       "'3+1=4'"
      ]
     },
     "execution_count": 36,
     "metadata": {},
     "output_type": "execute_result"
    }
   ],
   "source": [
    "plusone(3)"
   ]
  },
  {
   "cell_type": "markdown",
   "metadata": {},
   "source": [
    "* 没有返回值的函数, 有时候会造成一些问题. 例如需要对函数处理后的对象进行进一步的处理时,由于没有返回值, 会遇到类似\"Nonetype is not callable\" 的问题"
   ]
  },
  {
   "cell_type": "code",
   "execution_count": null,
   "metadata": {},
   "outputs": [],
   "source": []
  },
  {
   "cell_type": "markdown",
   "metadata": {},
   "source": [
    "* 怎样返回多个值?比如处理一个列表,按不同条件将传入的列表分成几个列表返回."
   ]
  },
  {
   "cell_type": "code",
   "execution_count": 26,
   "metadata": {},
   "outputs": [],
   "source": [
    "# 在函数体里构造两个序列的生成方式,然后最后返回两个参数\n",
    "def multireturn(lst):\n",
    "    l1,l2=[],[]\n",
    "    for item in lst:\n",
    "        if int(item)<0:\n",
    "            l1.append(item)\n",
    "        else:\n",
    "            l2.append(item)\n",
    "    return l1,l2"
   ]
  },
  {
   "cell_type": "code",
   "execution_count": 27,
   "metadata": {},
   "outputs": [
    {
     "data": {
      "text/plain": [
       "([-5, -4.2, -5.3], [1, 25, 65, 456, 64])"
      ]
     },
     "execution_count": 27,
     "metadata": {},
     "output_type": "execute_result"
    }
   ],
   "source": [
    "lst=[1,25,-5,65,-4.2,-5.3,456,64]\n",
    "multireturn(lst)"
   ]
  },
  {
   "cell_type": "markdown",
   "metadata": {},
   "source": [
    "# 在函数中使用流程控制\n",
    "稍微复杂一些的程序都会包含至少一种流程空值语句. 正如函数定义的本质所揭示的,如果我们要复用一段代码时,最稳妥的办法就是把这段代码写成函数. 对于要处理稍微复杂一些的问题的而言, 包含各种流程控制就成为一种必然.   "
   ]
  },
  {
   "cell_type": "markdown",
   "metadata": {},
   "source": [
    "## if\n",
    "在各种流程控制当中, 最基本的当然就是根据不同情况做出不同应对的if语句了. \n",
    "下面是一个非常简单的使用if-elif-else的函数"
   ]
  },
  {
   "cell_type": "code",
   "execution_count": 67,
   "metadata": {},
   "outputs": [],
   "source": [
    "# 一个猜数字的游戏.\n",
    "import numpy as np\n",
    "def guessnum():\n",
    "    a=np.random.randint(1,10)\n",
    "    b=int(input(\"猜个数吧!\"))\n",
    "    if a>b:\n",
    "        print(\"太小了\")\n",
    "        print(a)\n",
    "    elif a<b:\n",
    "        print(\"太大了\")        \n",
    "        print(a)\n",
    "    else:\n",
    "        print(\"猜对了!\")"
   ]
  },
  {
   "cell_type": "code",
   "execution_count": 68,
   "metadata": {},
   "outputs": [
    {
     "name": "stdin",
     "output_type": "stream",
     "text": [
      "猜个数吧! 4\n"
     ]
    },
    {
     "name": "stdout",
     "output_type": "stream",
     "text": [
      "太小了\n",
      "9\n"
     ]
    }
   ],
   "source": [
    "guessnum()\n",
    "# 每次游戏只能进行一次猜测.\n",
    "# 如需改成多次猜测,需使用while循环"
   ]
  },
  {
   "cell_type": "code",
   "execution_count": null,
   "metadata": {},
   "outputs": [],
   "source": []
  },
  {
   "cell_type": "code",
   "execution_count": null,
   "metadata": {},
   "outputs": [],
   "source": []
  },
  {
   "cell_type": "markdown",
   "metadata": {},
   "source": [
    "更多的时候"
   ]
  },
  {
   "cell_type": "code",
   "execution_count": null,
   "metadata": {},
   "outputs": [],
   "source": []
  },
  {
   "cell_type": "code",
   "execution_count": null,
   "metadata": {},
   "outputs": [],
   "source": []
  },
  {
   "cell_type": "markdown",
   "metadata": {},
   "source": [
    "## for\n",
    "在函数中使用for循环, 可以进行遍历列表,元组,集合,字典等等. "
   ]
  },
  {
   "cell_type": "code",
   "execution_count": 78,
   "metadata": {},
   "outputs": [
    {
     "name": "stdout",
     "output_type": "stream",
     "text": [
      "[1, 5, 8, 699, 79, 7, 8, '2', 'daf', 'da', 2, 10, 16, 1398, 158, 14, 16, '22', 'dafdaf', 'dada']\n"
     ]
    }
   ],
   "source": [
    "print(l)"
   ]
  },
  {
   "cell_type": "code",
   "execution_count": 81,
   "metadata": {},
   "outputs": [],
   "source": [
    "# 打印list的每个元素\n",
    "def print_list(lst):\n",
    "    for item in lst:\n",
    "        print(item)"
   ]
  },
  {
   "cell_type": "code",
   "execution_count": 82,
   "metadata": {},
   "outputs": [
    {
     "name": "stdout",
     "output_type": "stream",
     "text": [
      "1\n",
      "5\n",
      "8\n",
      "699\n",
      "79\n",
      "7\n",
      "8\n",
      "2\n",
      "daf\n",
      "da\n",
      "2\n",
      "10\n",
      "16\n",
      "1398\n",
      "158\n",
      "14\n",
      "16\n",
      "22\n",
      "dafdaf\n",
      "dada\n"
     ]
    }
   ],
   "source": [
    "print_list(l)"
   ]
  },
  {
   "cell_type": "code",
   "execution_count": 84,
   "metadata": {},
   "outputs": [],
   "source": [
    "# 将列表按元素类型分类\n",
    "def classify_list(lst):\n",
    "    num=[]\n",
    "    string=[]\n",
    "    other=[]\n",
    "    for item in lst:\n",
    "        if type(item)==int:\n",
    "            num.append(item)\n",
    "        elif type(item)==str:\n",
    "            string.append(item)\n",
    "        else:\n",
    "            other.append(item)\n",
    "    return num,string,other"
   ]
  },
  {
   "cell_type": "code",
   "execution_count": 85,
   "metadata": {},
   "outputs": [
    {
     "data": {
      "text/plain": [
       "([1, 5, 8, 699, 79, 7, 8, 2, 10, 16, 1398, 158, 14, 16],\n",
       " ['2', 'daf', 'da', '22', 'dafdaf', 'dada'],\n",
       " [])"
      ]
     },
     "execution_count": 85,
     "metadata": {},
     "output_type": "execute_result"
    }
   ],
   "source": [
    "classify_list(l)\n",
    "# 实现了拆分,但本质上还是一个返回值(包括三个列表为元素的元组)"
   ]
  },
  {
   "cell_type": "code",
   "execution_count": 86,
   "metadata": {},
   "outputs": [],
   "source": [
    "# 将列表按元素类型分类\n",
    "def classify_list(lst):\n",
    "    num=[]\n",
    "    string=[]\n",
    "    other=[]\n",
    "    for item in lst:\n",
    "        if type(item)==int:\n",
    "            num.append(item)\n",
    "        elif type(item)==str:\n",
    "            string.append(item)\n",
    "        else:\n",
    "            other.append(item)\n",
    "    return num\n",
    "    return string\n",
    "    return other"
   ]
  },
  {
   "cell_type": "code",
   "execution_count": 87,
   "metadata": {},
   "outputs": [
    {
     "data": {
      "text/plain": [
       "[1, 5, 8, 699, 79, 7, 8, 2, 10, 16, 1398, 158, 14, 16]"
      ]
     },
     "execution_count": 87,
     "metadata": {},
     "output_type": "execute_result"
    }
   ],
   "source": [
    "classify_list(l)\n",
    "# return三个值,但只返回了第一个."
   ]
  },
  {
   "cell_type": "code",
   "execution_count": 94,
   "metadata": {},
   "outputs": [],
   "source": [
    "# 改进分类函数\n",
    "# 将列表按元素类型分类\n",
    "def classify_list(lst):\n",
    "    num=[]\n",
    "    string=[]\n",
    "    other=[]\n",
    "    for item in lst:\n",
    "        if type(item)==int:\n",
    "            num.append(item)\n",
    "        elif type(item)==str:\n",
    "            string.append(item)\n",
    "        else:\n",
    "            other.append(item)"
   ]
  },
  {
   "cell_type": "code",
   "execution_count": 97,
   "metadata": {},
   "outputs": [],
   "source": [
    "classify_list(l)"
   ]
  },
  {
   "cell_type": "code",
   "execution_count": 98,
   "metadata": {},
   "outputs": [
    {
     "ename": "NameError",
     "evalue": "name 'num' is not defined",
     "output_type": "error",
     "traceback": [
      "\u001b[1;31m---------------------------------------------------------------------------\u001b[0m",
      "\u001b[1;31mNameError\u001b[0m                                 Traceback (most recent call last)",
      "\u001b[1;32m<ipython-input-98-c774dac2b598>\u001b[0m in \u001b[0;36m<module>\u001b[1;34m\u001b[0m\n\u001b[1;32m----> 1\u001b[1;33m \u001b[0mnum\u001b[0m\u001b[1;33m\u001b[0m\u001b[1;33m\u001b[0m\u001b[0m\n\u001b[0m",
      "\u001b[1;31mNameError\u001b[0m: name 'num' is not defined"
     ]
    }
   ],
   "source": [
    "num\n",
    "# 已经成功分类了,但没输出,因为num等都是函数内部的变量,看不到."
   ]
  },
  {
   "cell_type": "code",
   "execution_count": 109,
   "metadata": {},
   "outputs": [],
   "source": [
    "# 改进分类函数,使用print输出结果\n",
    "# 但是怎么给三个类别分别命名?\n",
    "# 将列表按元素类型分类\n",
    "def classify_list(lst):\n",
    "    num=[]\n",
    "    string=[]\n",
    "    other=[]\n",
    "    for item in lst:\n",
    "        if type(item)==int:\n",
    "            num.append(item)\n",
    "        elif type(item)==str:\n",
    "            string.append(item)\n",
    "        else:\n",
    "            other.append(item)\n",
    "    print(num)\n",
    "    print(string)\n",
    "    print(other)"
   ]
  },
  {
   "cell_type": "code",
   "execution_count": 110,
   "metadata": {},
   "outputs": [
    {
     "name": "stdout",
     "output_type": "stream",
     "text": [
      "[1, 5, 8, 699, 79, 7, 8, 2, 10, 16, 1398, 158, 14, 16]\n",
      "['2', 'daf', 'da', '22', 'dafdaf', 'dada']\n",
      "[]\n"
     ]
    }
   ],
   "source": [
    "classify_list(l)"
   ]
  },
  {
   "cell_type": "code",
   "execution_count": 102,
   "metadata": {},
   "outputs": [],
   "source": [
    "# 一个妥协:\n",
    "# 复用以下代码,只是在输出后,将结果按位置分别命名\n",
    "# 将列表按元素类型分类\n",
    "def classify_list(lst):\n",
    "    num=[]\n",
    "    string=[]\n",
    "    other=[]\n",
    "    for item in lst:\n",
    "        if type(item)==int:\n",
    "            num.append(item)\n",
    "        elif type(item)==str:\n",
    "            string.append(item)\n",
    "        else:\n",
    "            other.append(item)\n",
    "    return num,string,other"
   ]
  },
  {
   "cell_type": "code",
   "execution_count": 103,
   "metadata": {},
   "outputs": [],
   "source": [
    "fenlei=classify_list(l)\n",
    "# 接下来按位置逐个返回各个类别\n",
    "# 还可以将fenlei的个位置赋值给新的变量."
   ]
  },
  {
   "cell_type": "code",
   "execution_count": 105,
   "metadata": {},
   "outputs": [
    {
     "data": {
      "text/plain": [
       "([1, 5, 8, 699, 79, 7, 8, 2, 10, 16, 1398, 158, 14, 16],\n",
       " ['2', 'daf', 'da', '22', 'dafdaf', 'dada'],\n",
       " [])"
      ]
     },
     "execution_count": 105,
     "metadata": {},
     "output_type": "execute_result"
    }
   ],
   "source": [
    "fenlei"
   ]
  },
  {
   "cell_type": "code",
   "execution_count": 106,
   "metadata": {},
   "outputs": [
    {
     "data": {
      "text/plain": [
       "[1, 5, 8, 699, 79, 7, 8, 2, 10, 16, 1398, 158, 14, 16]"
      ]
     },
     "execution_count": 106,
     "metadata": {},
     "output_type": "execute_result"
    }
   ],
   "source": [
    "fenlei[0]"
   ]
  },
  {
   "cell_type": "code",
   "execution_count": 107,
   "metadata": {},
   "outputs": [
    {
     "data": {
      "text/plain": [
       "['2', 'daf', 'da', '22', 'dafdaf', 'dada']"
      ]
     },
     "execution_count": 107,
     "metadata": {},
     "output_type": "execute_result"
    }
   ],
   "source": [
    "fenlei[1]"
   ]
  },
  {
   "cell_type": "code",
   "execution_count": 108,
   "metadata": {},
   "outputs": [
    {
     "data": {
      "text/plain": [
       "[]"
      ]
     },
     "execution_count": 108,
     "metadata": {},
     "output_type": "execute_result"
    }
   ],
   "source": [
    "fenlei[2]"
   ]
  },
  {
   "cell_type": "markdown",
   "metadata": {},
   "source": [
    "## while\n",
    "   在函数中使用while循环.while循环可以在满足条件的时候一直进行,直到用户的输入或函数处理的结果使得条件不再满足. \n"
   ]
  },
  {
   "cell_type": "code",
   "execution_count": 28,
   "metadata": {},
   "outputs": [],
   "source": [
    "# 改进一个猜数字的游戏.\n",
    "import numpy as np\n",
    "def guessnum():\n",
    "    a=np.random.randint(1,10)\n",
    "    b=int(input(\"猜个数吧!\"))\n",
    "    while a!=b: # 当b不等于a时,一直循环\n",
    "        if a>b:\n",
    "            print(\"太小了\")\n",
    "            b=int(input(\"再来一次\"))\n",
    "            continue #continue使得返回到while语句,判断条件是否还满足.\n",
    "        if a<b:\n",
    "            print(\"太大了\")        \n",
    "            b=int(input(\"再来一次\"))\n",
    "            continue\n",
    "    print(\"猜对了!\")"
   ]
  },
  {
   "cell_type": "code",
   "execution_count": 30,
   "metadata": {},
   "outputs": [
    {
     "name": "stdin",
     "output_type": "stream",
     "text": [
      "猜个数吧! 1\n"
     ]
    },
    {
     "name": "stdout",
     "output_type": "stream",
     "text": [
      "太小了\n"
     ]
    },
    {
     "name": "stdin",
     "output_type": "stream",
     "text": [
      "再来一次 9\n"
     ]
    },
    {
     "name": "stdout",
     "output_type": "stream",
     "text": [
      "太大了\n"
     ]
    },
    {
     "name": "stdin",
     "output_type": "stream",
     "text": [
      "再来一次 5\n"
     ]
    },
    {
     "name": "stdout",
     "output_type": "stream",
     "text": [
      "太大了\n"
     ]
    },
    {
     "name": "stdin",
     "output_type": "stream",
     "text": [
      "再来一次 3\n"
     ]
    },
    {
     "name": "stdout",
     "output_type": "stream",
     "text": [
      "太小了\n"
     ]
    },
    {
     "name": "stdin",
     "output_type": "stream",
     "text": [
      "再来一次 4\n"
     ]
    },
    {
     "name": "stdout",
     "output_type": "stream",
     "text": [
      "猜对了!\n"
     ]
    }
   ],
   "source": [
    "guessnum()"
   ]
  },
  {
   "cell_type": "code",
   "execution_count": 36,
   "metadata": {},
   "outputs": [],
   "source": [
    "# 进一步改进为,如果输入不是数字,返回提示并重新输入\n",
    "# 使用try except 捕获异常并让用户重新输入.---防御性编程\n",
    "# 改进一个猜数字的游戏.\n",
    "import numpy as np\n",
    "def guessnum():\n",
    "    a=np.random.randint(1,10)\n",
    "    try:\n",
    "        b=int(input(\"猜个数吧!\"))\n",
    "    except:\n",
    "        print('您输入的不是数字.')\n",
    "        b=int(input('请重新输入'))\n",
    "    while a!=b: # 当b不等于a时,一直循环\n",
    "        if a>b:\n",
    "            print(\"太小了\")\n",
    "            b=int(input(\"再来一次\"))\n",
    "            continue #continue使得返回到while语句,判断条件是否还满足.\n",
    "        if a<b:\n",
    "            print(\"太大了\")        \n",
    "            b=int(input(\"再来一次\"))\n",
    "            continue\n",
    "    print(\"猜对了!\")"
   ]
  },
  {
   "cell_type": "code",
   "execution_count": 37,
   "metadata": {},
   "outputs": [
    {
     "name": "stdin",
     "output_type": "stream",
     "text": [
      "猜个数吧! l\n"
     ]
    },
    {
     "name": "stdout",
     "output_type": "stream",
     "text": [
      "您输入的不是数字.\n"
     ]
    },
    {
     "name": "stdin",
     "output_type": "stream",
     "text": [
      "请重新输入 5\n"
     ]
    },
    {
     "name": "stdout",
     "output_type": "stream",
     "text": [
      "太大了\n"
     ]
    },
    {
     "name": "stdin",
     "output_type": "stream",
     "text": [
      "再来一次 k\n"
     ]
    },
    {
     "ename": "ValueError",
     "evalue": "invalid literal for int() with base 10: 'k'",
     "output_type": "error",
     "traceback": [
      "\u001b[1;31m---------------------------------------------------------------------------\u001b[0m",
      "\u001b[1;31mValueError\u001b[0m                                Traceback (most recent call last)",
      "\u001b[1;32m<ipython-input-37-9e5b1540279e>\u001b[0m in \u001b[0;36m<module>\u001b[1;34m\u001b[0m\n\u001b[1;32m----> 1\u001b[1;33m \u001b[0mguessnum\u001b[0m\u001b[1;33m(\u001b[0m\u001b[1;33m)\u001b[0m\u001b[1;33m\u001b[0m\u001b[1;33m\u001b[0m\u001b[0m\n\u001b[0m",
      "\u001b[1;32m<ipython-input-36-066a4402dcc1>\u001b[0m in \u001b[0;36mguessnum\u001b[1;34m()\u001b[0m\n\u001b[0;32m     16\u001b[0m         \u001b[1;32mif\u001b[0m \u001b[0ma\u001b[0m\u001b[1;33m<\u001b[0m\u001b[0mb\u001b[0m\u001b[1;33m:\u001b[0m\u001b[1;33m\u001b[0m\u001b[1;33m\u001b[0m\u001b[0m\n\u001b[0;32m     17\u001b[0m             \u001b[0mprint\u001b[0m\u001b[1;33m(\u001b[0m\u001b[1;34m\"太大了\"\u001b[0m\u001b[1;33m)\u001b[0m\u001b[1;33m\u001b[0m\u001b[1;33m\u001b[0m\u001b[0m\n\u001b[1;32m---> 18\u001b[1;33m             \u001b[0mb\u001b[0m\u001b[1;33m=\u001b[0m\u001b[0mint\u001b[0m\u001b[1;33m(\u001b[0m\u001b[0minput\u001b[0m\u001b[1;33m(\u001b[0m\u001b[1;34m\"再来一次\"\u001b[0m\u001b[1;33m)\u001b[0m\u001b[1;33m)\u001b[0m\u001b[1;33m\u001b[0m\u001b[1;33m\u001b[0m\u001b[0m\n\u001b[0m\u001b[0;32m     19\u001b[0m             \u001b[1;32mcontinue\u001b[0m\u001b[1;33m\u001b[0m\u001b[1;33m\u001b[0m\u001b[0m\n\u001b[0;32m     20\u001b[0m     \u001b[0mprint\u001b[0m\u001b[1;33m(\u001b[0m\u001b[1;34m\"猜对了!\"\u001b[0m\u001b[1;33m)\u001b[0m\u001b[1;33m\u001b[0m\u001b[1;33m\u001b[0m\u001b[0m\n",
      "\u001b[1;31mValueError\u001b[0m: invalid literal for int() with base 10: 'k'"
     ]
    }
   ],
   "source": [
    "guessnum()"
   ]
  },
  {
   "cell_type": "code",
   "execution_count": 38,
   "metadata": {},
   "outputs": [],
   "source": [
    "# 进一步改进为,如果输入不是数字,返回提示并重新输入\n",
    "# 改进一个猜数字的游戏.\n",
    "import numpy as np\n",
    "def guessnum():\n",
    "    a=np.random.randint(1,10)\n",
    "    try:\n",
    "        b=int(input(\"猜个数吧!\"))\n",
    "    except:\n",
    "        print('您输入的不是数字.')\n",
    "        b=int(input('请重新输入'))\n",
    "    while a!=b: # 当b不等于a时,一直循环\n",
    "        if a>b:\n",
    "            print(\"太小了\")\n",
    "        try:\n",
    "            b=int(input(\"猜个数吧!\"))\n",
    "        except:\n",
    "            print('您输入的不是数字.')\n",
    "            b=int(input('请重新输入'))\n",
    "        continue #continue使得返回到while语句,判断条件是否还满足.\n",
    "        if a<b:\n",
    "            print(\"太大了\")        \n",
    "        try:\n",
    "            b=int(input(\"猜个数吧!\"))\n",
    "        except:\n",
    "            print('您输入的不是数字.')\n",
    "            b=int(input('请重新输入'))\n",
    "            continue\n",
    "    print(\"猜对了!\")"
   ]
  },
  {
   "cell_type": "code",
   "execution_count": 39,
   "metadata": {},
   "outputs": [
    {
     "name": "stdin",
     "output_type": "stream",
     "text": [
      "猜个数吧! k\n"
     ]
    },
    {
     "name": "stdout",
     "output_type": "stream",
     "text": [
      "您输入的不是数字.\n"
     ]
    },
    {
     "name": "stdin",
     "output_type": "stream",
     "text": [
      "请重新输入 5\n"
     ]
    },
    {
     "name": "stdout",
     "output_type": "stream",
     "text": [
      "太小了\n"
     ]
    },
    {
     "name": "stdin",
     "output_type": "stream",
     "text": [
      "猜个数吧! k\n"
     ]
    },
    {
     "name": "stdout",
     "output_type": "stream",
     "text": [
      "您输入的不是数字.\n"
     ]
    },
    {
     "name": "stdin",
     "output_type": "stream",
     "text": [
      "请重新输入 4\n"
     ]
    },
    {
     "name": "stdout",
     "output_type": "stream",
     "text": [
      "太小了\n"
     ]
    },
    {
     "name": "stdin",
     "output_type": "stream",
     "text": [
      "猜个数吧! 7\n"
     ]
    },
    {
     "name": "stdout",
     "output_type": "stream",
     "text": [
      "猜对了!\n"
     ]
    }
   ],
   "source": [
    "guessnum()"
   ]
  },
  {
   "cell_type": "markdown",
   "metadata": {},
   "source": [
    "# lambda表达式\n",
    "简单地讲,lambda表达式就是匿名函数.一般来说,对于特别短小的函数,使用lambda表达式更方便,就像是列表推导式代替循环一样."
   ]
  },
  {
   "cell_type": "markdown",
   "metadata": {},
   "source": [
    "## 匿名函数的定义"
   ]
  },
  {
   "cell_type": "code",
   "execution_count": 1,
   "metadata": {},
   "outputs": [
    {
     "data": {
      "text/plain": [
       "81"
      ]
     },
     "execution_count": 1,
     "metadata": {},
     "output_type": "execute_result"
    }
   ],
   "source": [
    "# 进阶 1\n",
    "f1=[lambda x:i**x for i in range(10)]\n",
    "f1[3](2)"
   ]
  },
  {
   "cell_type": "code",
   "execution_count": 2,
   "metadata": {},
   "outputs": [
    {
     "data": {
      "text/plain": [
       "9"
      ]
     },
     "execution_count": 2,
     "metadata": {},
     "output_type": "execute_result"
    }
   ],
   "source": [
    "# 进阶 2\n",
    "f2=[lambda x,i=i:i**x for i in range(10)]\n",
    "f2[3](2) "
   ]
  },
  {
   "cell_type": "markdown",
   "metadata": {},
   "source": [
    "## 匿名函数的应用--函数式编程   \n",
    "* **函数式编程** 是指代码中每一块都是不可变的，都由纯函数的形式组成.\n",
    "    * 这里的纯函数，是指函数本身相互独立、互不影响，对于相同的输入，总会有相同的输出，没有任何副作用."
   ]
  },
  {
   "cell_type": "code",
   "execution_count": 44,
   "metadata": {},
   "outputs": [
    {
     "data": {
      "text/plain": [
       "[11, 12, 13]"
      ]
     },
     "execution_count": 44,
     "metadata": {},
     "output_type": "execute_result"
    }
   ],
   "source": [
    "# 一个函数式编程的例子\n",
    "def f(x):\n",
    "    y = []\n",
    "    for item in x:\n",
    "        y.append(item + 10)\n",
    "    return y\n",
    "\n",
    "x = [1, 2, 3]\n",
    "f(x)"
   ]
  },
  {
   "cell_type": "markdown",
   "metadata": {},
   "source": [
    "匿名函数常常应用于函数式编程的高阶函数 (high-order function)中，主要有两种形式：\n",
    "1. 参数是函数 (filter, map)\n",
    "2. 返回值是函数 (closure)"
   ]
  },
  {
   "cell_type": "markdown",
   "metadata": {},
   "source": [
    "* filter(function, iterable) 过滤序列，过滤掉不符合条件的元素，返回一个迭代器对象，如果要转换为列表，可以使用 list() 来转换。"
   ]
  },
  {
   "cell_type": "code",
   "execution_count": 45,
   "metadata": {},
   "outputs": [
    {
     "name": "stdout",
     "output_type": "stream",
     "text": [
      "[1, 3, 5, 7, 9]\n"
     ]
    }
   ],
   "source": [
    "odd = lambda x: x % 2 == 1\n",
    "templist = filter(odd, [1, 2, 3, 4, 5, 6, 7, 8, 9])\n",
    "print(list(templist)) # [1, 3, 5, 7, 9]"
   ]
  },
  {
   "cell_type": "code",
   "execution_count": null,
   "metadata": {},
   "outputs": [],
   "source": []
  },
  {
   "cell_type": "markdown",
   "metadata": {},
   "source": [
    "* map(function, *iterables) 根据提供的函数对指定序列做映射。"
   ]
  },
  {
   "cell_type": "code",
   "execution_count": 46,
   "metadata": {},
   "outputs": [
    {
     "name": "stdout",
     "output_type": "stream",
     "text": [
      "[1, 4, 9, 16, 25]\n",
      "[3, 7, 11, 15, 19]\n"
     ]
    }
   ],
   "source": [
    "m1 = map(lambda x: x ** 2, [1, 2, 3, 4, 5])\n",
    "print(list(m1)) # [1, 4, 9, 16, 25]\n",
    "m2 = map(lambda x, y: x + y, [1, 3, 5, 7, 9], [2, 4, 6, 8, 10])\n",
    "print(list(m2)) # [3, 7, 11, 15, 19]"
   ]
  },
  {
   "cell_type": "code",
   "execution_count": null,
   "metadata": {},
   "outputs": [],
   "source": []
  },
  {
   "cell_type": "markdown",
   "metadata": {},
   "source": [
    "# 生成器函数"
   ]
  },
  {
   "cell_type": "code",
   "execution_count": null,
   "metadata": {},
   "outputs": [],
   "source": []
  },
  {
   "cell_type": "markdown",
   "metadata": {},
   "source": [
    "# 装饰器"
   ]
  },
  {
   "cell_type": "code",
   "execution_count": null,
   "metadata": {},
   "outputs": [],
   "source": []
  },
  {
   "cell_type": "code",
   "execution_count": null,
   "metadata": {},
   "outputs": [],
   "source": []
  },
  {
   "cell_type": "markdown",
   "metadata": {},
   "source": [
    "# 对函数进行测试\n",
    "  由于函数\"一次编写多次使用\"的特性,为了保证未来使用函数时不会出现意料之外的错误,需要对编写的函数进行测试.   \n",
    "  测试是程序设计中的一个非常重要的组成部分.   \n",
    "  在编写经常会被复用的函数时,还需要进行防御性编程,以避免各种可能的意外发生时,能够给出相应的提示."
   ]
  },
  {
   "cell_type": "code",
   "execution_count": null,
   "metadata": {},
   "outputs": [],
   "source": []
  },
  {
   "cell_type": "code",
   "execution_count": null,
   "metadata": {},
   "outputs": [],
   "source": []
  }
 ],
 "metadata": {
  "kernelspec": {
   "display_name": "Python 3",
   "language": "python",
   "name": "python3"
  },
  "language_info": {
   "codemirror_mode": {
    "name": "ipython",
    "version": 3
   },
   "file_extension": ".py",
   "mimetype": "text/x-python",
   "name": "python",
   "nbconvert_exporter": "python",
   "pygments_lexer": "ipython3",
   "version": "3.7.6"
  },
  "toc-autonumbering": true
 },
 "nbformat": 4,
 "nbformat_minor": 4
}
