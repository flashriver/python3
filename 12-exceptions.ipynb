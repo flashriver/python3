{
 "cells": [
  {
   "cell_type": "markdown",
   "metadata": {},
   "source": [
    "# 异常与异常处理"
   ]
  },
  {
   "cell_type": "markdown",
   "metadata": {},
   "source": [
    "2020.07.24 updated"
   ]
  },
  {
   "cell_type": "markdown",
   "metadata": {},
   "source": [
    "Python 使用被称为**异常**的特殊对象来管理程序执行期间发生的错误.   \n",
    "异常是一种语言特性,专门用于处理程序执行期间的不正常情况.每当发生让 Python 不知所措的错误时，它都会创建一个异常对象.如果你编写了处理该异常的代码，程序将继续运行；如果你未对异常进行处理，程序将停止，并显示一个 traceback ，其中包含有关异常的报告.    \n",
    "Python已经提供了非常全面的异常,用户也可以根据自己的目的定义新的异常.  \n",
    "异常作为一种错误处理机制,并不是被所有编程语言所支持的.最常用的系统语言C和脚本语言Perl都不支持异常,甚至即使是C++这类语言本身已经包含了对异常的支持,但C++程序员也经常对异常不甚熟悉.\n",
    "\n",
    "\n",
    "*  ZeroDivisionError 异常        \n",
    "下面来看一种导致 Python 引发异常的简单错误--ZeroDivisionError 异常:       \n",
    "你可能知道不能将一个数字除以0,如果我们让 Python 这样做,会发生什么事?"
   ]
  },
  {
   "cell_type": "code",
   "execution_count": 1,
   "metadata": {},
   "outputs": [
    {
     "ename": "ZeroDivisionError",
     "evalue": "division by zero",
     "output_type": "error",
     "traceback": [
      "\u001b[1;31m---------------------------------------------------------------------------\u001b[0m",
      "\u001b[1;31mZeroDivisionError\u001b[0m                         Traceback (most recent call last)",
      "\u001b[1;32m<ipython-input-1-0106664d39e8>\u001b[0m in \u001b[0;36m<module>\u001b[1;34m\u001b[0m\n\u001b[1;32m----> 1\u001b[1;33m \u001b[1;36m5\u001b[0m\u001b[1;33m/\u001b[0m\u001b[1;36m0\u001b[0m\u001b[1;33m\u001b[0m\u001b[1;33m\u001b[0m\u001b[0m\n\u001b[0m",
      "\u001b[1;31mZeroDivisionError\u001b[0m: division by zero"
     ]
    }
   ],
   "source": [
    "5/0"
   ]
  },
  {
   "cell_type": "markdown",
   "metadata": {},
   "source": [
    "在上述 traceback 中，红色背景内的最后一行指出的错误 ZeroDivisionError 是一个异常对象。   \n",
    "当 Python 无法按你的要求做时，就会创建这种对象。  \n",
    "在这种情况下， Python 将停止运行程序，并指出引发了哪种异常，而我们可根据这些信息对程序进行修改。"
   ]
  },
  {
   "cell_type": "markdown",
   "metadata": {},
   "source": [
    "* FileNotFoundError 异常"
   ]
  },
  {
   "cell_type": "code",
   "execution_count": 4,
   "metadata": {},
   "outputs": [
    {
     "ename": "FileNotFoundError",
     "evalue": "[Errno 2] No such file or directory: 'test.txt'",
     "output_type": "error",
     "traceback": [
      "\u001b[1;31m---------------------------------------------------------------------------\u001b[0m",
      "\u001b[1;31mFileNotFoundError\u001b[0m                         Traceback (most recent call last)",
      "\u001b[1;32m<ipython-input-4-c24d5ae73d65>\u001b[0m in \u001b[0;36m<module>\u001b[1;34m\u001b[0m\n\u001b[1;32m----> 1\u001b[1;33m \u001b[0mf\u001b[0m \u001b[1;33m=\u001b[0m \u001b[0mopen\u001b[0m\u001b[1;33m(\u001b[0m\u001b[1;34m'test.txt'\u001b[0m\u001b[1;33m)\u001b[0m\u001b[1;33m\u001b[0m\u001b[1;33m\u001b[0m\u001b[0m\n\u001b[0m\u001b[0;32m      2\u001b[0m \u001b[0mprint\u001b[0m\u001b[1;33m(\u001b[0m\u001b[0mf\u001b[0m\u001b[1;33m.\u001b[0m\u001b[0mread\u001b[0m\u001b[1;33m(\u001b[0m\u001b[1;33m)\u001b[0m\u001b[1;33m)\u001b[0m\u001b[1;33m\u001b[0m\u001b[1;33m\u001b[0m\u001b[0m\n\u001b[0;32m      3\u001b[0m \u001b[0mf\u001b[0m\u001b[1;33m.\u001b[0m\u001b[0mclose\u001b[0m\u001b[1;33m(\u001b[0m\u001b[1;33m)\u001b[0m\u001b[1;33m\u001b[0m\u001b[1;33m\u001b[0m\u001b[0m\n\u001b[0;32m      4\u001b[0m \u001b[1;31m# FileNotFoundError: [Errno 2] No such file or directory: 'test.txt'\u001b[0m\u001b[1;33m\u001b[0m\u001b[1;33m\u001b[0m\u001b[1;33m\u001b[0m\u001b[0m\n",
      "\u001b[1;31mFileNotFoundError\u001b[0m: [Errno 2] No such file or directory: 'test.txt'"
     ]
    }
   ],
   "source": [
    "f = open('test.txt')\n",
    "print(f.read())\n",
    "f.close()\n",
    "# FileNotFoundError: [Errno 2] No such file or directory: 'test.txt'"
   ]
  },
  {
   "cell_type": "code",
   "execution_count": 7,
   "metadata": {},
   "outputs": [
    {
     "name": "stdout",
     "output_type": "stream",
     "text": [
      "打开文件出错\n"
     ]
    }
   ],
   "source": [
    "try:\n",
    "    f = open('test.txt')\n",
    "    print(f.read())\n",
    "    f.close()\n",
    "#except OSError:          # OSError 是下述 FileNotFoundError 的父类 \n",
    "except FileNotFoundError:\n",
    "    print('打开文件出错')\n",
    "# 打开文件出错"
   ]
  },
  {
   "cell_type": "markdown",
   "metadata": {},
   "source": [
    "## 使用异常避免崩溃  \n",
    "几乎任何人都会写出有错误的程序. 发生错误时，程序经常无法完成工作，因此我们需要妥善地处理错误.   \n",
    "异常处理就是我们在编写程序时, 就提前告诉 Python， 如果发生某种错误时该怎么办. 如果在程序运行时确实发生预料中的错误，就有备无患了.  \n",
    "引起异常的可能有很多, 为了便于使用输入来灵活地控制异常出现或不出现, 我们接下来使用一个要求用户提供输入的程序---这种需要用户提供输入的程序也是异常最经常出现的场景之一.  \n",
    "在需要用户输入某些信息的时候, 如果程序能够妥善地处理无效输入，就能再提示用户提供有效输入，而不至于崩溃.   \n",
    "下面来创建一个只执行除法运算的简单计算器："
   ]
  },
  {
   "cell_type": "code",
   "execution_count": 4,
   "metadata": {},
   "outputs": [
    {
     "name": "stdout",
     "output_type": "stream",
     "text": [
      "Give me two numbers, and I'll divide them.\n",
      "Enter 'q' to quit.\n"
     ]
    },
    {
     "name": "stdin",
     "output_type": "stream",
     "text": [
      "\n",
      "First number:  5\n",
      "Second number:  6\n"
     ]
    },
    {
     "name": "stdout",
     "output_type": "stream",
     "text": [
      "0.8333333333333334\n"
     ]
    },
    {
     "name": "stdin",
     "output_type": "stream",
     "text": [
      "\n",
      "First number:  3\n",
      "Second number:  0\n"
     ]
    },
    {
     "ename": "ZeroDivisionError",
     "evalue": "division by zero",
     "output_type": "error",
     "traceback": [
      "\u001b[1;31m---------------------------------------------------------------------------\u001b[0m",
      "\u001b[1;31mZeroDivisionError\u001b[0m                         Traceback (most recent call last)",
      "\u001b[1;32m<ipython-input-4-28a9e9bdd2c2>\u001b[0m in \u001b[0;36m<module>\u001b[1;34m\u001b[0m\n\u001b[0;32m      8\u001b[0m     \u001b[1;32mif\u001b[0m \u001b[0msecond_number\u001b[0m \u001b[1;33m==\u001b[0m \u001b[1;34m'q'\u001b[0m\u001b[1;33m:\u001b[0m\u001b[1;33m\u001b[0m\u001b[1;33m\u001b[0m\u001b[0m\n\u001b[0;32m      9\u001b[0m         \u001b[1;32mbreak\u001b[0m\u001b[1;33m\u001b[0m\u001b[1;33m\u001b[0m\u001b[0m\n\u001b[1;32m---> 10\u001b[1;33m     \u001b[0mprint\u001b[0m\u001b[1;33m(\u001b[0m\u001b[0mint\u001b[0m\u001b[1;33m(\u001b[0m\u001b[0mfirst_number\u001b[0m\u001b[1;33m)\u001b[0m \u001b[1;33m/\u001b[0m \u001b[0mint\u001b[0m\u001b[1;33m(\u001b[0m\u001b[0msecond_number\u001b[0m\u001b[1;33m)\u001b[0m\u001b[1;33m)\u001b[0m\u001b[1;33m\u001b[0m\u001b[1;33m\u001b[0m\u001b[0m\n\u001b[0m",
      "\u001b[1;31mZeroDivisionError\u001b[0m: division by zero"
     ]
    }
   ],
   "source": [
    "print(\"Give me two numbers, and I'll divide them.\")\n",
    "print(\"Enter 'q' to quit.\")\n",
    "while True:\n",
    "    first_number = input(\"\\nFirst number: \")\n",
    "    if first_number == 'q':\n",
    "        break\n",
    "    second_number = input(\"Second number: \")\n",
    "    if second_number == 'q':\n",
    "        break\n",
    "    print(int(first_number) / int(second_number))"
   ]
  },
  {
   "cell_type": "markdown",
   "metadata": {},
   "source": [
    "这个程序提示用户输入一个数字，并将其存储到变量 first_number 中；如果用户输入的不是表示退出的 q ，就再提示用户输入一个数字，并将其存储到变量 second_number 中. 接下来，我们计算这两个数字的商（即 answer ）。这个程序没有采取任何处理错误的措施，因此让它执行除数为 0 的除法运算时，它将崩溃.  \n",
    "程序崩溃可不好，但让用户看到 traceback 也不是好主意。不懂技术的用户会被它们搞糊涂，而且如果用户怀有恶意，他会通过 traceback 获悉你不希望他知道的信息. 例如，他将知道你的程序文件的名称，还将看到部分不能正确运行的代码. 有时候，训练有素的攻击者可根据这些信息判断出可对你的代码发起什么样的攻击. \n",
    "\n",
    "因此我们需要一种机制把错误隐藏起来, 并给用户一个容易理解的提示信息, 这就是异常处理要做的事情."
   ]
  },
  {
   "cell_type": "markdown",
   "metadata": {},
   "source": [
    "## 常见的异常\n",
    "[遍历常见异常]     \n",
    "python标准异常见 https://www.runoob.com/python/python-exceptions.html\n",
    "\n",
    "\n",
    "1. BaseException：所有异常的 基类\n",
    "2. Exception：常规异常的 基类\n",
    "3. StandardError：所有的内建标准异常的基类\n",
    "4. ArithmeticError：所有数值计算异常的基类\n",
    "5. FloatingPointError：浮点计算异常\n",
    "6. OverflowError：数值运算超出最大限制\n",
    "7. ZeroDivisionError：除数为零\n",
    "8. AssertionError：断言语句（assert）失败\n",
    "9. AttributeError：尝试访问未知的对象属性\n",
    "10. EOFError：没有内建输入，到达EOF标记\n",
    "11. EnvironmentError：操作系统异常的基类\n",
    "12. IOError：输入/输出操作失败\n",
    "13. OSError：操作系统产生的异常（例如打开一个不存在的文件）\n",
    "14. WindowsError：系统调用失败\n",
    "15. ImportError：导入模块失败的时候\n",
    "16. KeyboardInterrupt：用户中断执行\n",
    "17. LookupError：无效数据查询的基类\n",
    "18. IndexError：索引超出序列的范围\n",
    "19. KeyError：字典中查找一个不存在的关键字\n",
    "20. MemoryError：内存溢出（可通过删除对象释放内存）\n",
    "21. NameError：尝试访问一个不存在的变量\n",
    "22. UnboundLocalError：访问未初始化的本地变量\n",
    "23. ReferenceError：弱引用试图访问已经垃圾回收了的对象\n",
    "24. RuntimeError：一般的运行时异常\n",
    "25. NotImplementedError：尚未实现的方法\n",
    "26. SyntaxError：语法错误导致的异常\n",
    "27. IndentationError：缩进错误导致的异常\n",
    "28. TabError：Tab和空格混用\n",
    "29. SystemError：一般的解释器系统异常\n",
    "30. TypeError：不同类型间的无效操作\n",
    "31. ValueError：传入无效的参数\n",
    "32. UnicodeError：Unicode相关的异常\n",
    "33. UnicodeDecodeError：Unicode解码时的异常\n",
    "34. UnicodeEncodeError：Unicode编码错误导致的异常\n",
    "35. UnicodeTranslateError：Unicode转换错误导致的异常\n"
   ]
  },
  {
   "cell_type": "markdown",
   "metadata": {},
   "source": [
    "### 处理 FileNotFoundError 异常\n",
    "使用文件时，一种常见的问题是找不到文件：你要查找的文件可能在其他地方、文件名可能不正确或者这个文件根本就不存在。对于所有这些情形，都可使用 try-except 代码块以直观的方式进行处理.   \n",
    "我们来尝试读取一个不存在的文件。下面的程序尝试读取文件 alice.txt 的内容，但我没有将这个文件存储在 alice.py 所在的目录中.  \n",
    "Python 无法读取不存在的文件，因此它引发一个异常:"
   ]
  },
  {
   "cell_type": "code",
   "execution_count": 15,
   "metadata": {},
   "outputs": [
    {
     "ename": "FileNotFoundError",
     "evalue": "[Errno 2] No such file or directory: 'alice.txt'",
     "output_type": "error",
     "traceback": [
      "\u001b[1;31m---------------------------------------------------------------------------\u001b[0m",
      "\u001b[1;31mFileNotFoundError\u001b[0m                         Traceback (most recent call last)",
      "\u001b[1;32m<ipython-input-15-b173afd32394>\u001b[0m in \u001b[0;36m<module>\u001b[1;34m\u001b[0m\n\u001b[0;32m      1\u001b[0m \u001b[0mfilename\u001b[0m \u001b[1;33m=\u001b[0m \u001b[1;34m'alice.txt'\u001b[0m\u001b[1;33m\u001b[0m\u001b[1;33m\u001b[0m\u001b[0m\n\u001b[1;32m----> 2\u001b[1;33m \u001b[1;32mwith\u001b[0m \u001b[0mopen\u001b[0m\u001b[1;33m(\u001b[0m\u001b[0mfilename\u001b[0m\u001b[1;33m)\u001b[0m \u001b[1;32mas\u001b[0m \u001b[0mf_obj\u001b[0m\u001b[1;33m:\u001b[0m\u001b[1;33m\u001b[0m\u001b[1;33m\u001b[0m\u001b[0m\n\u001b[0m\u001b[0;32m      3\u001b[0m     \u001b[0mcontents\u001b[0m \u001b[1;33m=\u001b[0m \u001b[0mf_obj\u001b[0m\u001b[1;33m.\u001b[0m\u001b[0mread\u001b[0m\u001b[1;33m(\u001b[0m\u001b[1;33m)\u001b[0m\u001b[1;33m\u001b[0m\u001b[1;33m\u001b[0m\u001b[0m\n\u001b[0;32m      4\u001b[0m \u001b[0mprint\u001b[0m\u001b[1;33m(\u001b[0m\u001b[1;34m'something.'\u001b[0m\u001b[1;33m)\u001b[0m\u001b[1;33m\u001b[0m\u001b[1;33m\u001b[0m\u001b[0m\n\u001b[0;32m      5\u001b[0m \u001b[1;31m# FileNotFoundError: [Errno 2] No such file or directory: 'alice.txt'\u001b[0m\u001b[1;33m\u001b[0m\u001b[1;33m\u001b[0m\u001b[1;33m\u001b[0m\u001b[0m\n",
      "\u001b[1;31mFileNotFoundError\u001b[0m: [Errno 2] No such file or directory: 'alice.txt'"
     ]
    }
   ],
   "source": [
    "filename = 'alice.txt'\n",
    "with open(filename) as f_obj:\n",
    "    contents = f_obj.read()\n",
    "print('something.')\n",
    "# FileNotFoundError: [Errno 2] No such file or directory: 'alice.txt'"
   ]
  },
  {
   "cell_type": "markdown",
   "metadata": {},
   "source": [
    "在上述 traceback 中，最后一行报告了 FileNotFoundError 异常，这是 Python 找不到要打开的文件时创建的异常.    \n",
    "由于产生了异常, 代码就被中断了, 后边的print就未被执行.   \n",
    "在这个示例中，这个错误是函数 open() 导致的，因此要处理这个错误，必须将 try 语句放在包含 open() 的代码行之前:"
   ]
  },
  {
   "cell_type": "code",
   "execution_count": 16,
   "metadata": {},
   "outputs": [
    {
     "name": "stdout",
     "output_type": "stream",
     "text": [
      "Sorry, the file alice.txt does not exist.\n",
      "something.\n"
     ]
    }
   ],
   "source": [
    "filename = 'alice.txt'\n",
    "try:\n",
    "    with open(filename) as f_obj:\n",
    "        contents = f_obj.read()\n",
    "except FileNotFoundError:\n",
    "    msg = \"Sorry, the file \" + filename + \" does not exist.\"\n",
    "    print(msg)\n",
    "print('something.')"
   ]
  },
  {
   "cell_type": "markdown",
   "metadata": {},
   "source": [
    "在这个示例中， try 代码块引发 FileNotFoundError 异常，因此 Python 找出与该错误匹配的 except 代码块，并运行其中的代码. 最终的结果是显示一条友好的错误消息，而不是 traceback.    \n",
    "并且, 我们看到最后的print函数被执行了, 这说明, 导致异常的代码块由于得到处理, 因此并未中止程序的运行. \n",
    "如果文件不存在, 而这个程序只是打印一条消息, 除此之外什么都不做的话, 错误处理代码的意义并不大.        \n",
    "下面来扩展这个示例，看看在你使用多个文件时，异常处理可提供什么样的帮助:   \n",
    "我们对变量 contents （它现在是一个长长的字符串，包含童话 Alice in Wonderland 的全部文本）调用方法 split() ，以生成一个列表，其中包含这部童话中的所有单词。           \n",
    "当我们使用 len() 来确定这个列表的长度时，就知道了原始字符串大致包含多少个单词.              \n",
    "接下来我们打印一条消息，指出文件包含多少个单词. 这些代码都放在 else 代码块中，因为仅当 try 代码块成功执行时才执行它们. 输出指出了文件 alice.txt 包含多少个单词：\n",
    "由于要一次分析多本书,我们先将这个程序的大部分代码移到一个名为 count_words() 的函数中，这样对多本书进行分析时将更容易.\n",
    "现在可以编写一个简单的循环，计算要分析的任何文本包含多少个单词了。为此，我们将要分析的文件的名称存储在一个列表中，然后对列表中的每个文件都调用 count_words(). 我们将尝试计算 Alice in Wonderland 、 Siddhartha 、 Moby Dick 和 Little Women 分别包含多少个单词，它们都不受版权限制。我故意没有将 siddhartha.txt 放到word_count.py 所在的目录中，让你能够看到这个程序在文件不存在时处理得有多出色:"
   ]
  },
  {
   "cell_type": "code",
   "execution_count": 17,
   "metadata": {},
   "outputs": [
    {
     "name": "stdout",
     "output_type": "stream",
     "text": [
      "Sorry, the file alice.txt does not exist.\n",
      "Sorry, the file siddhartha.txt does not exist.\n",
      "Sorry, the file moby_dick.txt does not exist.\n",
      "Sorry, the file little_women.txt does not exist.\n"
     ]
    }
   ],
   "source": [
    "def count_words(filename):\n",
    "    \"\"\" 计算一个文件大致包含多少个单词 \"\"\"\n",
    "    try:\n",
    "        with open(filename) as f_obj:\n",
    "            contents = f_obj.read()\n",
    "    except FileNotFoundError:\n",
    "        msg = \"Sorry, the file \" + filename + \" does not exist.\"\n",
    "        print(msg)\n",
    "    else:\n",
    "        # 计算文件大致包含多少个单词\n",
    "        words = contents.split()\n",
    "        num_words = len(words)\n",
    "        print(\"The file \" + filename + \" has about \" + str(num_words) +\n",
    "              \" words.\")\n",
    "        \n",
    "filenames = ['alice.txt', 'siddhartha.txt', 'moby_dick.txt', 'little_women.txt']\n",
    "for filename in filenames:\n",
    "    count_words(filename)"
   ]
  },
  {
   "cell_type": "markdown",
   "metadata": {},
   "source": [
    "如果文件 siddhartha.txt 不存在，会打印一条提示信息,但这丝毫不影响这个程序处理其他文件.    \n",
    "在这个示例中，使用 try-except 代码块提供了两个重要的优点：避免让用户看到 traceback ；让程序能够继续分析能够找到的其他文件.如果不捕获因找不到 siddhartha.txt 而引发的 FileNotFoundError 异常，用户将看到完整的 traceback ，而程序将在尝试分析 Siddhartha 后停止运行 —— 根本不分析 Moby Dick 和 Little Women. "
   ]
  },
  {
   "cell_type": "markdown",
   "metadata": {},
   "source": [
    "### 失败时一声不吭\n",
    "在前一个示例中，我们告诉用户有一个文件找不到。但并非每次捕获到异常时都需要告诉用户，有时候你希望程序在发生异常时一声不吭，就像什么都没有发生一样继续运行.  \n",
    "要让程序在失败时一声不吭，可像通常那样编写 try 代码块，但在 except 代码块中明确地告诉 Python 什么都不要做. Python 有一个 pass 语句，可在代码块中使用它来让 Python什么都不要做："
   ]
  },
  {
   "cell_type": "code",
   "execution_count": 8,
   "metadata": {},
   "outputs": [],
   "source": [
    "def count_words(filename):\n",
    "    \"\"\" 计算一个文件大致包含多少个单词 \"\"\"\n",
    "    try:\n",
    "        with open(filename) as f_obj:\n",
    "            contents = f_obj.read()\n",
    "    except FileNotFoundError:\n",
    "        pass\n",
    "    else:\n",
    "        # 计算文件大致包含多少个单词\n",
    "        words = contents.split()\n",
    "        num_words = len(words)\n",
    "        print(\"The file \" + filename + \" has about \" + str(num_words) +\n",
    "              \" words.\")\n",
    "filenames = ['alice.txt', 'siddhartha.txt', 'moby_dick.txt', 'little_women.txt']\n",
    "for filename in filenames:\n",
    "    count_words(filename)"
   ]
  },
  {
   "cell_type": "markdown",
   "metadata": {},
   "source": [
    "相比于前一个程序，这个程序唯一不同的地方是 pass 语句. 现在，出现 FileNotFoundError 异常时，将执行 except 代码块中的代码，但什么都不会发生. 这种错误发生时，不会出现 traceback ，也没有任何输出。用户将看到存在的每个文件包含多少个单词，但没有任何迹象表明有一个文件未找到.  \n",
    "pass 语句还充当了占位符，它提醒你在程序的某个地方什么都没有做，并且以后也许要在这里做些什么. 例如，在这个程序中，我们可能决定将找不到的文件的名称写入到文件 missing_files.txt 中. 用户看不到这个文件，但我们可以读取这个文件，进而处理所有文件找不到的问题.  \n",
    "\n",
    "#### 决定报告哪些错误\n",
    "在什么情况下该向用户报告错误？在什么情况下又应该在失败时一声不吭呢？如果用户知道要分析哪些文件，他们可能希望在有文件没有分析时出现一条消息，将其中的原因告诉他们.如果用户只想看到结果，而并不知道要分析哪些文件，可能就无需在有些文件不存在时告知他们. 向用户显示他不想看到的信息可能会降低程序的可用性. Python 的错误处理结构让你能够细致地控制与用户分享错误信息的程度，要分享多少信息由你决定.   \n",
    "编写得很好且经过详尽测试的代码不容易出现内部错误，如语法或逻辑错误，但只要程序依赖于外部因素，如用户输入、存在指定的文件、有网络链接，就有可能出现异常.凭借经验可判断该在程序的什么地方包含异常处理块，以及出现错误时该向用户提供多少相关的信息."
   ]
  },
  {
   "cell_type": "markdown",
   "metadata": {},
   "source": [
    "### ValueError\n",
    "回到上述介绍else字句时的程序,当我们输入的不是数字也不是q,而是其他字母,比如j时,程序就会抛出\n",
    "\"\"\"ValueError: invalid literal for int() with base 10: 'j'\"\"\"\n",
    "的异常.  \n",
    "在处理这种异常之前,有一点是需要强调一下的--你的输入都是字符串类型,程序需要将其转换为int等数字类型才能进行计算.上述错误的出现,就是出现在类型转换时的.  \n",
    "为了处理这种异常,我们有必要把类型转换提前,并放在一个try代码块中.\n",
    "\n",
    "如下代码存在一个问题,当正确输入第一个数字后,第二个数字错误输入为字母,则会重新要求输入第一个数字,这样不友好,如何改进continue?"
   ]
  },
  {
   "cell_type": "code",
   "execution_count": 12,
   "metadata": {},
   "outputs": [
    {
     "name": "stdout",
     "output_type": "stream",
     "text": [
      "Give me two numbers, and I'll divide them.\n",
      "Enter 'q' to quit.\n",
      "\n",
      "First number: e\n",
      "You should give me a number, not other type.\n",
      "\n",
      "First number: r\n",
      "You should give me a number, not other type.\n",
      "\n",
      "First number: t\n",
      "You should give me a number, not other type.\n",
      "\n",
      "First number: 4\n",
      "Second number: r\n",
      "You should give me a number, not other type.\n",
      "\n",
      "First number: q\n"
     ]
    }
   ],
   "source": [
    "print(\"Give me two numbers, and I'll divide them.\")\n",
    "print(\"Enter 'q' to quit.\")\n",
    "while True:\n",
    "    first_number = input(\"\\nFirst number: \")\n",
    "    if first_number == 'q':\n",
    "        break\n",
    "    try:\n",
    "        first_number = int(first_number)\n",
    "    except ValueError:\n",
    "        print(\"You should give me a number, not other type.\")\n",
    "        continue\n",
    "    second_number = input(\"Second number: \")\n",
    "    try:\n",
    "        second_number = int(second_number)\n",
    "    except ValueError:\n",
    "        print(\"You should give me a number, not other type.\")\n",
    "        continue\n",
    "    try:\n",
    "        answer = first_number / second_number\n",
    "    except ZeroDivisionError:\n",
    "        print(\"You can't divide by 0!\")\n",
    "    else:\n",
    "        print(answer)"
   ]
  },
  {
   "cell_type": "code",
   "execution_count": null,
   "metadata": {},
   "outputs": [],
   "source": []
  },
  {
   "cell_type": "code",
   "execution_count": null,
   "metadata": {},
   "outputs": [],
   "source": []
  },
  {
   "cell_type": "code",
   "execution_count": null,
   "metadata": {},
   "outputs": [],
   "source": []
  },
  {
   "cell_type": "code",
   "execution_count": null,
   "metadata": {},
   "outputs": [],
   "source": []
  },
  {
   "cell_type": "markdown",
   "metadata": {},
   "source": [
    "## 异常处理方式 "
   ]
  },
  {
   "cell_type": "markdown",
   "metadata": {},
   "source": [
    "### 使用 try-except 代码块\n",
    "当你认为可能发生了错误时，可编写一个 try-except 代码块来处理可能引发的异常--你让 Python 尝试运行一些代码(这些代码放置在try后的代码块中)，并告诉它如果这些代码引发了指定的异常，该怎么办.     \n",
    "例如, 处理 ZeroDivisionError 异常的 try-except 代码块类似于下面这样:"
   ]
  },
  {
   "cell_type": "code",
   "execution_count": 14,
   "metadata": {},
   "outputs": [
    {
     "name": "stdout",
     "output_type": "stream",
     "text": [
      "You can't divide by zero!\n"
     ]
    }
   ],
   "source": [
    "try:\n",
    "    print(5/0)\n",
    "except ZeroDivisionError:\n",
    "    print(\"You can't divide by zero!\")"
   ]
  },
  {
   "cell_type": "markdown",
   "metadata": {},
   "source": [
    "在上述代码中, 我们将导致错误的代码行 print(5/0) 放在了一个 try 代码块中.    \n",
    "try-except 语句在实际运行时, 会自动进行如下判断:  \n",
    "* 如果 try 代码块中的代码运行起来没有问题， Python 将跳过 except 代码块；   \n",
    "* 如果 try 代码块中的代码抛出了某种特定的异常， Python 将查找包含这个异常的 except 代码块，并运行其后的代码.   \n",
    "\n",
    "在这个示例中， try 代码块中的代码引发了 ZeroDivisionError 异常，因此 Python 指出了该如何解决问题的 except 代码块，并运行其中的代码。这样，用户看到的是一条友好的错误消息，而不是 traceback. "
   ]
  },
  {
   "cell_type": "code",
   "execution_count": 8,
   "metadata": {},
   "outputs": [
    {
     "name": "stdin",
     "output_type": "stream",
     "text": [
      "\n",
      "First number:  4\n",
      "Second number:  2\n"
     ]
    },
    {
     "name": "stdout",
     "output_type": "stream",
     "text": [
      "2.0\n"
     ]
    }
   ],
   "source": [
    "first_number = input(\"\\nFirst number: \")\n",
    "second_number = input(\"Second number: \")\n",
    "try:\n",
    "    print(int(first_number) / int(second_number))\n",
    "except ZeroDivisionError:\n",
    "    print(\"You can't divide by zero!\")"
   ]
  },
  {
   "cell_type": "markdown",
   "metadata": {},
   "source": []
  },
  {
   "cell_type": "code",
   "execution_count": 1,
   "metadata": {},
   "outputs": [
    {
     "name": "stdout",
     "output_type": "stream",
     "text": [
      "Give me two numbers, and I'll divide them.\n",
      "Enter 'q' to quit.\n"
     ]
    },
    {
     "name": "stdin",
     "output_type": "stream",
     "text": [
      "\n",
      "First number:  7\n",
      "Second number:  5\n"
     ]
    },
    {
     "name": "stdout",
     "output_type": "stream",
     "text": [
      "1.4\n"
     ]
    },
    {
     "name": "stdin",
     "output_type": "stream",
     "text": [
      "\n",
      "First number:  5\n",
      "Second number:  0\n"
     ]
    },
    {
     "name": "stdout",
     "output_type": "stream",
     "text": [
      "You can't divide by zero!\n"
     ]
    },
    {
     "name": "stdin",
     "output_type": "stream",
     "text": [
      "\n",
      "First number:  q\n"
     ]
    }
   ],
   "source": [
    "print(\"Give me two numbers, and I'll divide them.\")\n",
    "print(\"Enter 'q' to quit.\")\n",
    "while True:\n",
    "    first_number = input(\"\\nFirst number: \")\n",
    "    if first_number == 'q':\n",
    "        break\n",
    "    second_number = input(\"Second number: \")\n",
    "    if second_number == 'q':\n",
    "        break\n",
    "    try:\n",
    "        answer = int(first_number) / int(second_number)\n",
    "        print(answer)\n",
    "    except ZeroDivisionError:\n",
    "        print(\"You can't divide by zero!\")"
   ]
  },
  {
   "cell_type": "markdown",
   "metadata": {},
   "source": [
    "### try - except - finally 语句  \n",
    "还是上边的代码段, 如果我们在输入数字时错误地输入了字符, 则可能还是会抛出异常"
   ]
  },
  {
   "cell_type": "code",
   "execution_count": 2,
   "metadata": {},
   "outputs": [
    {
     "name": "stdout",
     "output_type": "stream",
     "text": [
      "Give me two numbers, and I'll divide them.\n",
      "Enter 'q' to quit.\n"
     ]
    },
    {
     "name": "stdin",
     "output_type": "stream",
     "text": [
      "\n",
      "First number:  s\n",
      "Second number:  f\n"
     ]
    },
    {
     "ename": "ValueError",
     "evalue": "invalid literal for int() with base 10: 's'",
     "output_type": "error",
     "traceback": [
      "\u001b[1;31m---------------------------------------------------------------------------\u001b[0m",
      "\u001b[1;31mValueError\u001b[0m                                Traceback (most recent call last)",
      "\u001b[1;32m<ipython-input-2-6463705f56cf>\u001b[0m in \u001b[0;36m<module>\u001b[1;34m\u001b[0m\n\u001b[0;32m      9\u001b[0m         \u001b[1;32mbreak\u001b[0m\u001b[1;33m\u001b[0m\u001b[1;33m\u001b[0m\u001b[0m\n\u001b[0;32m     10\u001b[0m     \u001b[1;32mtry\u001b[0m\u001b[1;33m:\u001b[0m\u001b[1;33m\u001b[0m\u001b[1;33m\u001b[0m\u001b[0m\n\u001b[1;32m---> 11\u001b[1;33m         \u001b[0manswer\u001b[0m \u001b[1;33m=\u001b[0m \u001b[0mint\u001b[0m\u001b[1;33m(\u001b[0m\u001b[0mfirst_number\u001b[0m\u001b[1;33m)\u001b[0m \u001b[1;33m/\u001b[0m \u001b[0mint\u001b[0m\u001b[1;33m(\u001b[0m\u001b[0msecond_number\u001b[0m\u001b[1;33m)\u001b[0m\u001b[1;33m\u001b[0m\u001b[1;33m\u001b[0m\u001b[0m\n\u001b[0m\u001b[0;32m     12\u001b[0m         \u001b[0mprint\u001b[0m\u001b[1;33m(\u001b[0m\u001b[0manswer\u001b[0m\u001b[1;33m)\u001b[0m\u001b[1;33m\u001b[0m\u001b[1;33m\u001b[0m\u001b[0m\n\u001b[0;32m     13\u001b[0m     \u001b[1;32mexcept\u001b[0m \u001b[0mZeroDivisionError\u001b[0m\u001b[1;33m:\u001b[0m\u001b[1;33m\u001b[0m\u001b[1;33m\u001b[0m\u001b[0m\n",
      "\u001b[1;31mValueError\u001b[0m: invalid literal for int() with base 10: 's'"
     ]
    }
   ],
   "source": [
    "print(\"Give me two numbers, and I'll divide them.\")\n",
    "print(\"Enter 'q' to quit.\")\n",
    "while True:\n",
    "    first_number = input(\"\\nFirst number: \")\n",
    "    if first_number == 'q':\n",
    "        break\n",
    "    second_number = input(\"Second number: \")\n",
    "    if second_number == 'q':\n",
    "        break\n",
    "    try:\n",
    "        answer = int(first_number) / int(second_number)\n",
    "        print(answer)\n",
    "    except ZeroDivisionError:\n",
    "        print(\"You can't divide by zero!\")"
   ]
  },
  {
   "cell_type": "code",
   "execution_count": null,
   "metadata": {},
   "outputs": [],
   "source": []
  },
  {
   "cell_type": "markdown",
   "metadata": {},
   "source": [
    "尽管 try - except 可以加入多个 except 来应对多种多样的异常, 但总难免有未提前预知的异常被抛出, 这时就需要使用 finally 语句了.    \n",
    "不管 try 子句里面有没有发生异常， finally 子句都会执行。\n",
    "如果一个异常在 try 子句里被抛出，而又没有任何的 except 把它截住，那么这个异常会在 finally 子句执行后被抛出"
   ]
  },
  {
   "cell_type": "code",
   "execution_count": null,
   "metadata": {},
   "outputs": [],
   "source": []
  },
  {
   "cell_type": "code",
   "execution_count": null,
   "metadata": {},
   "outputs": [],
   "source": []
  },
  {
   "cell_type": "markdown",
   "metadata": {},
   "source": [
    "### try - except - else 代码块\n",
    "\n",
    "通过将可能引发错误的代码放在 try-except 代码块中，可提高这个程序抵御错误的能力。错误是执行除法运算的代码行导致的，因此我们需要将它放到 try-except 代码块中. 这个示例还包含一个 else 代码块；依赖于 try 代码块成功执行的代码都应放到 else 代码块中.     \n",
    "如果在 try 子句执行时没有发生异常，Python将执行 else 语句后的语句。"
   ]
  },
  {
   "cell_type": "code",
   "execution_count": 9,
   "metadata": {},
   "outputs": [
    {
     "name": "stdout",
     "output_type": "stream",
     "text": [
      "Give me two numbers, and I'll divide them.\n",
      "Enter 'q' to quit.\n",
      "\n",
      "First number: 23\n",
      "Second number: 4\n",
      "5.75\n",
      "\n",
      "First number: j\n",
      "Second number: 5\n"
     ]
    },
    {
     "ename": "ValueError",
     "evalue": "invalid literal for int() with base 10: 'j'",
     "output_type": "error",
     "traceback": [
      "\u001b[1;31m---------------------------------------------------------------------------\u001b[0m",
      "\u001b[1;31mValueError\u001b[0m                                Traceback (most recent call last)",
      "\u001b[1;32m<ipython-input-9-bdfa41148e03>\u001b[0m in \u001b[0;36m<module>\u001b[1;34m\u001b[0m\n\u001b[0;32m      7\u001b[0m     \u001b[0msecond_number\u001b[0m \u001b[1;33m=\u001b[0m \u001b[0minput\u001b[0m\u001b[1;33m(\u001b[0m\u001b[1;34m\"Second number: \"\u001b[0m\u001b[1;33m)\u001b[0m\u001b[1;33m\u001b[0m\u001b[1;33m\u001b[0m\u001b[0m\n\u001b[0;32m      8\u001b[0m     \u001b[1;32mtry\u001b[0m\u001b[1;33m:\u001b[0m\u001b[1;33m\u001b[0m\u001b[1;33m\u001b[0m\u001b[0m\n\u001b[1;32m----> 9\u001b[1;33m         \u001b[0manswer\u001b[0m \u001b[1;33m=\u001b[0m \u001b[0mint\u001b[0m\u001b[1;33m(\u001b[0m\u001b[0mfirst_number\u001b[0m\u001b[1;33m)\u001b[0m \u001b[1;33m/\u001b[0m \u001b[0mint\u001b[0m\u001b[1;33m(\u001b[0m\u001b[0msecond_number\u001b[0m\u001b[1;33m)\u001b[0m\u001b[1;33m\u001b[0m\u001b[1;33m\u001b[0m\u001b[0m\n\u001b[0m\u001b[0;32m     10\u001b[0m     \u001b[1;32mexcept\u001b[0m \u001b[0mZeroDivisionError\u001b[0m\u001b[1;33m:\u001b[0m\u001b[1;33m\u001b[0m\u001b[1;33m\u001b[0m\u001b[0m\n\u001b[0;32m     11\u001b[0m         \u001b[0mprint\u001b[0m\u001b[1;33m(\u001b[0m\u001b[1;34m\"You can't divide by 0!\"\u001b[0m\u001b[1;33m)\u001b[0m\u001b[1;33m\u001b[0m\u001b[1;33m\u001b[0m\u001b[0m\n",
      "\u001b[1;31mValueError\u001b[0m: invalid literal for int() with base 10: 'j'"
     ]
    }
   ],
   "source": [
    "print(\"Give me two numbers, and I'll divide them.\")\n",
    "print(\"Enter 'q' to quit.\")\n",
    "while True:\n",
    "    first_number = input(\"\\nFirst number: \")\n",
    "    if first_number == 'q':\n",
    "        break\n",
    "    second_number = input(\"Second number: \")\n",
    "    try:\n",
    "        answer = int(first_number) / int(second_number)\n",
    "    except ZeroDivisionError:\n",
    "        print(\"You can't divide by 0!\")\n",
    "    else:\n",
    "        print(answer)"
   ]
  },
  {
   "cell_type": "markdown",
   "metadata": {},
   "source": [
    "我们让 Python 尝试执行 try 代码块中的除法运算，这个代码块只包含可能导致错误的代码. 依赖于 try 代码块成功执行的代码都放在 else 代码块中；在这个示例中，如果除法运算成功，我们就使用 else 代码块来打印结果.    \n",
    "except 代码块告诉 Python ，出现 ZeroDivisionError 异常时该怎么办. 如果 try 代码块因除零错误而失败，我们就打印一条友好的消息，告诉用户如何避免这种错误. 程序将继续运行，用户根本看不到 traceback.    \n",
    "try-except-else 代码块的工作原理大致如下：   \n",
    "* Python 尝试执行 try 代码块中的代码；只有可能引发异常的代码才需要放在 try 语句中.  \n",
    "* 有时候，有一些仅在 try 代码块成功执行时才需要运行的代码；这些代码应放在 else 代码块中.  \n",
    "* except 代码块告诉 Python ，如果它尝试运行 try 代码块中的代码时引发了指定的异常，该怎么办.    \n",
    "通过预测可能发生错误的代码，可编写健壮的程序，它们即便面临无效数据或缺少资源，也能继续运行，从而能够抵御无意的用户错误和恶意的攻击.   \n",
    "\n"
   ]
  },
  {
   "cell_type": "markdown",
   "metadata": {},
   "source": [
    "### 处理多个异常\n",
    "**注意** 如果还有可能出现其他类型的错误,比如除数和被除数是字母,还需要针对这种情况再写一个except代码,一个完整的处理异常的代码块的结构类似这样:         \n",
    "```python\n",
    "try:\n",
    "    body\n",
    "except exception_type_1 as var1:\n",
    "    exception_code1\n",
    "except exception_type_2 as var2:\n",
    "    exception_code2\n",
    "except exception_type_3 as var3:\n",
    "    exception_code3      \n",
    "else:\n",
    "    else_body\n",
    "finally:\n",
    "    finally_body\n",
    "```        \n",
    "程序首先执行try后的代码块,如果执行成功(没有捕获到异常抛出),则执行else_body代码块.由于后边还有finally关键字,因此还会接着执行finally_body的代码块.   \n",
    "如果执行try代码块有异常抛出,则会依次搜索各条except字句,查找关联的异常类型与抛出异常匹配的字句,找到后,则将抛出的异常赋给变量,变量名在关联异常类型后面给出,并执行匹配到的except字句内的异常处理代码exception_code1. 给异常赋予变量名var1不是必须的.   \n",
    "如果没有找到匹配的except字句,则该try语句就无法处理抛出的异常,异常会继续向函数调用链的上一层抛出,期望有外层的try能够处理.  \n",
    "当然,try 语句的最后一个except字句可以完全不指定任何异常类型,这样就会处理所有类型的异常,这对于某些调试工作和非常快的原型开发可能很方便,但通常这并不是一个好的做法--所有错误都被except语句掩盖起来,可能会让程序的某型行为令人难以理解.   \n",
    "try语句的else字句是可选的.\n",
    "try语句的finally字句也是可选的,在try,except,else部分执行完毕后执行.如果try块中有异常引发并且没有被任何except块处理过,那么finally块执行完毕后会再次引发该异常.   \n",
    "因为finally块始终都会被执行,所以能在异常处理完成后,通过关闭文件,重置变量之类的操作,提供一个加入资源清理模块的机会."
   ]
  },
  {
   "cell_type": "code",
   "execution_count": null,
   "metadata": {},
   "outputs": [],
   "source": []
  },
  {
   "cell_type": "markdown",
   "metadata": {},
   "source": [
    "### 使用raise引发异常\n",
    "在自己的代码里,可以使用raise显式地引发异常. raise语句最基本的形式如下:   \n",
    "raise exception(args)  \n",
    "exception(args)会显式地创建一个异常对象.新异常对象的参数应是有助于确定错误情况的值.\n",
    "一旦执行了raise语句,raise之后的语句不再执行, 如果加入了try,except,那么except里的语句会被执行.\n",
    "\n",
    "参考 https://blog.csdn.net/sinat_38682860/article/details/90904533\n"
   ]
  },
  {
   "cell_type": "code",
   "execution_count": 19,
   "metadata": {},
   "outputs": [
    {
     "name": "stdout",
     "output_type": "stream",
     "text": [
      "\n",
      "请输入一段文字,按回车结束输入:\n",
      "s是空对象\n",
      "空对象没有长度\n"
     ]
    }
   ],
   "source": [
    "try:\n",
    "    s = input(\"\\n请输入一段文字,按回车结束输入:\")\n",
    "    if s == '':\n",
    "        print('s是空对象')\n",
    "        raise NameError\n",
    "    print(\"您输入的文字长度是\"+str(len(s)))\n",
    "\n",
    "except Exception:\n",
    "    print('空对象没有长度')"
   ]
  },
  {
   "cell_type": "markdown",
   "metadata": {},
   "source": [
    "### 使用 assert (断言)调试异常\n",
    "\n",
    "assert 之后为检查条件, 当此条件不为真时, 抛出断言.   \n",
    "assert 可用于设置检查点, 这在程序测试中具有非常基础性的作用. 我们将在程序测试章节对此进行进一步的说明, 此处我们仅了解 assert 语句的基本语法和作用.\n",
    "以下是一个基本的 assert 的作用演示:\n"
   ]
  },
  {
   "cell_type": "code",
   "execution_count": 13,
   "metadata": {},
   "outputs": [
    {
     "ename": "AssertionError",
     "evalue": "a不大于b",
     "output_type": "error",
     "traceback": [
      "\u001b[1;31m---------------------------------------------------------------------------\u001b[0m",
      "\u001b[1;31mAssertionError\u001b[0m                            Traceback (most recent call last)",
      "\u001b[1;32m<ipython-input-13-c30535b9e90a>\u001b[0m in \u001b[0;36m<module>\u001b[1;34m\u001b[0m\n\u001b[0;32m      2\u001b[0m \u001b[0mb\u001b[0m \u001b[1;33m=\u001b[0m \u001b[1;36m2\u001b[0m\u001b[1;33m\u001b[0m\u001b[1;33m\u001b[0m\u001b[0m\n\u001b[0;32m      3\u001b[0m \u001b[1;31m# assert a<b,'a不小于b'\u001b[0m\u001b[1;33m\u001b[0m\u001b[1;33m\u001b[0m\u001b[1;33m\u001b[0m\u001b[0m\n\u001b[1;32m----> 4\u001b[1;33m \u001b[1;32massert\u001b[0m \u001b[0ma\u001b[0m\u001b[1;33m>\u001b[0m\u001b[0mb\u001b[0m\u001b[1;33m,\u001b[0m\u001b[1;34m'a不大于b'\u001b[0m\u001b[1;33m\u001b[0m\u001b[1;33m\u001b[0m\u001b[0m\n\u001b[0m\u001b[0;32m      5\u001b[0m \u001b[0mprint\u001b[0m\u001b[1;33m(\u001b[0m\u001b[1;34m'a小于b'\u001b[0m\u001b[1;33m)\u001b[0m\u001b[1;33m\u001b[0m\u001b[1;33m\u001b[0m\u001b[0m\n",
      "\u001b[1;31mAssertionError\u001b[0m: a不大于b"
     ]
    }
   ],
   "source": [
    "a = 1\n",
    "b = 2\n",
    "# assert a<b,'a不小于b'\n",
    "assert a>b,'a不大于b'\n",
    "print('a小于b')"
   ]
  },
  {
   "cell_type": "code",
   "execution_count": null,
   "metadata": {},
   "outputs": [],
   "source": [
    "# 关于assert的进一步介绍, 参: <python快速入门>pp.188 "
   ]
  },
  {
   "cell_type": "code",
   "execution_count": null,
   "metadata": {},
   "outputs": [],
   "source": []
  },
  {
   "cell_type": "markdown",
   "metadata": {},
   "source": [
    "# 警告 \n",
    "有些时候, 你想让程序提示用户某些信息，但是又不需要将其上升到异常这个级别，这时就可以输出警告信息.    \n",
    "例如，很多快速发展中的 Python 库会修改某个函数库或框架的功能，一般的做法是先为准备更改的部分输出警告信息，并向后兼容一段时间, 这样用户在升级到新版本之前, 就能有充分的时间修改代码中对相关函数或框架的使用方式了.  \n",
    "此外 ,警告还可以提醒用户对代码的使用方式是有问题的.    \n",
    "一般来说, Python程序运行中出现的警告并不会导致程序的中断, 但可以根据需要将其上升为异常, 或者使用流程控制方式来处理警告.  "
   ]
  },
  {
   "cell_type": "markdown",
   "metadata": {},
   "source": [
    "进一步学习警告的参考资料 :   \n",
    "    <python cookbook>\n",
    "    https://blog.konghy.cn/2017/12/16/python-warnings/         \n",
    "    https://python3-cookbook.readthedocs.io/zh_CN/latest/c14/p11_issuing_warning_messages.html          \n",
    "    "
   ]
  },
  {
   "cell_type": "code",
   "execution_count": null,
   "metadata": {},
   "outputs": [],
   "source": []
  },
  {
   "cell_type": "markdown",
   "metadata": {},
   "source": [
    "## Python标准警告总结\n",
    "    * Warning：警告的基类\n",
    "    * DeprecationWarning：关于被弃用的特征的警告\n",
    "    * FutureWarning：关于构造将来语义会有改变的警告\n",
    "    * UserWarning：用户代码生成的警告\n",
    "    * PendingDeprecationWarning：关于特性将会被废弃的警告\n",
    "    * RuntimeWarning：可疑的运行时行为(runtime behavior)的警告\n",
    "    * SyntaxWarning：可疑语法的警告\n",
    "    * ImportWarning：用于在导入模块过程中触发的警告\n",
    "    * UnicodeWarning：与Unicode相关的警告\n",
    "    * BytesWarning：与字节或字节码相关的警告\n",
    "    * ResourceWarning：与资源使用相关的警告"
   ]
  },
  {
   "cell_type": "code",
   "execution_count": null,
   "metadata": {},
   "outputs": [],
   "source": []
  },
  {
   "cell_type": "markdown",
   "metadata": {},
   "source": [
    "# 测试 "
   ]
  },
  {
   "cell_type": "code",
   "execution_count": null,
   "metadata": {},
   "outputs": [],
   "source": []
  },
  {
   "cell_type": "code",
   "execution_count": null,
   "metadata": {},
   "outputs": [],
   "source": []
  }
 ],
 "metadata": {
  "kernelspec": {
   "display_name": "Python 3",
   "language": "python",
   "name": "python3"
  },
  "language_info": {
   "codemirror_mode": {
    "name": "ipython",
    "version": 3
   },
   "file_extension": ".py",
   "mimetype": "text/x-python",
   "name": "python",
   "nbconvert_exporter": "python",
   "pygments_lexer": "ipython3",
   "version": "3.7.6"
  },
  "toc-autonumbering": true
 },
 "nbformat": 4,
 "nbformat_minor": 4
}
