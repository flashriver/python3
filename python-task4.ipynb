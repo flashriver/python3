{
 "cells": [
  {
   "cell_type": "markdown",
   "metadata": {},
   "source": [
    "* **函数**是带名字的代码块，用于完成具体的工作。\n",
    "* 要执行函数定义的特定任务，可调用该函数。需要在程序中多次执行同一项任务时，你无需反复编写完成该任务的代码，而只需调用执行该任务的函数，让 Python 运行其中的代码。你将发现，通过使用函数，程序的编写、阅读、测试和修复都将更容易。"
   ]
  },
  {
   "cell_type": "markdown",
   "metadata": {},
   "source": [
    "# 1.函数关键字\n",
    "\n",
    "# 2.函数的定义\n",
    "* 使用关键字 **def** 来告诉 Python 你要定义一个函数.\n",
    "* def后的字符串向 Python 指出了函数名，还可能在括号内指出函数为完成其任务需要什么样的信息。\n",
    "* 如果不需要任何信息就能完成其工作，那么括号是空的（即便如此，括号也必不可少）。\n",
    "* 最后，定义以冒号结尾,并引出后边的代码块执行具体的操作。"
   ]
  },
  {
   "cell_type": "code",
   "execution_count": 1,
   "metadata": {},
   "outputs": [],
   "source": [
    "def sayhi():\n",
    "    print('hi~')"
   ]
  },
  {
   "cell_type": "code",
   "execution_count": 2,
   "metadata": {},
   "outputs": [
    {
     "name": "stdout",
     "output_type": "stream",
     "text": [
      "hi~\n"
     ]
    }
   ],
   "source": [
    "sayhi()"
   ]
  },
  {
   "cell_type": "markdown",
   "metadata": {},
   "source": [
    "# 3.函数参数与作用域"
   ]
  },
  {
   "cell_type": "code",
   "execution_count": 12,
   "metadata": {},
   "outputs": [],
   "source": [
    "# 带参数的函数\n",
    "def sayhi(name):\n",
    "    print('hi~'+name)"
   ]
  },
  {
   "cell_type": "code",
   "execution_count": 15,
   "metadata": {},
   "outputs": [
    {
     "name": "stdout",
     "output_type": "stream",
     "text": [
      "hi~tom\n"
     ]
    }
   ],
   "source": [
    "sayhi('tom')"
   ]
  },
  {
   "cell_type": "code",
   "execution_count": 27,
   "metadata": {},
   "outputs": [],
   "source": [
    "# 带两个参数的函数\n",
    "def sayhi(name,time):\n",
    "    print('hi~'+name+','+'this is the '+time+' time to see you')"
   ]
  },
  {
   "cell_type": "code",
   "execution_count": 28,
   "metadata": {},
   "outputs": [
    {
     "name": "stdout",
     "output_type": "stream",
     "text": [
      "hi~tom,this is the 2 time to see you\n"
     ]
    }
   ],
   "source": [
    "sayhi('tom','2')"
   ]
  },
  {
   "cell_type": "markdown",
   "metadata": {},
   "source": [
    "### 实参和形参\n",
    "* 在函数的定义中，变量名是一个 **形参** —— 函数完成其工作所需的一项信息。在调用该函数的代码中，传递给该函数的参数值是一个 实参 。\n",
    "* **实参**是调用函数时传递给函数的信息。\n",
    "###  传递参数\n",
    "鉴于函数定义中可能包含多个形参，因此函数调用中也可能包含多个实参。向函数传递实参的方式很多，可使用 位置实参 ，这要求实参的顺序与形参的顺序相同；也可使用 关键\n",
    "字实参 ，其中每个实参都由变量名和值组成；还可使用列表和字典。\n",
    "**位置实参**\n",
    "你调用函数时， Python 必须将函数调用中的每个实参都关联到函数定义中的一个形参。为此，最简单的关联方式是基于实参的顺序。这种关联方式被称为 位置实参 。\n",
    "前边sayhi()函数,我们就是通过位置实参的方式传递的参数.\n",
    "**关键字实参**\n",
    "关键字实参 是传递给函数的名称 — 值对。你直接在实参中将名称和值关联起来了，因此向函数传递实参时不会混淆。关键字实参让你无需考虑函数调用中的实参顺序，还清楚地指出了函数调用中各个值的用途。"
   ]
  },
  {
   "cell_type": "markdown",
   "metadata": {},
   "source": [
    "### 默认值\n",
    "编写函数时，可给每个形参指定 默认值 。在调用函数中给形参提供了实参时， Python 将使用指定的实参值；否则，将使用形参的默认值。因此，给形参指定默认值后，可在函数调用中省略相应的实参。使用默认值可简化函数调用，还可清楚地指出函数的典型用法。\n"
   ]
  },
  {
   "cell_type": "code",
   "execution_count": 31,
   "metadata": {},
   "outputs": [],
   "source": [
    "def sayhi(name,time='1'):# time默认值为1\n",
    "    print('hi~'+name+','+'this is the '+time+' time to see you')"
   ]
  },
  {
   "cell_type": "code",
   "execution_count": 32,
   "metadata": {},
   "outputs": [
    {
     "name": "stdout",
     "output_type": "stream",
     "text": [
      "hi~jerry,this is the 1 time to see you\n"
     ]
    }
   ],
   "source": [
    "sayhi('jerry')"
   ]
  },
  {
   "cell_type": "code",
   "execution_count": 33,
   "metadata": {},
   "outputs": [
    {
     "name": "stdout",
     "output_type": "stream",
     "text": [
      "hi~tom,this is the 6 time to see you\n"
     ]
    }
   ],
   "source": [
    "sayhi('tom','6')"
   ]
  },
  {
   "cell_type": "markdown",
   "metadata": {},
   "source": [
    "### 参数的作用域\n",
    "在定义函数的程序块里声明的变量,不会以任何方式与身处函数之外的具有相同名称的变量产生关系,也就是说,定义函数的程序块中的变量名,只存在函数这一局部.\n",
    "也就是说**函数中变量的作用域是局部的**,因此也被称为局部变量."
   ]
  },
  {
   "cell_type": "code",
   "execution_count": 42,
   "metadata": {},
   "outputs": [],
   "source": [
    "name='mike'\n",
    "def sayhi(name='tom',time='1'):# time默认值为1\n",
    "    print('hi~'+name+','+'this is the '+time+' time to see you')\n",
    "    name='lily'\n",
    "    print('hi~'+name+','+'this is the '+time+' time to see you')"
   ]
  },
  {
   "cell_type": "code",
   "execution_count": 43,
   "metadata": {},
   "outputs": [
    {
     "name": "stdout",
     "output_type": "stream",
     "text": [
      "hi~mike,this is the 1 time to see you\n",
      "hi~lily,this is the 1 time to see you\n"
     ]
    }
   ],
   "source": [
    "sayhi(name)\n",
    "# 函数之外定义的变量name\n",
    "# "
   ]
  },
  {
   "cell_type": "code",
   "execution_count": 44,
   "metadata": {},
   "outputs": [
    {
     "name": "stdout",
     "output_type": "stream",
     "text": [
      "hi~tom,this is the 1 time to see you\n",
      "hi~lily,this is the 1 time to see you\n"
     ]
    }
   ],
   "source": [
    "sayhi()"
   ]
  },
  {
   "cell_type": "code",
   "execution_count": 45,
   "metadata": {},
   "outputs": [
    {
     "name": "stdout",
     "output_type": "stream",
     "text": [
      "hi~john,this is the 1 time to see you\n",
      "hi~lily,this is the 1 time to see you\n"
     ]
    }
   ],
   "source": [
    "sayhi('john')"
   ]
  },
  {
   "cell_type": "markdown",
   "metadata": {},
   "source": [
    "**global语句**\n",
    "如果想要给程序顶层的变量赋值,也就是说这个变量不存在任何作用域内,无论是函数还是类,那么就必须告诉python这一变量并非局部的,而是全局的.\n",
    "需要通过global语句来完成这件事.\n",
    "尽管可以使用定义于函数之外的变量的值,但这种方式应该避免,因为它对于程序的读者而言是含糊不清的.\n",
    "而通过global语句就可以清楚的看出这一变量是在最外边代码块中定义的."
   ]
  },
  {
   "cell_type": "code",
   "execution_count": 50,
   "metadata": {},
   "outputs": [],
   "source": [
    "name='mike'\n",
    "def sayhi(time='1'):# time默认值为1\n",
    "    global name\n",
    "    print('hi~'+name+','+'this is the '+time+' time to see you')\n",
    "    name='tom'\n",
    "    print('hi~'+name+','+'this is the '+time+' time to see you')\n"
   ]
  },
  {
   "cell_type": "code",
   "execution_count": 51,
   "metadata": {},
   "outputs": [
    {
     "name": "stdout",
     "output_type": "stream",
     "text": [
      "hi~mike,this is the 1 time to see you\n",
      "hi~tom,this is the 1 time to see you\n"
     ]
    }
   ],
   "source": [
    "sayhi()"
   ]
  },
  {
   "cell_type": "markdown",
   "metadata": {},
   "source": [
    "### 可变参数\n",
    "* 有时候可能想定义的函数里能够有任意数量的变量,也就是参数数量是可变的,这可以通过使用星号来是想."
   ]
  },
  {
   "cell_type": "code",
   "execution_count": 101,
   "metadata": {},
   "outputs": [],
   "source": [
    "def sayhi(myname='lily',*names,**times):# time默认值为1\n",
    "    print('my name is '+myname+'.')\n",
    "    for name,time in zip(names,times.values()):#使用zip函数合并参数\n",
    "        print('are you '+name+' ?')\n",
    "#    for time in times.values():\n",
    "        print('this is the '+time+' time to see you')"
   ]
  },
  {
   "cell_type": "code",
   "execution_count": 102,
   "metadata": {},
   "outputs": [
    {
     "name": "stdout",
     "output_type": "stream",
     "text": [
      "my name is lucy.\n",
      "are you tom ?\n",
      "this is the 5 time to see you\n",
      "are you jerry ?\n",
      "this is the 7 time to see you\n",
      "are you mike ?\n",
      "this is the 9 time to see you\n"
     ]
    }
   ],
   "source": [
    "sayhi('lucy','tom','jerry','mike',j='5',k='7',l='9')"
   ]
  },
  {
   "cell_type": "markdown",
   "metadata": {},
   "source": [
    "# 4.函数返回值\n",
    "\n",
    "函数并非总是直接显示输出，相反，它可以处理一些数据，并返回一个或一组值。函数返回的值被称为 返回值 。在函数中，可使用 return 语句将值返回到调用函数的代码行。\n",
    "返回值让你能够将程序的大部分繁重工作移到函数中去完成，从而简化主程序。\n",
    "\n",
    "return语句用于从函数中返回,也就是中断函数,并且可以在中断函数的时候返回一个值.\n"
   ]
  },
  {
   "cell_type": "code",
   "execution_count": 103,
   "metadata": {},
   "outputs": [],
   "source": [
    "def plusone(num):\n",
    "    n=num+1\n",
    "    return n"
   ]
  },
  {
   "cell_type": "code",
   "execution_count": 104,
   "metadata": {},
   "outputs": [
    {
     "data": {
      "text/plain": [
       "4"
      ]
     },
     "execution_count": 104,
     "metadata": {},
     "output_type": "execute_result"
    }
   ],
   "source": [
    "plusone(3)"
   ]
  },
  {
   "cell_type": "markdown",
   "metadata": {},
   "source": [
    "* 为了让某个实参变成可选的,可以在定义函数时,给对应的形参设置一个默认值."
   ]
  },
  {
   "cell_type": "code",
   "execution_count": 105,
   "metadata": {},
   "outputs": [],
   "source": [
    "def plusone(num=0):\n",
    "    n=num+1\n",
    "    return n"
   ]
  },
  {
   "cell_type": "code",
   "execution_count": 106,
   "metadata": {},
   "outputs": [
    {
     "data": {
      "text/plain": [
       "1"
      ]
     },
     "execution_count": 106,
     "metadata": {},
     "output_type": "execute_result"
    }
   ],
   "source": [
    "plusone()"
   ]
  },
  {
   "cell_type": "markdown",
   "metadata": {},
   "source": [
    "* 除了返回简单值,函数也可以返回其他类型的数据,如列表,字典,字符串等等."
   ]
  },
  {
   "cell_type": "markdown",
   "metadata": {},
   "source": [
    "# 5.file\n",
    "要使用文本文件中的信息，首先需要将信息读取到内存中。为此，你可以一次性读取文件的全部内容，也可以以每次一行的方式逐步读取。"
   ]
  },
  {
   "cell_type": "markdown",
   "metadata": {},
   "source": [
    "## 打开文件方式（读写两种方式）"
   ]
  },
  {
   "cell_type": "code",
   "execution_count": 115,
   "metadata": {},
   "outputs": [
    {
     "name": "stdout",
     "output_type": "stream",
     "text": [
      "this is a message.\n",
      "pi=3.1415926\n",
      "and\n",
      "so\n",
      "on\n",
      "涓�鏂囧瓧绗�\n"
     ]
    }
   ],
   "source": [
    "# 查看文件内容\n",
    "!type test.txt"
   ]
  },
  {
   "cell_type": "code",
   "execution_count": 123,
   "metadata": {},
   "outputs": [
    {
     "name": "stdout",
     "output_type": "stream",
     "text": [
      "this is a message.\n",
      "pi=3.1415926\n",
      "and\n",
      "so\n",
      "on\n",
      "name after\n"
     ]
    }
   ],
   "source": [
    "# 使用python 打开文件\n",
    "with open('t0.txt') as file_object:\n",
    "    contents = file_object.read()\n",
    "print(contents)"
   ]
  },
  {
   "cell_type": "code",
   "execution_count": 122,
   "metadata": {},
   "outputs": [
    {
     "ename": "UnicodeDecodeError",
     "evalue": "'gbk' codec can't decode byte 0xad in position 49: illegal multibyte sequence",
     "output_type": "error",
     "traceback": [
      "\u001b[1;31m---------------------------------------------------------------------------\u001b[0m",
      "\u001b[1;31mUnicodeDecodeError\u001b[0m                        Traceback (most recent call last)",
      "\u001b[1;32m<ipython-input-122-0ba045823d04>\u001b[0m in \u001b[0;36m<module>\u001b[1;34m\u001b[0m\n\u001b[0;32m      1\u001b[0m \u001b[1;32mwith\u001b[0m \u001b[0mopen\u001b[0m\u001b[1;33m(\u001b[0m\u001b[1;34m'test.txt'\u001b[0m\u001b[1;33m)\u001b[0m \u001b[1;32mas\u001b[0m \u001b[0mfile_object\u001b[0m\u001b[1;33m:\u001b[0m\u001b[1;33m\u001b[0m\u001b[1;33m\u001b[0m\u001b[0m\n\u001b[1;32m----> 2\u001b[1;33m     \u001b[0mcontents\u001b[0m \u001b[1;33m=\u001b[0m \u001b[0mfile_object\u001b[0m\u001b[1;33m.\u001b[0m\u001b[0mread\u001b[0m\u001b[1;33m(\u001b[0m\u001b[1;33m)\u001b[0m\u001b[1;33m\u001b[0m\u001b[1;33m\u001b[0m\u001b[0m\n\u001b[0m\u001b[0;32m      3\u001b[0m \u001b[0mprint\u001b[0m\u001b[1;33m(\u001b[0m\u001b[0mcontents\u001b[0m\u001b[1;33m)\u001b[0m\u001b[1;33m\u001b[0m\u001b[1;33m\u001b[0m\u001b[0m\n",
      "\u001b[1;31mUnicodeDecodeError\u001b[0m: 'gbk' codec can't decode byte 0xad in position 49: illegal multibyte sequence"
     ]
    }
   ],
   "source": [
    "with open('test.txt') as file_object:\n",
    "    contents = file_object.read()\n",
    "print(contents)\n",
    "# 有中文无法正确读取"
   ]
  },
  {
   "cell_type": "markdown",
   "metadata": {},
   "source": [
    "### 逐行读取\n",
    "读取文件时，常常需要检查其中的每一行：你可能要在文件中查找特定的信息，或者要以某种方式修改文件中的文本。例如，你可能要遍历一个包含天气数据的文件，并使用天气描述中包含字样 sunny 的行。在新闻报道中，你可能会查找包含标签 <headline> 的行，并按特定的格式设置它。\n",
    "要以每次一行的方式检查文件，可对文件对象使用 for 循环："
   ]
  },
  {
   "cell_type": "code",
   "execution_count": 125,
   "metadata": {},
   "outputs": [
    {
     "name": "stdout",
     "output_type": "stream",
     "text": [
      "this is a message.\n",
      "\n",
      "pi=3.1415926\n",
      "\n",
      "and\n",
      "\n",
      "so\n",
      "\n",
      "on\n",
      "\n",
      "name after\n"
     ]
    }
   ],
   "source": [
    "filename = 't0.txt'\n",
    "with open(filename) as file_object:\n",
    "    for line in file_object:\n",
    "        print(line)"
   ]
  },
  {
   "cell_type": "markdown",
   "metadata": {},
   "source": [
    "上述代码打印每一行时，发现空白行更多了.\n",
    "为何会出现这些空白行呢？因为在这个文件中，每行的末尾都有一个看不见的换行符，而 print 语句也会加上一个换行符，因此每行末尾都有两个换行符：一个来自文件，另一\n",
    "个来自 print 语句。要消除这些多余的空白行，可在 print 语句中使用 rstrip() ："
   ]
  },
  {
   "cell_type": "code",
   "execution_count": 126,
   "metadata": {},
   "outputs": [
    {
     "name": "stdout",
     "output_type": "stream",
     "text": [
      "this is a message.\n",
      "pi=3.1415926\n",
      "and\n",
      "so\n",
      "on\n",
      "name after\n"
     ]
    }
   ],
   "source": [
    "filename = 't0.txt'\n",
    "with open(filename) as file_object:\n",
    "    for line in file_object:\n",
    "        print(line.rstrip())"
   ]
  },
  {
   "cell_type": "markdown",
   "metadata": {},
   "source": [
    "### 写入文件\n",
    "保存数据的最简单的方式之一是将其写入到文件中。通过将输出写入文件，即便关闭包含程序输出的终端窗口，这些输出也依然存在：你可以在程序结束运行后查看这些输出，可与别人分享输出文件，还可编写程序来将这些输出读取到内存中并进行处理。"
   ]
  },
  {
   "cell_type": "code",
   "execution_count": 127,
   "metadata": {},
   "outputs": [],
   "source": [
    "filename = 'programming.txt'\n",
    "with open(filename, 'w') as file_object:\n",
    "    file_object.write(\"I love programming.\")"
   ]
  },
  {
   "cell_type": "code",
   "execution_count": 129,
   "metadata": {},
   "outputs": [
    {
     "name": "stdout",
     "output_type": "stream",
     "text": [
      "I love programming.\n"
     ]
    }
   ],
   "source": [
    "with open('programming.txt') as file_object:\n",
    "    contents = file_object.read()\n",
    "print(contents)"
   ]
  },
  {
   "cell_type": "markdown",
   "metadata": {},
   "source": [
    "* 写入多行\n",
    "函数 write() 不会在你写入的文本末尾添加换行符，因此如果你写入多行时没有指定换行符，文件看起来可能不是你希望的那样.\n",
    "要让每个字符串都单独占一行，需要在 write() 语句中包含换行符"
   ]
  },
  {
   "cell_type": "code",
   "execution_count": 130,
   "metadata": {},
   "outputs": [],
   "source": [
    "filename = 'programming.txt'\n",
    "with open(filename, 'w') as file_object:\n",
    "    file_object.write(\"I love programming.\\n\")\n",
    "    file_object.write(\"I love creating new games.\\n\")"
   ]
  },
  {
   "cell_type": "code",
   "execution_count": 131,
   "metadata": {},
   "outputs": [
    {
     "name": "stdout",
     "output_type": "stream",
     "text": [
      "I love programming.\n",
      "I love creating new games.\n",
      "\n"
     ]
    }
   ],
   "source": [
    "with open('programming.txt') as file_object:\n",
    "    contents = file_object.read()\n",
    "print(contents)"
   ]
  },
  {
   "cell_type": "markdown",
   "metadata": {},
   "source": [
    "附加到文件\n",
    "如果你要给文件添加内容，而不是覆盖原有的内容，可以 附加模式 打开文件。你以附加模式打开文件时， Python 不会在返回文件对象前清空文件，而你写入到文件的行都将添加\n",
    "到文件末尾。如果指定的文件不存在， Python 将为你创建一个空文件。"
   ]
  },
  {
   "cell_type": "code",
   "execution_count": 132,
   "metadata": {},
   "outputs": [],
   "source": [
    "filename = 'programming.txt'\n",
    "with open(filename, 'a') as file_object:\n",
    "    file_object.write(\"I also love finding meaning in large datasets.\\n\")\n",
    "    file_object.write(\"I love creating apps that can run in a browser.\\n\")"
   ]
  },
  {
   "cell_type": "code",
   "execution_count": 133,
   "metadata": {},
   "outputs": [
    {
     "name": "stdout",
     "output_type": "stream",
     "text": [
      "I love programming.\n",
      "I love creating new games.\n",
      "I also love finding meaning in large datasets.\n",
      "I love creating apps that can run in a browser.\n",
      "\n"
     ]
    }
   ],
   "source": [
    "with open('programming.txt') as file_object:\n",
    "    contents = file_object.read()\n",
    "print(contents)"
   ]
  },
  {
   "cell_type": "markdown",
   "metadata": {},
   "source": [
    "## 文件对象的操作方法\n",
    "参考:https://blog.csdn.net/slwhy/article/details/78698017"
   ]
  },
  {
   "cell_type": "code",
   "execution_count": null,
   "metadata": {},
   "outputs": [],
   "source": []
  },
  {
   "cell_type": "markdown",
   "metadata": {},
   "source": [
    "## 学习对excel及csv文件进行操作\n",
    "csv 模块包含在 Python 标准库中，可用于分析 CSV 文件中的数据行，让我们能够快速提取感兴趣的值。\n",
    "但实际上pandas更适合进行txt,csv,excel乃至JSON,HDF5等等各种格式数据的读取写入,并且操作更加简洁高效."
   ]
  },
  {
   "cell_type": "code",
   "execution_count": 135,
   "metadata": {},
   "outputs": [
    {
     "name": "stdout",
     "output_type": "stream",
     "text": [
      "['01', '02', '03', '01', '02', '03']\n"
     ]
    }
   ],
   "source": [
    "# 使用csv模块\n",
    "import csv\n",
    "filename = 'test.csv'\n",
    "with open(filename) as f:\n",
    "    reader = csv.reader(f)\n",
    "    header_row = next(reader)\n",
    "print(header_row)"
   ]
  },
  {
   "cell_type": "code",
   "execution_count": 141,
   "metadata": {},
   "outputs": [
    {
     "data": {
      "text/html": [
       "<div>\n",
       "<style scoped>\n",
       "    .dataframe tbody tr th:only-of-type {\n",
       "        vertical-align: middle;\n",
       "    }\n",
       "\n",
       "    .dataframe tbody tr th {\n",
       "        vertical-align: top;\n",
       "    }\n",
       "\n",
       "    .dataframe thead th {\n",
       "        text-align: right;\n",
       "    }\n",
       "</style>\n",
       "<table border=\"1\" class=\"dataframe\">\n",
       "  <thead>\n",
       "    <tr style=\"text-align: right;\">\n",
       "      <th></th>\n",
       "      <th>0</th>\n",
       "      <th>1</th>\n",
       "      <th>2</th>\n",
       "      <th>3</th>\n",
       "      <th>4</th>\n",
       "      <th>5</th>\n",
       "    </tr>\n",
       "  </thead>\n",
       "  <tbody>\n",
       "    <tr>\n",
       "      <th>0</th>\n",
       "      <td>1</td>\n",
       "      <td>2</td>\n",
       "      <td>3</td>\n",
       "      <td>1</td>\n",
       "      <td>2</td>\n",
       "      <td>3</td>\n",
       "    </tr>\n",
       "    <tr>\n",
       "      <th>1</th>\n",
       "      <td>2</td>\n",
       "      <td>4</td>\n",
       "      <td>3</td>\n",
       "      <td>4</td>\n",
       "      <td>15</td>\n",
       "      <td>14</td>\n",
       "    </tr>\n",
       "    <tr>\n",
       "      <th>2</th>\n",
       "      <td>3</td>\n",
       "      <td>4</td>\n",
       "      <td>6</td>\n",
       "      <td>5</td>\n",
       "      <td>11</td>\n",
       "      <td>18</td>\n",
       "    </tr>\n",
       "  </tbody>\n",
       "</table>\n",
       "</div>"
      ],
      "text/plain": [
       "   0  1  2  3   4   5\n",
       "0  1  2  3  1   2   3\n",
       "1  2  4  3  4  15  14\n",
       "2  3  4  6  5  11  18"
      ]
     },
     "execution_count": 141,
     "metadata": {},
     "output_type": "execute_result"
    }
   ],
   "source": [
    "import pandas as pd \n",
    "# 读取csv\n",
    "pd.read_csv('test.csv',sep=',',header=None)\n",
    "#pd.read_csv??可查看更多参数及用法\n",
    "# 更多关于使用pandas读取excel等格式文件的方法参阅<利用python进行数据分析>第五章."
   ]
  },
  {
   "cell_type": "code",
   "execution_count": 139,
   "metadata": {},
   "outputs": [],
   "source": []
  },
  {
   "cell_type": "markdown",
   "metadata": {},
   "source": [
    "# 6.os模块"
   ]
  },
  {
   "cell_type": "code",
   "execution_count": 142,
   "metadata": {},
   "outputs": [],
   "source": [
    "import os"
   ]
  },
  {
   "cell_type": "code",
   "execution_count": 143,
   "metadata": {},
   "outputs": [
    {
     "data": {
      "text/plain": [
       "['.ipynb_checkpoints',\n",
       " 'IntroToPythonForDataScience.ipynb',\n",
       " 'programming.txt',\n",
       " 'pydata-book-2nd-edition',\n",
       " 'python-task1.ipynb',\n",
       " 'python-task2.ipynb',\n",
       " 'python-task3.ipynb',\n",
       " 'python-task4.ipynb',\n",
       " 't0.txt',\n",
       " 'test.csv',\n",
       " 'test.txt',\n",
       " 'Untitled.ipynb']"
      ]
     },
     "execution_count": 143,
     "metadata": {},
     "output_type": "execute_result"
    }
   ],
   "source": [
    "# os.listdir可以列出文件和目录\n",
    "[d for d in os.listdir('.')]"
   ]
  },
  {
   "cell_type": "code",
   "execution_count": 144,
   "metadata": {},
   "outputs": [
    {
     "name": "stdout",
     "output_type": "stream",
     "text": [
      "nt\n"
     ]
    }
   ],
   "source": [
    "print(os.name)\n",
    "#查看操作系统"
   ]
  },
  {
   "cell_type": "code",
   "execution_count": 145,
   "metadata": {},
   "outputs": [
    {
     "name": "stdout",
     "output_type": "stream",
     "text": [
      "environ({'ALLUSERSPROFILE': 'C:\\\\ProgramData', 'APPDATA': 'C:\\\\Users\\\\Administrator\\\\AppData\\\\Roaming', 'CLASSPATH': 'C:\\\\Program Files\\\\Java\\\\jdk1.6.0_43\\\\lib\\\\dt.jar;C:\\\\Program Files\\\\Java\\\\jdk1.6.0_43\\\\lib\\\\tools.jar', 'COMMONPROGRAMFILES': 'C:\\\\Program Files\\\\Common Files', 'COMMONPROGRAMFILES(X86)': 'C:\\\\Program Files (x86)\\\\Common Files', 'COMMONPROGRAMW6432': 'C:\\\\Program Files\\\\Common Files', 'COMPUTERNAME': 'MS-20171119PAYV', 'COMSPEC': 'C:\\\\Windows\\\\system32\\\\cmd.exe', 'FP_NO_HOST_CHECK': 'NO', 'HOMEDRIVE': 'C:', 'HOMEPATH': '\\\\Users\\\\Administrator', 'JAVA_HOME': 'C:\\\\Program Files\\\\Java\\\\jdk1.6.0_43', 'LOCALAPPDATA': 'C:\\\\Users\\\\Administrator\\\\AppData\\\\Local', 'LOGONSERVER': '\\\\\\\\MS-20171119PAYV', 'MOZ_PLUGIN_PATH': 'C:\\\\Program Files (x86)\\\\Foxit Software\\\\Foxit Reader\\\\plugins\\\\', 'NUMBER_OF_PROCESSORS': '4', 'OS': 'Windows_NT', 'PATH': 'C:\\\\ProgramData\\\\Anaconda3;C:\\\\ProgramData\\\\Anaconda3\\\\Library\\\\mingw-w64\\\\bin;C:\\\\ProgramData\\\\Anaconda3\\\\Library\\\\usr\\\\bin;C:\\\\ProgramData\\\\Anaconda3\\\\Library\\\\bin;C:\\\\ProgramData\\\\Anaconda3\\\\Scripts;C:\\\\ProgramData\\\\Anaconda3;C:\\\\ProgramData\\\\Anaconda3\\\\Library\\\\mingw-w64\\\\bin;C:\\\\ProgramData\\\\Anaconda3\\\\Library\\\\usr\\\\bin;C:\\\\ProgramData\\\\Anaconda3\\\\Library\\\\bin;C:\\\\ProgramData\\\\Anaconda3\\\\Scripts;C:\\\\Oracle\\\\product\\\\10.1.0\\\\Client_1\\\\bin;C:\\\\Oracle\\\\product\\\\10.1.0\\\\Client_1\\\\jre\\\\1.4.2\\\\bin\\\\client;C:\\\\Oracle\\\\product\\\\10.1.0\\\\Client_1\\\\jre\\\\1.4.2\\\\bin;C:\\\\Python37\\\\Scripts\\\\;C:\\\\Python37\\\\;C:\\\\texlive\\\\2018\\\\bin\\\\win32;C:\\\\Windows\\\\system32;C:\\\\Windows;C:\\\\Windows\\\\System32\\\\Wbem;C:\\\\Windows\\\\System32\\\\WindowsPowerShell\\\\v1.0\\\\;C:\\\\Program Files (x86)\\\\Calibre2;C:\\\\Program Files\\\\Java\\\\jdk1.6.0_43\\\\bin;C:\\\\Program Files\\\\Java\\\\jdk1.6.0_43\\\\jre\\\\bin;C:\\\\Program Files (x86)\\\\Calibre2\\\\;C:\\\\Program Files\\\\Microsoft VS Code\\\\bin;C:\\\\Program Files\\\\Git\\\\cmd;C:\\\\Program Files (x86)\\\\IDM Computer Solutions\\\\UltraEdit;;C:\\\\Users\\\\Administrator\\\\AppData\\\\Local\\\\Programs\\\\Microsoft VS Code\\\\bin', 'PATHEXT': '.COM;.EXE;.BAT;.CMD;.VBS;.VBE;.JS;.JSE;.WSF;.WSH;.MSC', 'PROCESSOR_ARCHITECTURE': 'AMD64', 'PROCESSOR_IDENTIFIER': 'Intel64 Family 6 Model 60 Stepping 3, GenuineIntel', 'PROCESSOR_LEVEL': '6', 'PROCESSOR_REVISION': '3c03', 'PROGRAMDATA': 'C:\\\\ProgramData', 'PROGRAMFILES': 'C:\\\\Program Files', 'PROGRAMFILES(X86)': 'C:\\\\Program Files (x86)', 'PROGRAMW6432': 'C:\\\\Program Files', 'PSMODULEPATH': 'C:\\\\Windows\\\\system32\\\\WindowsPowerShell\\\\v1.0\\\\Modules\\\\', 'PUBLIC': 'C:\\\\Users\\\\Public', 'SESSIONNAME': 'Console', 'SYSTEMDRIVE': 'C:', 'SYSTEMROOT': 'C:\\\\Windows', 'TEMP': 'C:\\\\Users\\\\ADMINI~1\\\\AppData\\\\Local\\\\Temp', 'TMP': 'C:\\\\Users\\\\ADMINI~1\\\\AppData\\\\Local\\\\Temp', 'USERDOMAIN': 'MS-20171119PAYV', 'USERNAME': 'Administrator', 'USERPROFILE': 'C:\\\\Users\\\\Administrator', 'WINDIR': 'C:\\\\Windows', 'WINDOWS_TRACING_FLAGS': '3', 'WINDOWS_TRACING_LOGFILE': 'C:\\\\BVTBin\\\\Tests\\\\installpackage\\\\csilogfile.log', '_DFX_INSTALL_UNSIGNED_DRIVER': '1', 'CONDA_PREFIX': 'C:\\\\ProgramData\\\\Anaconda3', 'JPY_INTERRUPT_EVENT': '3096', 'IPY_INTERRUPT_EVENT': '3096', 'JPY_PARENT_PID': '3108', 'TERM': 'xterm-color', 'CLICOLOR': '1', 'PAGER': 'cat', 'GIT_PAGER': 'cat', 'MPLBACKEND': 'module://ipykernel.pylab.backend_inline'})\n"
     ]
    }
   ],
   "source": [
    "print(os.environ)\n",
    "#获取操作系统的所有环境变量"
   ]
  },
  {
   "cell_type": "code",
   "execution_count": 146,
   "metadata": {},
   "outputs": [
    {
     "name": "stdout",
     "output_type": "stream",
     "text": [
      "C:\\Users\\Administrator\\P4DA\n"
     ]
    }
   ],
   "source": [
    "print(os.getcwd())\n",
    "#查看当前文件所在的路径 current"
   ]
  },
  {
   "cell_type": "code",
   "execution_count": 147,
   "metadata": {},
   "outputs": [
    {
     "name": "stdout",
     "output_type": "stream",
     "text": [
      "['.ipynb_checkpoints', 'IntroToPythonForDataScience.ipynb', 'programming.txt', 'pydata-book-2nd-edition', 'python-task1.ipynb', 'python-task2.ipynb', 'python-task3.ipynb', 'python-task4.ipynb', 't0.txt', 'test.csv', 'test.txt', 'Untitled.ipynb']\n"
     ]
    }
   ],
   "source": [
    "print(os.listdir())\n",
    "# 获取当前文件夹下所有的文件--不能深层获取"
   ]
  },
  {
   "cell_type": "code",
   "execution_count": 155,
   "metadata": {},
   "outputs": [
    {
     "name": "stdout",
     "output_type": "stream",
     "text": [
      "['3wJT612QY47L.2nmkM', '4xCiNYm9o2.MvUli', '64d8663.HOYX4', '7doO.MEgxN', '7epS36K.R6Y8Q', '9td.o4R1Z', 'aaRemove.exe', 'addins', 'amlog', 'ampa.exe', 'ampa.ini', 'AppCompat', 'AppPatch', 'assembly', 'autorun.INI', 'bfsvc.exe', 'BitLockerDiscoveryVolumeContents', 'Boot', 'bootstat2.dat', 'Branding', 'CheckSur', 'CSC', 'Cursors', 'D8Ecap.exe', 'debug', 'desktop.ini', 'diagnostics', 'DigitalLocker', 'Downloaded Installations', 'Downloaded Program Files', 'empty.exe', 'en-US', 'explorer.exe', 'Fonts', 'fveupdate.exe', 'Globalization', 'Help', 'HelpPane.exe', 'hh.exe', 'IME', 'inf', 'Installer', 'KMS', 'L2Schemas', 'LiveKernelReports', 'Logs', 'Logtest.dat', 'Media', 'mib.bin', 'Microsoft.NET', 'Migration', 'ModemLogs', 'msdfmap.ini', 'msvcp100.dll', 'msvcr100.dll', 'mvtcpui.ini', 'notepad.exe', 'OBCY197OMeM9ci.hj77A', 'ocr', 'ODBC.INI', 'ODBCINST.INI', 'Offline Web Pages', 'OUT72KyFXikrt.Ob2YB', 'P2h5nOgN1ImlC.Aga6d', 'Panther', 'PCHEALTH', 'Performance', 'PFRO.log', 'PLA', 'PolicyDefinitions', 'Prefetch', 'psnetwork.ini', 'pss', 'r.IZJbA', 'regedit.exe', 'Registration', 'RemotePackages', 'rescache', 'Resources', 'Sb1m3Y.Wf45q', 'SchCache', 'schemas', 'security', 'ServiceProfiles', 'servicing', 'Setup', 'setupact.log', 'setuperr.log', 'sfmtmsg', 'ShellNew', 'SoftwareDistribution', 'splwow64.exe', 'Starter.xml', 'system', 'system.ini', 'System32', 'systemT.txt', 'SysWOW64', 'TAPI', 'Tasks', 'TcY699eYN7.Df1Cb', 'Temp', 'tracing', 'twain.dll', 'twain_32', 'twain_32.dll', 'twunk_16.exe', 'twunk_32.exe', 'U1nF9Av9.2JcR4', 'Ultimate.xml', 'unrar.dll', 'Vss', 'Web', 'win.ini', 'wincfg.dat', 'WindowsShell.Manifest', 'WindowsUpdate.log', 'winhlp32.exe', 'winsxs', 'WMSysPr9.prx', 'wout.ini', 'write.exe', 'X123w2.7r893', 'xinstaller.dll', 'xinstaller.exe', 'xkSyllable.dll', 'zh-CN']\n"
     ]
    }
   ],
   "source": [
    "print(os.listdir('c:/windows'))\n",
    "#获取指定路径下所有的的文件"
   ]
  },
  {
   "cell_type": "code",
   "execution_count": 157,
   "metadata": {},
   "outputs": [],
   "source": [
    "#当前目录下创建一个文件夹\n",
    "os.mkdir('练习')"
   ]
  },
  {
   "cell_type": "code",
   "execution_count": 167,
   "metadata": {},
   "outputs": [
    {
     "ename": "SyntaxError",
     "evalue": "EOL while scanning string literal (<ipython-input-167-da9bcc9ce831>, line 2)",
     "output_type": "error",
     "traceback": [
      "\u001b[1;36m  File \u001b[1;32m\"<ipython-input-167-da9bcc9ce831>\"\u001b[1;36m, line \u001b[1;32m2\u001b[0m\n\u001b[1;33m    path1='c:\\'\u001b[0m\n\u001b[1;37m               ^\u001b[0m\n\u001b[1;31mSyntaxError\u001b[0m\u001b[1;31m:\u001b[0m EOL while scanning string literal\n"
     ]
    }
   ],
   "source": [
    "#在指定的路径下创建一个文件夹\n",
    "path1='c:\\'\n",
    "os.mkdir('test111111')\n",
    "#??"
   ]
  },
  {
   "cell_type": "code",
   "execution_count": 175,
   "metadata": {},
   "outputs": [],
   "source": [
    "#重命名\n",
    "os.rename('test-123.txt','T.txt')"
   ]
  },
  {
   "cell_type": "code",
   "execution_count": null,
   "metadata": {},
   "outputs": [],
   "source": []
  },
  {
   "cell_type": "code",
   "execution_count": null,
   "metadata": {},
   "outputs": [],
   "source": []
  },
  {
   "cell_type": "code",
   "execution_count": null,
   "metadata": {},
   "outputs": [],
   "source": []
  }
 ],
 "metadata": {
  "kernelspec": {
   "display_name": "Python 3",
   "language": "python",
   "name": "python3"
  },
  "language_info": {
   "codemirror_mode": {
    "name": "ipython",
    "version": 3
   },
   "file_extension": ".py",
   "mimetype": "text/x-python",
   "name": "python",
   "nbconvert_exporter": "python",
   "pygments_lexer": "ipython3",
   "version": "3.6.8"
  }
 },
 "nbformat": 4,
 "nbformat_minor": 2
}
